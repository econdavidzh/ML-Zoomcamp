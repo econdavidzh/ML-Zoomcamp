{
  "nbformat": 4,
  "nbformat_minor": 0,
  "metadata": {
    "colab": {
      "name": "ML Zoomcamp - Homework #3.ipynb",
      "provenance": [],
      "collapsed_sections": []
    },
    "kernelspec": {
      "name": "python3",
      "display_name": "Python 3"
    },
    "language_info": {
      "name": "python"
    }
  },
  "cells": [
    {
      "cell_type": "code",
      "metadata": {
        "colab": {
          "base_uri": "https://localhost:8080/"
        },
        "id": "OcEDvCQ68u2N",
        "outputId": "2ff23366-d1e3-46f8-942d-323fc4e7b3df"
      },
      "source": [
        "!pip install wget"
      ],
      "execution_count": 1,
      "outputs": [
        {
          "output_type": "stream",
          "name": "stdout",
          "text": [
            "Collecting wget\n",
            "  Downloading wget-3.2.zip (10 kB)\n",
            "Building wheels for collected packages: wget\n",
            "  Building wheel for wget (setup.py) ... \u001b[?25l\u001b[?25hdone\n",
            "  Created wheel for wget: filename=wget-3.2-py3-none-any.whl size=9672 sha256=7d0e61ca5f5414e08573985d8c0f9c09cb320627c76e2d93a3fd97c416d17856\n",
            "  Stored in directory: /root/.cache/pip/wheels/a1/b6/7c/0e63e34eb06634181c63adacca38b79ff8f35c37e3c13e3c02\n",
            "Successfully built wget\n",
            "Installing collected packages: wget\n",
            "Successfully installed wget-3.2\n"
          ]
        }
      ]
    },
    {
      "cell_type": "code",
      "metadata": {
        "id": "VpgbGhVJ84Fu"
      },
      "source": [
        "import numpy as np\n",
        "import pandas as pd\n",
        "import matplotlib.pyplot as plt\n",
        "import seaborn as sns\n",
        "import wget\n",
        "pd.options.display.float_format = '{:,.4f}'.format"
      ],
      "execution_count": 2,
      "outputs": []
    },
    {
      "cell_type": "code",
      "metadata": {
        "colab": {
          "base_uri": "https://localhost:8080/",
          "height": 35
        },
        "id": "niDkx4QL9CCF",
        "outputId": "ffe22ce8-fc52-49fa-8f3b-0abe6b6288a3"
      },
      "source": [
        "# Getting the data:\n",
        "\n",
        "wget.download('https://raw.githubusercontent.com/alexeygrigorev/datasets/master/AB_NYC_2019.csv')"
      ],
      "execution_count": 3,
      "outputs": [
        {
          "output_type": "execute_result",
          "data": {
            "application/vnd.google.colaboratory.intrinsic+json": {
              "type": "string"
            },
            "text/plain": [
              "'AB_NYC_2019.csv'"
            ]
          },
          "metadata": {},
          "execution_count": 3
        }
      ]
    },
    {
      "cell_type": "code",
      "metadata": {
        "colab": {
          "base_uri": "https://localhost:8080/",
          "height": 813
        },
        "id": "FzvmS8Gp9M7i",
        "outputId": "cb1ba978-f5bc-4050-c254-45165627e08b"
      },
      "source": [
        "df = pd.read_csv('/content/AB_NYC_2019.csv')\n",
        "df"
      ],
      "execution_count": 4,
      "outputs": [
        {
          "output_type": "execute_result",
          "data": {
            "text/html": [
              "<div>\n",
              "<style scoped>\n",
              "    .dataframe tbody tr th:only-of-type {\n",
              "        vertical-align: middle;\n",
              "    }\n",
              "\n",
              "    .dataframe tbody tr th {\n",
              "        vertical-align: top;\n",
              "    }\n",
              "\n",
              "    .dataframe thead th {\n",
              "        text-align: right;\n",
              "    }\n",
              "</style>\n",
              "<table border=\"1\" class=\"dataframe\">\n",
              "  <thead>\n",
              "    <tr style=\"text-align: right;\">\n",
              "      <th></th>\n",
              "      <th>id</th>\n",
              "      <th>name</th>\n",
              "      <th>host_id</th>\n",
              "      <th>host_name</th>\n",
              "      <th>neighbourhood_group</th>\n",
              "      <th>neighbourhood</th>\n",
              "      <th>latitude</th>\n",
              "      <th>longitude</th>\n",
              "      <th>room_type</th>\n",
              "      <th>price</th>\n",
              "      <th>minimum_nights</th>\n",
              "      <th>number_of_reviews</th>\n",
              "      <th>last_review</th>\n",
              "      <th>reviews_per_month</th>\n",
              "      <th>calculated_host_listings_count</th>\n",
              "      <th>availability_365</th>\n",
              "    </tr>\n",
              "  </thead>\n",
              "  <tbody>\n",
              "    <tr>\n",
              "      <th>0</th>\n",
              "      <td>2539</td>\n",
              "      <td>Clean &amp; quiet apt home by the park</td>\n",
              "      <td>2787</td>\n",
              "      <td>John</td>\n",
              "      <td>Brooklyn</td>\n",
              "      <td>Kensington</td>\n",
              "      <td>40.6475</td>\n",
              "      <td>-73.9724</td>\n",
              "      <td>Private room</td>\n",
              "      <td>149</td>\n",
              "      <td>1</td>\n",
              "      <td>9</td>\n",
              "      <td>2018-10-19</td>\n",
              "      <td>0.2100</td>\n",
              "      <td>6</td>\n",
              "      <td>365</td>\n",
              "    </tr>\n",
              "    <tr>\n",
              "      <th>1</th>\n",
              "      <td>2595</td>\n",
              "      <td>Skylit Midtown Castle</td>\n",
              "      <td>2845</td>\n",
              "      <td>Jennifer</td>\n",
              "      <td>Manhattan</td>\n",
              "      <td>Midtown</td>\n",
              "      <td>40.7536</td>\n",
              "      <td>-73.9838</td>\n",
              "      <td>Entire home/apt</td>\n",
              "      <td>225</td>\n",
              "      <td>1</td>\n",
              "      <td>45</td>\n",
              "      <td>2019-05-21</td>\n",
              "      <td>0.3800</td>\n",
              "      <td>2</td>\n",
              "      <td>355</td>\n",
              "    </tr>\n",
              "    <tr>\n",
              "      <th>2</th>\n",
              "      <td>3647</td>\n",
              "      <td>THE VILLAGE OF HARLEM....NEW YORK !</td>\n",
              "      <td>4632</td>\n",
              "      <td>Elisabeth</td>\n",
              "      <td>Manhattan</td>\n",
              "      <td>Harlem</td>\n",
              "      <td>40.8090</td>\n",
              "      <td>-73.9419</td>\n",
              "      <td>Private room</td>\n",
              "      <td>150</td>\n",
              "      <td>3</td>\n",
              "      <td>0</td>\n",
              "      <td>NaN</td>\n",
              "      <td>nan</td>\n",
              "      <td>1</td>\n",
              "      <td>365</td>\n",
              "    </tr>\n",
              "    <tr>\n",
              "      <th>3</th>\n",
              "      <td>3831</td>\n",
              "      <td>Cozy Entire Floor of Brownstone</td>\n",
              "      <td>4869</td>\n",
              "      <td>LisaRoxanne</td>\n",
              "      <td>Brooklyn</td>\n",
              "      <td>Clinton Hill</td>\n",
              "      <td>40.6851</td>\n",
              "      <td>-73.9598</td>\n",
              "      <td>Entire home/apt</td>\n",
              "      <td>89</td>\n",
              "      <td>1</td>\n",
              "      <td>270</td>\n",
              "      <td>2019-07-05</td>\n",
              "      <td>4.6400</td>\n",
              "      <td>1</td>\n",
              "      <td>194</td>\n",
              "    </tr>\n",
              "    <tr>\n",
              "      <th>4</th>\n",
              "      <td>5022</td>\n",
              "      <td>Entire Apt: Spacious Studio/Loft by central park</td>\n",
              "      <td>7192</td>\n",
              "      <td>Laura</td>\n",
              "      <td>Manhattan</td>\n",
              "      <td>East Harlem</td>\n",
              "      <td>40.7985</td>\n",
              "      <td>-73.9440</td>\n",
              "      <td>Entire home/apt</td>\n",
              "      <td>80</td>\n",
              "      <td>10</td>\n",
              "      <td>9</td>\n",
              "      <td>2018-11-19</td>\n",
              "      <td>0.1000</td>\n",
              "      <td>1</td>\n",
              "      <td>0</td>\n",
              "    </tr>\n",
              "    <tr>\n",
              "      <th>...</th>\n",
              "      <td>...</td>\n",
              "      <td>...</td>\n",
              "      <td>...</td>\n",
              "      <td>...</td>\n",
              "      <td>...</td>\n",
              "      <td>...</td>\n",
              "      <td>...</td>\n",
              "      <td>...</td>\n",
              "      <td>...</td>\n",
              "      <td>...</td>\n",
              "      <td>...</td>\n",
              "      <td>...</td>\n",
              "      <td>...</td>\n",
              "      <td>...</td>\n",
              "      <td>...</td>\n",
              "      <td>...</td>\n",
              "    </tr>\n",
              "    <tr>\n",
              "      <th>48890</th>\n",
              "      <td>36484665</td>\n",
              "      <td>Charming one bedroom - newly renovated rowhouse</td>\n",
              "      <td>8232441</td>\n",
              "      <td>Sabrina</td>\n",
              "      <td>Brooklyn</td>\n",
              "      <td>Bedford-Stuyvesant</td>\n",
              "      <td>40.6785</td>\n",
              "      <td>-73.9500</td>\n",
              "      <td>Private room</td>\n",
              "      <td>70</td>\n",
              "      <td>2</td>\n",
              "      <td>0</td>\n",
              "      <td>NaN</td>\n",
              "      <td>nan</td>\n",
              "      <td>2</td>\n",
              "      <td>9</td>\n",
              "    </tr>\n",
              "    <tr>\n",
              "      <th>48891</th>\n",
              "      <td>36485057</td>\n",
              "      <td>Affordable room in Bushwick/East Williamsburg</td>\n",
              "      <td>6570630</td>\n",
              "      <td>Marisol</td>\n",
              "      <td>Brooklyn</td>\n",
              "      <td>Bushwick</td>\n",
              "      <td>40.7018</td>\n",
              "      <td>-73.9332</td>\n",
              "      <td>Private room</td>\n",
              "      <td>40</td>\n",
              "      <td>4</td>\n",
              "      <td>0</td>\n",
              "      <td>NaN</td>\n",
              "      <td>nan</td>\n",
              "      <td>2</td>\n",
              "      <td>36</td>\n",
              "    </tr>\n",
              "    <tr>\n",
              "      <th>48892</th>\n",
              "      <td>36485431</td>\n",
              "      <td>Sunny Studio at Historical Neighborhood</td>\n",
              "      <td>23492952</td>\n",
              "      <td>Ilgar &amp; Aysel</td>\n",
              "      <td>Manhattan</td>\n",
              "      <td>Harlem</td>\n",
              "      <td>40.8147</td>\n",
              "      <td>-73.9487</td>\n",
              "      <td>Entire home/apt</td>\n",
              "      <td>115</td>\n",
              "      <td>10</td>\n",
              "      <td>0</td>\n",
              "      <td>NaN</td>\n",
              "      <td>nan</td>\n",
              "      <td>1</td>\n",
              "      <td>27</td>\n",
              "    </tr>\n",
              "    <tr>\n",
              "      <th>48893</th>\n",
              "      <td>36485609</td>\n",
              "      <td>43rd St. Time Square-cozy single bed</td>\n",
              "      <td>30985759</td>\n",
              "      <td>Taz</td>\n",
              "      <td>Manhattan</td>\n",
              "      <td>Hell's Kitchen</td>\n",
              "      <td>40.7575</td>\n",
              "      <td>-73.9911</td>\n",
              "      <td>Shared room</td>\n",
              "      <td>55</td>\n",
              "      <td>1</td>\n",
              "      <td>0</td>\n",
              "      <td>NaN</td>\n",
              "      <td>nan</td>\n",
              "      <td>6</td>\n",
              "      <td>2</td>\n",
              "    </tr>\n",
              "    <tr>\n",
              "      <th>48894</th>\n",
              "      <td>36487245</td>\n",
              "      <td>Trendy duplex in the very heart of Hell's Kitchen</td>\n",
              "      <td>68119814</td>\n",
              "      <td>Christophe</td>\n",
              "      <td>Manhattan</td>\n",
              "      <td>Hell's Kitchen</td>\n",
              "      <td>40.7640</td>\n",
              "      <td>-73.9893</td>\n",
              "      <td>Private room</td>\n",
              "      <td>90</td>\n",
              "      <td>7</td>\n",
              "      <td>0</td>\n",
              "      <td>NaN</td>\n",
              "      <td>nan</td>\n",
              "      <td>1</td>\n",
              "      <td>23</td>\n",
              "    </tr>\n",
              "  </tbody>\n",
              "</table>\n",
              "<p>48895 rows × 16 columns</p>\n",
              "</div>"
            ],
            "text/plain": [
              "             id  ... availability_365\n",
              "0          2539  ...              365\n",
              "1          2595  ...              355\n",
              "2          3647  ...              365\n",
              "3          3831  ...              194\n",
              "4          5022  ...                0\n",
              "...         ...  ...              ...\n",
              "48890  36484665  ...                9\n",
              "48891  36485057  ...               36\n",
              "48892  36485431  ...               27\n",
              "48893  36485609  ...                2\n",
              "48894  36487245  ...               23\n",
              "\n",
              "[48895 rows x 16 columns]"
            ]
          },
          "metadata": {},
          "execution_count": 4
        }
      ]
    },
    {
      "cell_type": "code",
      "metadata": {
        "id": "Ng2g80p89jCz"
      },
      "source": [
        "# Fixing df's text\n",
        "\n",
        "df.columns = df.columns.str.lower().str.replace(' ', '_')\n",
        "\n",
        "string_columns = list(df.dtypes[df.dtypes == 'object'].index)\n",
        "\n",
        "for col in string_columns:\n",
        "    df[col] = df[col].str.lower().str.replace(' ', '_')"
      ],
      "execution_count": 5,
      "outputs": []
    },
    {
      "cell_type": "code",
      "metadata": {
        "id": "HJ5UczXi9kGn"
      },
      "source": [
        "df = df.fillna(0)"
      ],
      "execution_count": 6,
      "outputs": []
    },
    {
      "cell_type": "code",
      "metadata": {
        "colab": {
          "base_uri": "https://localhost:8080/",
          "height": 317
        },
        "id": "5k5OD8nt9kaX",
        "outputId": "fa714607-a622-4e1c-a99c-bbf99e799c83"
      },
      "source": [
        "df.describe()"
      ],
      "execution_count": 7,
      "outputs": [
        {
          "output_type": "execute_result",
          "data": {
            "text/html": [
              "<div>\n",
              "<style scoped>\n",
              "    .dataframe tbody tr th:only-of-type {\n",
              "        vertical-align: middle;\n",
              "    }\n",
              "\n",
              "    .dataframe tbody tr th {\n",
              "        vertical-align: top;\n",
              "    }\n",
              "\n",
              "    .dataframe thead th {\n",
              "        text-align: right;\n",
              "    }\n",
              "</style>\n",
              "<table border=\"1\" class=\"dataframe\">\n",
              "  <thead>\n",
              "    <tr style=\"text-align: right;\">\n",
              "      <th></th>\n",
              "      <th>id</th>\n",
              "      <th>host_id</th>\n",
              "      <th>latitude</th>\n",
              "      <th>longitude</th>\n",
              "      <th>price</th>\n",
              "      <th>minimum_nights</th>\n",
              "      <th>number_of_reviews</th>\n",
              "      <th>reviews_per_month</th>\n",
              "      <th>calculated_host_listings_count</th>\n",
              "      <th>availability_365</th>\n",
              "    </tr>\n",
              "  </thead>\n",
              "  <tbody>\n",
              "    <tr>\n",
              "      <th>count</th>\n",
              "      <td>48,895.0000</td>\n",
              "      <td>48,895.0000</td>\n",
              "      <td>48,895.0000</td>\n",
              "      <td>48,895.0000</td>\n",
              "      <td>48,895.0000</td>\n",
              "      <td>48,895.0000</td>\n",
              "      <td>48,895.0000</td>\n",
              "      <td>48,895.0000</td>\n",
              "      <td>48,895.0000</td>\n",
              "      <td>48,895.0000</td>\n",
              "    </tr>\n",
              "    <tr>\n",
              "      <th>mean</th>\n",
              "      <td>19,017,143.2362</td>\n",
              "      <td>67,620,010.6466</td>\n",
              "      <td>40.7289</td>\n",
              "      <td>-73.9522</td>\n",
              "      <td>152.7207</td>\n",
              "      <td>7.0300</td>\n",
              "      <td>23.2745</td>\n",
              "      <td>1.0909</td>\n",
              "      <td>7.1440</td>\n",
              "      <td>112.7813</td>\n",
              "    </tr>\n",
              "    <tr>\n",
              "      <th>std</th>\n",
              "      <td>10,983,108.3856</td>\n",
              "      <td>78,610,967.0327</td>\n",
              "      <td>0.0545</td>\n",
              "      <td>0.0462</td>\n",
              "      <td>240.1542</td>\n",
              "      <td>20.5105</td>\n",
              "      <td>44.5506</td>\n",
              "      <td>1.5973</td>\n",
              "      <td>32.9525</td>\n",
              "      <td>131.6223</td>\n",
              "    </tr>\n",
              "    <tr>\n",
              "      <th>min</th>\n",
              "      <td>2,539.0000</td>\n",
              "      <td>2,438.0000</td>\n",
              "      <td>40.4998</td>\n",
              "      <td>-74.2444</td>\n",
              "      <td>0.0000</td>\n",
              "      <td>1.0000</td>\n",
              "      <td>0.0000</td>\n",
              "      <td>0.0000</td>\n",
              "      <td>1.0000</td>\n",
              "      <td>0.0000</td>\n",
              "    </tr>\n",
              "    <tr>\n",
              "      <th>25%</th>\n",
              "      <td>9,471,945.0000</td>\n",
              "      <td>7,822,033.0000</td>\n",
              "      <td>40.6901</td>\n",
              "      <td>-73.9831</td>\n",
              "      <td>69.0000</td>\n",
              "      <td>1.0000</td>\n",
              "      <td>1.0000</td>\n",
              "      <td>0.0400</td>\n",
              "      <td>1.0000</td>\n",
              "      <td>0.0000</td>\n",
              "    </tr>\n",
              "    <tr>\n",
              "      <th>50%</th>\n",
              "      <td>19,677,284.0000</td>\n",
              "      <td>30,793,816.0000</td>\n",
              "      <td>40.7231</td>\n",
              "      <td>-73.9557</td>\n",
              "      <td>106.0000</td>\n",
              "      <td>3.0000</td>\n",
              "      <td>5.0000</td>\n",
              "      <td>0.3700</td>\n",
              "      <td>1.0000</td>\n",
              "      <td>45.0000</td>\n",
              "    </tr>\n",
              "    <tr>\n",
              "      <th>75%</th>\n",
              "      <td>29,152,178.5000</td>\n",
              "      <td>107,434,423.0000</td>\n",
              "      <td>40.7631</td>\n",
              "      <td>-73.9363</td>\n",
              "      <td>175.0000</td>\n",
              "      <td>5.0000</td>\n",
              "      <td>24.0000</td>\n",
              "      <td>1.5800</td>\n",
              "      <td>2.0000</td>\n",
              "      <td>227.0000</td>\n",
              "    </tr>\n",
              "    <tr>\n",
              "      <th>max</th>\n",
              "      <td>36,487,245.0000</td>\n",
              "      <td>274,321,313.0000</td>\n",
              "      <td>40.9131</td>\n",
              "      <td>-73.7130</td>\n",
              "      <td>10,000.0000</td>\n",
              "      <td>1,250.0000</td>\n",
              "      <td>629.0000</td>\n",
              "      <td>58.5000</td>\n",
              "      <td>327.0000</td>\n",
              "      <td>365.0000</td>\n",
              "    </tr>\n",
              "  </tbody>\n",
              "</table>\n",
              "</div>"
            ],
            "text/plain": [
              "                   id  ...  availability_365\n",
              "count     48,895.0000  ...       48,895.0000\n",
              "mean  19,017,143.2362  ...          112.7813\n",
              "std   10,983,108.3856  ...          131.6223\n",
              "min        2,539.0000  ...            0.0000\n",
              "25%    9,471,945.0000  ...            0.0000\n",
              "50%   19,677,284.0000  ...           45.0000\n",
              "75%   29,152,178.5000  ...          227.0000\n",
              "max   36,487,245.0000  ...          365.0000\n",
              "\n",
              "[8 rows x 10 columns]"
            ]
          },
          "metadata": {},
          "execution_count": 7
        }
      ]
    },
    {
      "cell_type": "code",
      "metadata": {
        "colab": {
          "base_uri": "https://localhost:8080/"
        },
        "id": "blIk_uKrC0cQ",
        "outputId": "17a6e2b9-07df-4230-9d7b-43d8477b58dd"
      },
      "source": [
        "df.dtypes"
      ],
      "execution_count": 8,
      "outputs": [
        {
          "output_type": "execute_result",
          "data": {
            "text/plain": [
              "id                                  int64\n",
              "name                               object\n",
              "host_id                             int64\n",
              "host_name                          object\n",
              "neighbourhood_group                object\n",
              "neighbourhood                      object\n",
              "latitude                          float64\n",
              "longitude                         float64\n",
              "room_type                          object\n",
              "price                               int64\n",
              "minimum_nights                      int64\n",
              "number_of_reviews                   int64\n",
              "last_review                        object\n",
              "reviews_per_month                 float64\n",
              "calculated_host_listings_count      int64\n",
              "availability_365                    int64\n",
              "dtype: object"
            ]
          },
          "metadata": {},
          "execution_count": 8
        }
      ]
    },
    {
      "cell_type": "code",
      "metadata": {
        "id": "mucelMPa9mAh"
      },
      "source": [
        "features = ['neighbourhood_group',\n",
        "            'room_type',\n",
        "            'latitude',\n",
        "            'longitude',\n",
        "            'price',\n",
        "            'minimum_nights',\n",
        "            'number_of_reviews',\n",
        "            'reviews_per_month',\n",
        "            'calculated_host_listings_count',\n",
        "            'availability_365']"
      ],
      "execution_count": 9,
      "outputs": []
    },
    {
      "cell_type": "code",
      "metadata": {
        "id": "CgJ6x4r9GGPs"
      },
      "source": [
        "features_r = ['neighbourhood_group',\n",
        "            'room_type',\n",
        "            'latitude',\n",
        "            'longitude',\n",
        "            'minimum_nights',\n",
        "            'number_of_reviews',\n",
        "            'reviews_per_month',\n",
        "            'calculated_host_listings_count',\n",
        "            'availability_365']"
      ],
      "execution_count": 10,
      "outputs": []
    },
    {
      "cell_type": "code",
      "metadata": {
        "colab": {
          "base_uri": "https://localhost:8080/"
        },
        "id": "QKx5sPHO-bkX",
        "outputId": "493b209e-081e-44b0-d3a2-c9e358ceb51c"
      },
      "source": [
        "df[features].isnull().sum()"
      ],
      "execution_count": 11,
      "outputs": [
        {
          "output_type": "execute_result",
          "data": {
            "text/plain": [
              "neighbourhood_group               0\n",
              "room_type                         0\n",
              "latitude                          0\n",
              "longitude                         0\n",
              "price                             0\n",
              "minimum_nights                    0\n",
              "number_of_reviews                 0\n",
              "reviews_per_month                 0\n",
              "calculated_host_listings_count    0\n",
              "availability_365                  0\n",
              "dtype: int64"
            ]
          },
          "metadata": {},
          "execution_count": 11
        }
      ]
    },
    {
      "cell_type": "markdown",
      "metadata": {
        "id": "AMzbu3Aa93Sg"
      },
      "source": [
        "Question 1:\n",
        "\n",
        "What is the most frequent observation (mode) for the column 'neighbourhood_group'?"
      ]
    },
    {
      "cell_type": "code",
      "metadata": {
        "colab": {
          "base_uri": "https://localhost:8080/"
        },
        "id": "lgKyv5IG94be",
        "outputId": "efa26271-f6a5-4753-9264-c66ad36d445e"
      },
      "source": [
        "df.neighbourhood_group.describe()"
      ],
      "execution_count": 12,
      "outputs": [
        {
          "output_type": "execute_result",
          "data": {
            "text/plain": [
              "count         48895\n",
              "unique            5\n",
              "top       manhattan\n",
              "freq          21661\n",
              "Name: neighbourhood_group, dtype: object"
            ]
          },
          "metadata": {},
          "execution_count": 12
        }
      ]
    },
    {
      "cell_type": "code",
      "metadata": {
        "colab": {
          "base_uri": "https://localhost:8080/",
          "height": 255
        },
        "id": "byHUjAio-BD8",
        "outputId": "2c2d3deb-8be3-43c5-efd2-209888f1ca5d"
      },
      "source": [
        "df.groupby(by = 'neighbourhood_group', axis = 0).count()"
      ],
      "execution_count": 13,
      "outputs": [
        {
          "output_type": "execute_result",
          "data": {
            "text/html": [
              "<div>\n",
              "<style scoped>\n",
              "    .dataframe tbody tr th:only-of-type {\n",
              "        vertical-align: middle;\n",
              "    }\n",
              "\n",
              "    .dataframe tbody tr th {\n",
              "        vertical-align: top;\n",
              "    }\n",
              "\n",
              "    .dataframe thead th {\n",
              "        text-align: right;\n",
              "    }\n",
              "</style>\n",
              "<table border=\"1\" class=\"dataframe\">\n",
              "  <thead>\n",
              "    <tr style=\"text-align: right;\">\n",
              "      <th></th>\n",
              "      <th>id</th>\n",
              "      <th>name</th>\n",
              "      <th>host_id</th>\n",
              "      <th>host_name</th>\n",
              "      <th>neighbourhood</th>\n",
              "      <th>latitude</th>\n",
              "      <th>longitude</th>\n",
              "      <th>room_type</th>\n",
              "      <th>price</th>\n",
              "      <th>minimum_nights</th>\n",
              "      <th>number_of_reviews</th>\n",
              "      <th>last_review</th>\n",
              "      <th>reviews_per_month</th>\n",
              "      <th>calculated_host_listings_count</th>\n",
              "      <th>availability_365</th>\n",
              "    </tr>\n",
              "    <tr>\n",
              "      <th>neighbourhood_group</th>\n",
              "      <th></th>\n",
              "      <th></th>\n",
              "      <th></th>\n",
              "      <th></th>\n",
              "      <th></th>\n",
              "      <th></th>\n",
              "      <th></th>\n",
              "      <th></th>\n",
              "      <th></th>\n",
              "      <th></th>\n",
              "      <th></th>\n",
              "      <th></th>\n",
              "      <th></th>\n",
              "      <th></th>\n",
              "      <th></th>\n",
              "    </tr>\n",
              "  </thead>\n",
              "  <tbody>\n",
              "    <tr>\n",
              "      <th>bronx</th>\n",
              "      <td>1091</td>\n",
              "      <td>1091</td>\n",
              "      <td>1091</td>\n",
              "      <td>1091</td>\n",
              "      <td>1091</td>\n",
              "      <td>1091</td>\n",
              "      <td>1091</td>\n",
              "      <td>1091</td>\n",
              "      <td>1091</td>\n",
              "      <td>1091</td>\n",
              "      <td>1091</td>\n",
              "      <td>1091</td>\n",
              "      <td>1091</td>\n",
              "      <td>1091</td>\n",
              "      <td>1091</td>\n",
              "    </tr>\n",
              "    <tr>\n",
              "      <th>brooklyn</th>\n",
              "      <td>20104</td>\n",
              "      <td>20104</td>\n",
              "      <td>20104</td>\n",
              "      <td>20104</td>\n",
              "      <td>20104</td>\n",
              "      <td>20104</td>\n",
              "      <td>20104</td>\n",
              "      <td>20104</td>\n",
              "      <td>20104</td>\n",
              "      <td>20104</td>\n",
              "      <td>20104</td>\n",
              "      <td>20104</td>\n",
              "      <td>20104</td>\n",
              "      <td>20104</td>\n",
              "      <td>20104</td>\n",
              "    </tr>\n",
              "    <tr>\n",
              "      <th>manhattan</th>\n",
              "      <td>21661</td>\n",
              "      <td>21661</td>\n",
              "      <td>21661</td>\n",
              "      <td>21661</td>\n",
              "      <td>21661</td>\n",
              "      <td>21661</td>\n",
              "      <td>21661</td>\n",
              "      <td>21661</td>\n",
              "      <td>21661</td>\n",
              "      <td>21661</td>\n",
              "      <td>21661</td>\n",
              "      <td>21661</td>\n",
              "      <td>21661</td>\n",
              "      <td>21661</td>\n",
              "      <td>21661</td>\n",
              "    </tr>\n",
              "    <tr>\n",
              "      <th>queens</th>\n",
              "      <td>5666</td>\n",
              "      <td>5666</td>\n",
              "      <td>5666</td>\n",
              "      <td>5666</td>\n",
              "      <td>5666</td>\n",
              "      <td>5666</td>\n",
              "      <td>5666</td>\n",
              "      <td>5666</td>\n",
              "      <td>5666</td>\n",
              "      <td>5666</td>\n",
              "      <td>5666</td>\n",
              "      <td>5666</td>\n",
              "      <td>5666</td>\n",
              "      <td>5666</td>\n",
              "      <td>5666</td>\n",
              "    </tr>\n",
              "    <tr>\n",
              "      <th>staten_island</th>\n",
              "      <td>373</td>\n",
              "      <td>373</td>\n",
              "      <td>373</td>\n",
              "      <td>373</td>\n",
              "      <td>373</td>\n",
              "      <td>373</td>\n",
              "      <td>373</td>\n",
              "      <td>373</td>\n",
              "      <td>373</td>\n",
              "      <td>373</td>\n",
              "      <td>373</td>\n",
              "      <td>373</td>\n",
              "      <td>373</td>\n",
              "      <td>373</td>\n",
              "      <td>373</td>\n",
              "    </tr>\n",
              "  </tbody>\n",
              "</table>\n",
              "</div>"
            ],
            "text/plain": [
              "                        id  ...  availability_365\n",
              "neighbourhood_group         ...                  \n",
              "bronx                 1091  ...              1091\n",
              "brooklyn             20104  ...             20104\n",
              "manhattan            21661  ...             21661\n",
              "queens                5666  ...              5666\n",
              "staten_island          373  ...               373\n",
              "\n",
              "[5 rows x 15 columns]"
            ]
          },
          "metadata": {},
          "execution_count": 13
        }
      ]
    },
    {
      "cell_type": "markdown",
      "metadata": {
        "id": "gk2akAQm-kgA"
      },
      "source": [
        "Split the data:\n",
        "\n",
        "Split your data in train/val/test sets, with 60%/20%/20% distribution.\n",
        "Use Scikit-Learn for that (the train_test_split function) and set the seed to 42.\n",
        "Make sure that the target value ('price') is not in your dataframe."
      ]
    },
    {
      "cell_type": "code",
      "metadata": {
        "id": "y8SRvQ5C-Mik"
      },
      "source": [
        "import sklearn\n",
        "import sklearn.model_selection\n",
        "from sklearn.model_selection import train_test_split"
      ],
      "execution_count": 14,
      "outputs": []
    },
    {
      "cell_type": "code",
      "metadata": {
        "id": "oUAXPbBtEZNV"
      },
      "source": [
        "df_train_full, df_test = train_test_split(df, test_size = 0.2, random_state=42)"
      ],
      "execution_count": 15,
      "outputs": []
    },
    {
      "cell_type": "code",
      "metadata": {
        "colab": {
          "base_uri": "https://localhost:8080/"
        },
        "id": "0TQW9TqjFPvJ",
        "outputId": "693a6203-2344-4306-f450-bf9933cf62a0"
      },
      "source": [
        "len(df_train_full), len(df_test)"
      ],
      "execution_count": 16,
      "outputs": [
        {
          "output_type": "execute_result",
          "data": {
            "text/plain": [
              "(39116, 9779)"
            ]
          },
          "metadata": {},
          "execution_count": 16
        }
      ]
    },
    {
      "cell_type": "code",
      "metadata": {
        "id": "KpGfUmrXEtKH"
      },
      "source": [
        "df_train, df_val = train_test_split(df_train_full, test_size = 0.25, random_state=42)"
      ],
      "execution_count": 17,
      "outputs": []
    },
    {
      "cell_type": "code",
      "metadata": {
        "colab": {
          "base_uri": "https://localhost:8080/"
        },
        "id": "k2XH_o31Et9z",
        "outputId": "d33d1939-0e52-4c67-b090-5b3f13ebba84"
      },
      "source": [
        "len(df_train), len(df_val)"
      ],
      "execution_count": 18,
      "outputs": [
        {
          "output_type": "execute_result",
          "data": {
            "text/plain": [
              "(29337, 9779)"
            ]
          },
          "metadata": {},
          "execution_count": 18
        }
      ]
    },
    {
      "cell_type": "code",
      "metadata": {
        "id": "GJbb2kiwFaaS"
      },
      "source": [
        "df_train = df_train.reset_index(drop=True)\n",
        "df_val = df_val.reset_index(drop=True)\n",
        "df_test = df_test.reset_index(drop=True)\n",
        "\n",
        "y_train = df_train.price\n",
        "y_val = df_val.price\n",
        "y_test = df_test.price\n",
        "\n",
        "df_train = df_train[features_r]\n",
        "df_val = df_val[features_r]\n",
        "df_test = df_test[features_r]"
      ],
      "execution_count": 19,
      "outputs": []
    },
    {
      "cell_type": "markdown",
      "metadata": {
        "id": "GB7tYusvGjH4"
      },
      "source": [
        "Question 2:\n",
        "\n",
        "Create the correlation matrix for the numerical features of your train dataset.\n",
        "In a correlation matrix, you compute the correlation coefficient between every pair of features in the dataset.\n",
        "\n",
        "What are the two features that have the biggest correlation in this dataset?"
      ]
    },
    {
      "cell_type": "code",
      "metadata": {
        "colab": {
          "base_uri": "https://localhost:8080/",
          "height": 286
        },
        "id": "4nHO3rcSFneI",
        "outputId": "fd0f7e1f-74e1-4b44-8215-02bd485c7da0"
      },
      "source": [
        "train_corr = df_train.corr()\n",
        "train_corr"
      ],
      "execution_count": 20,
      "outputs": [
        {
          "output_type": "execute_result",
          "data": {
            "text/html": [
              "<div>\n",
              "<style scoped>\n",
              "    .dataframe tbody tr th:only-of-type {\n",
              "        vertical-align: middle;\n",
              "    }\n",
              "\n",
              "    .dataframe tbody tr th {\n",
              "        vertical-align: top;\n",
              "    }\n",
              "\n",
              "    .dataframe thead th {\n",
              "        text-align: right;\n",
              "    }\n",
              "</style>\n",
              "<table border=\"1\" class=\"dataframe\">\n",
              "  <thead>\n",
              "    <tr style=\"text-align: right;\">\n",
              "      <th></th>\n",
              "      <th>latitude</th>\n",
              "      <th>longitude</th>\n",
              "      <th>minimum_nights</th>\n",
              "      <th>number_of_reviews</th>\n",
              "      <th>reviews_per_month</th>\n",
              "      <th>calculated_host_listings_count</th>\n",
              "      <th>availability_365</th>\n",
              "    </tr>\n",
              "  </thead>\n",
              "  <tbody>\n",
              "    <tr>\n",
              "      <th>latitude</th>\n",
              "      <td>1.0000</td>\n",
              "      <td>0.0803</td>\n",
              "      <td>0.0274</td>\n",
              "      <td>-0.0062</td>\n",
              "      <td>-0.0072</td>\n",
              "      <td>0.0194</td>\n",
              "      <td>-0.0059</td>\n",
              "    </tr>\n",
              "    <tr>\n",
              "      <th>longitude</th>\n",
              "      <td>0.0803</td>\n",
              "      <td>1.0000</td>\n",
              "      <td>-0.0607</td>\n",
              "      <td>0.0551</td>\n",
              "      <td>0.1346</td>\n",
              "      <td>-0.1170</td>\n",
              "      <td>0.0837</td>\n",
              "    </tr>\n",
              "    <tr>\n",
              "      <th>minimum_nights</th>\n",
              "      <td>0.0274</td>\n",
              "      <td>-0.0607</td>\n",
              "      <td>1.0000</td>\n",
              "      <td>-0.0760</td>\n",
              "      <td>-0.1207</td>\n",
              "      <td>0.1186</td>\n",
              "      <td>0.1389</td>\n",
              "    </tr>\n",
              "    <tr>\n",
              "      <th>number_of_reviews</th>\n",
              "      <td>-0.0062</td>\n",
              "      <td>0.0551</td>\n",
              "      <td>-0.0760</td>\n",
              "      <td>1.0000</td>\n",
              "      <td>0.5904</td>\n",
              "      <td>-0.0732</td>\n",
              "      <td>0.1745</td>\n",
              "    </tr>\n",
              "    <tr>\n",
              "      <th>reviews_per_month</th>\n",
              "      <td>-0.0072</td>\n",
              "      <td>0.1346</td>\n",
              "      <td>-0.1207</td>\n",
              "      <td>0.5904</td>\n",
              "      <td>1.0000</td>\n",
              "      <td>-0.0488</td>\n",
              "      <td>0.1654</td>\n",
              "    </tr>\n",
              "    <tr>\n",
              "      <th>calculated_host_listings_count</th>\n",
              "      <td>0.0194</td>\n",
              "      <td>-0.1170</td>\n",
              "      <td>0.1186</td>\n",
              "      <td>-0.0732</td>\n",
              "      <td>-0.0488</td>\n",
              "      <td>1.0000</td>\n",
              "      <td>0.2259</td>\n",
              "    </tr>\n",
              "    <tr>\n",
              "      <th>availability_365</th>\n",
              "      <td>-0.0059</td>\n",
              "      <td>0.0837</td>\n",
              "      <td>0.1389</td>\n",
              "      <td>0.1745</td>\n",
              "      <td>0.1654</td>\n",
              "      <td>0.2259</td>\n",
              "      <td>1.0000</td>\n",
              "    </tr>\n",
              "  </tbody>\n",
              "</table>\n",
              "</div>"
            ],
            "text/plain": [
              "                                latitude  ...  availability_365\n",
              "latitude                          1.0000  ...           -0.0059\n",
              "longitude                         0.0803  ...            0.0837\n",
              "minimum_nights                    0.0274  ...            0.1389\n",
              "number_of_reviews                -0.0062  ...            0.1745\n",
              "reviews_per_month                -0.0072  ...            0.1654\n",
              "calculated_host_listings_count    0.0194  ...            0.2259\n",
              "availability_365                 -0.0059  ...            1.0000\n",
              "\n",
              "[7 rows x 7 columns]"
            ]
          },
          "metadata": {},
          "execution_count": 20
        }
      ]
    },
    {
      "cell_type": "code",
      "metadata": {
        "colab": {
          "base_uri": "https://localhost:8080/"
        },
        "id": "JS0Om2bDHaSF",
        "outputId": "1bc267db-e065-481e-f3c0-12cb4e3781dc"
      },
      "source": [
        "features_r_num = train_corr.columns\n",
        "features_r_num"
      ],
      "execution_count": 21,
      "outputs": [
        {
          "output_type": "execute_result",
          "data": {
            "text/plain": [
              "Index(['latitude', 'longitude', 'minimum_nights', 'number_of_reviews',\n",
              "       'reviews_per_month', 'calculated_host_listings_count',\n",
              "       'availability_365'],\n",
              "      dtype='object')"
            ]
          },
          "metadata": {},
          "execution_count": 21
        }
      ]
    },
    {
      "cell_type": "code",
      "metadata": {
        "colab": {
          "base_uri": "https://localhost:8080/"
        },
        "id": "uCHvnCv3G9p7",
        "outputId": "a52da2d1-0550-46c7-eac7-1e24149d56d9"
      },
      "source": [
        "for i in features_r_num:\n",
        "  print(i, sorted(train_corr[i].to_list())[-2])"
      ],
      "execution_count": 22,
      "outputs": [
        {
          "output_type": "stream",
          "name": "stdout",
          "text": [
            "latitude 0.08030088258320403\n",
            "longitude 0.13464215986454384\n",
            "minimum_nights 0.13890125161845288\n",
            "number_of_reviews 0.5903739015971261\n",
            "reviews_per_month 0.5903739015971261\n",
            "calculated_host_listings_count 0.22591308547640782\n",
            "availability_365 0.22591308547640782\n"
          ]
        }
      ]
    },
    {
      "cell_type": "markdown",
      "metadata": {
        "id": "cqNmZA9gIyJZ"
      },
      "source": [
        "Question 3:\n",
        "\n",
        "Calculate the mutual information score for the two categorical variables that we have. Use the training set only.\n",
        "\n",
        "Which of these two variables has bigger score?\n",
        "Round it to 2 decimal digits using round(score, 2)"
      ]
    },
    {
      "cell_type": "code",
      "metadata": {
        "colab": {
          "base_uri": "https://localhost:8080/",
          "height": 545
        },
        "id": "YAhT0R07Kay1",
        "outputId": "78468bb3-3091-4a37-a9b5-0b82013f9421"
      },
      "source": [
        "features_r_cat = ['neighbourhood_group', 'room_type']\n",
        "pd.DataFrame(df_train[features_r_cat].value_counts())"
      ],
      "execution_count": 23,
      "outputs": [
        {
          "output_type": "execute_result",
          "data": {
            "text/html": [
              "<div>\n",
              "<style scoped>\n",
              "    .dataframe tbody tr th:only-of-type {\n",
              "        vertical-align: middle;\n",
              "    }\n",
              "\n",
              "    .dataframe tbody tr th {\n",
              "        vertical-align: top;\n",
              "    }\n",
              "\n",
              "    .dataframe thead th {\n",
              "        text-align: right;\n",
              "    }\n",
              "</style>\n",
              "<table border=\"1\" class=\"dataframe\">\n",
              "  <thead>\n",
              "    <tr style=\"text-align: right;\">\n",
              "      <th></th>\n",
              "      <th></th>\n",
              "      <th>0</th>\n",
              "    </tr>\n",
              "    <tr>\n",
              "      <th>neighbourhood_group</th>\n",
              "      <th>room_type</th>\n",
              "      <th></th>\n",
              "    </tr>\n",
              "  </thead>\n",
              "  <tbody>\n",
              "    <tr>\n",
              "      <th>manhattan</th>\n",
              "      <th>entire_home/apt</th>\n",
              "      <td>7980</td>\n",
              "    </tr>\n",
              "    <tr>\n",
              "      <th rowspan=\"2\" valign=\"top\">brooklyn</th>\n",
              "      <th>private_room</th>\n",
              "      <td>6083</td>\n",
              "    </tr>\n",
              "    <tr>\n",
              "      <th>entire_home/apt</th>\n",
              "      <td>5748</td>\n",
              "    </tr>\n",
              "    <tr>\n",
              "      <th>manhattan</th>\n",
              "      <th>private_room</th>\n",
              "      <td>4765</td>\n",
              "    </tr>\n",
              "    <tr>\n",
              "      <th rowspan=\"2\" valign=\"top\">queens</th>\n",
              "      <th>private_room</th>\n",
              "      <td>2025</td>\n",
              "    </tr>\n",
              "    <tr>\n",
              "      <th>entire_home/apt</th>\n",
              "      <td>1226</td>\n",
              "    </tr>\n",
              "    <tr>\n",
              "      <th>bronx</th>\n",
              "      <th>private_room</th>\n",
              "      <td>376</td>\n",
              "    </tr>\n",
              "    <tr>\n",
              "      <th>manhattan</th>\n",
              "      <th>shared_room</th>\n",
              "      <td>286</td>\n",
              "    </tr>\n",
              "    <tr>\n",
              "      <th>brooklyn</th>\n",
              "      <th>shared_room</th>\n",
              "      <td>247</td>\n",
              "    </tr>\n",
              "    <tr>\n",
              "      <th>bronx</th>\n",
              "      <th>entire_home/apt</th>\n",
              "      <td>231</td>\n",
              "    </tr>\n",
              "    <tr>\n",
              "      <th>queens</th>\n",
              "      <th>shared_room</th>\n",
              "      <td>113</td>\n",
              "    </tr>\n",
              "    <tr>\n",
              "      <th rowspan=\"2\" valign=\"top\">staten_island</th>\n",
              "      <th>private_room</th>\n",
              "      <td>111</td>\n",
              "    </tr>\n",
              "    <tr>\n",
              "      <th>entire_home/apt</th>\n",
              "      <td>101</td>\n",
              "    </tr>\n",
              "    <tr>\n",
              "      <th>bronx</th>\n",
              "      <th>shared_room</th>\n",
              "      <td>39</td>\n",
              "    </tr>\n",
              "    <tr>\n",
              "      <th>staten_island</th>\n",
              "      <th>shared_room</th>\n",
              "      <td>6</td>\n",
              "    </tr>\n",
              "  </tbody>\n",
              "</table>\n",
              "</div>"
            ],
            "text/plain": [
              "                                        0\n",
              "neighbourhood_group room_type            \n",
              "manhattan           entire_home/apt  7980\n",
              "brooklyn            private_room     6083\n",
              "                    entire_home/apt  5748\n",
              "manhattan           private_room     4765\n",
              "queens              private_room     2025\n",
              "                    entire_home/apt  1226\n",
              "bronx               private_room      376\n",
              "manhattan           shared_room       286\n",
              "brooklyn            shared_room       247\n",
              "bronx               entire_home/apt   231\n",
              "queens              shared_room       113\n",
              "staten_island       private_room      111\n",
              "                    entire_home/apt   101\n",
              "bronx               shared_room        39\n",
              "staten_island       shared_room         6"
            ]
          },
          "metadata": {},
          "execution_count": 23
        }
      ]
    },
    {
      "cell_type": "code",
      "metadata": {
        "colab": {
          "base_uri": "https://localhost:8080/",
          "height": 235
        },
        "id": "o1qsNsXsLkR4",
        "outputId": "dc4abd56-2d3c-44bd-f94e-354c3a23e1d2"
      },
      "source": [
        "pd.DataFrame(df_train[['room_type','neighbourhood_group']].groupby(by='neighbourhood_group').count())"
      ],
      "execution_count": 24,
      "outputs": [
        {
          "output_type": "execute_result",
          "data": {
            "text/html": [
              "<div>\n",
              "<style scoped>\n",
              "    .dataframe tbody tr th:only-of-type {\n",
              "        vertical-align: middle;\n",
              "    }\n",
              "\n",
              "    .dataframe tbody tr th {\n",
              "        vertical-align: top;\n",
              "    }\n",
              "\n",
              "    .dataframe thead th {\n",
              "        text-align: right;\n",
              "    }\n",
              "</style>\n",
              "<table border=\"1\" class=\"dataframe\">\n",
              "  <thead>\n",
              "    <tr style=\"text-align: right;\">\n",
              "      <th></th>\n",
              "      <th>room_type</th>\n",
              "    </tr>\n",
              "    <tr>\n",
              "      <th>neighbourhood_group</th>\n",
              "      <th></th>\n",
              "    </tr>\n",
              "  </thead>\n",
              "  <tbody>\n",
              "    <tr>\n",
              "      <th>bronx</th>\n",
              "      <td>646</td>\n",
              "    </tr>\n",
              "    <tr>\n",
              "      <th>brooklyn</th>\n",
              "      <td>12078</td>\n",
              "    </tr>\n",
              "    <tr>\n",
              "      <th>manhattan</th>\n",
              "      <td>13031</td>\n",
              "    </tr>\n",
              "    <tr>\n",
              "      <th>queens</th>\n",
              "      <td>3364</td>\n",
              "    </tr>\n",
              "    <tr>\n",
              "      <th>staten_island</th>\n",
              "      <td>218</td>\n",
              "    </tr>\n",
              "  </tbody>\n",
              "</table>\n",
              "</div>"
            ],
            "text/plain": [
              "                     room_type\n",
              "neighbourhood_group           \n",
              "bronx                      646\n",
              "brooklyn                 12078\n",
              "manhattan                13031\n",
              "queens                    3364\n",
              "staten_island              218"
            ]
          },
          "metadata": {},
          "execution_count": 24
        }
      ]
    },
    {
      "cell_type": "code",
      "metadata": {
        "colab": {
          "base_uri": "https://localhost:8080/",
          "height": 173
        },
        "id": "4Z1lvUlILBms",
        "outputId": "d64f1f84-b52e-4585-f7c6-1489f9443901"
      },
      "source": [
        "pd.DataFrame(df_train[['room_type','neighbourhood_group']].groupby(by='room_type').count())"
      ],
      "execution_count": 25,
      "outputs": [
        {
          "output_type": "execute_result",
          "data": {
            "text/html": [
              "<div>\n",
              "<style scoped>\n",
              "    .dataframe tbody tr th:only-of-type {\n",
              "        vertical-align: middle;\n",
              "    }\n",
              "\n",
              "    .dataframe tbody tr th {\n",
              "        vertical-align: top;\n",
              "    }\n",
              "\n",
              "    .dataframe thead th {\n",
              "        text-align: right;\n",
              "    }\n",
              "</style>\n",
              "<table border=\"1\" class=\"dataframe\">\n",
              "  <thead>\n",
              "    <tr style=\"text-align: right;\">\n",
              "      <th></th>\n",
              "      <th>neighbourhood_group</th>\n",
              "    </tr>\n",
              "    <tr>\n",
              "      <th>room_type</th>\n",
              "      <th></th>\n",
              "    </tr>\n",
              "  </thead>\n",
              "  <tbody>\n",
              "    <tr>\n",
              "      <th>entire_home/apt</th>\n",
              "      <td>15286</td>\n",
              "    </tr>\n",
              "    <tr>\n",
              "      <th>private_room</th>\n",
              "      <td>13360</td>\n",
              "    </tr>\n",
              "    <tr>\n",
              "      <th>shared_room</th>\n",
              "      <td>691</td>\n",
              "    </tr>\n",
              "  </tbody>\n",
              "</table>\n",
              "</div>"
            ],
            "text/plain": [
              "                 neighbourhood_group\n",
              "room_type                           \n",
              "entire_home/apt                15286\n",
              "private_room                   13360\n",
              "shared_room                      691"
            ]
          },
          "metadata": {},
          "execution_count": 25
        }
      ]
    },
    {
      "cell_type": "code",
      "metadata": {
        "id": "Ztl7nYmoLhhH"
      },
      "source": [
        "from sklearn.metrics import mutual_info_score"
      ],
      "execution_count": 26,
      "outputs": []
    },
    {
      "cell_type": "code",
      "metadata": {
        "colab": {
          "base_uri": "https://localhost:8080/"
        },
        "id": "U0rpoxkYnE03",
        "outputId": "0c352de9-b83f-4543-bd6e-f431e20cedab"
      },
      "source": [
        "mutual_info_score(y_train, df_train['neighbourhood_group'])"
      ],
      "execution_count": 27,
      "outputs": [
        {
          "output_type": "execute_result",
          "data": {
            "text/plain": [
              "0.11007827465599773"
            ]
          },
          "metadata": {},
          "execution_count": 27
        }
      ]
    },
    {
      "cell_type": "code",
      "metadata": {
        "colab": {
          "base_uri": "https://localhost:8080/"
        },
        "id": "E2sw8EBCnNjm",
        "outputId": "1d7ca8e0-610e-4d27-c4d4-6559440c6677"
      },
      "source": [
        "mutual_info_score(y_train, df_train['room_type'])"
      ],
      "execution_count": 28,
      "outputs": [
        {
          "output_type": "execute_result",
          "data": {
            "text/plain": [
              "0.3147677750139868"
            ]
          },
          "metadata": {},
          "execution_count": 28
        }
      ]
    },
    {
      "cell_type": "markdown",
      "metadata": {
        "id": "ma_smvz7nkkO"
      },
      "source": [
        "Question 4:\n",
        "\n",
        "Now let's train a logistic regression. For that, we need to turn our price prediction problem into a binary classification task.\n",
        "\n",
        "Let's create a variable above_average which is 1 if the price is above (or equal to) 152.\n",
        "Remember that we have two categorical variables in the data. Include them using one-hot encoding.\n",
        "Fit the model on the training dataset.\n",
        "\n",
        "To make sure the results are reproducible across different versions of Scikit-Learn, fit the model with these parameters:\n",
        "\n",
        "model = LogisticRegression(solver='lbfgs', C=1.0, random_state=42)\n",
        "\n",
        "Calculate the accuracy on the validation dataset and rount it to 2 decimal digits."
      ]
    },
    {
      "cell_type": "code",
      "metadata": {
        "colab": {
          "base_uri": "https://localhost:8080/"
        },
        "id": "bkfP6UyrnaXz",
        "outputId": "72074cf7-62b2-4287-ee90-fe2dd85ed739"
      },
      "source": [
        "y_train_2 = pd.DataFrame(y_train)\n",
        "y_train_2['bin_price'] = [0 if x < 152 else 1 for x in y_train_2['price']] \n",
        "y_train_2 = y_train_2.drop(columns='price', axis = 1)\n",
        "y_train_2 = y_train_2.squeeze(axis=1)\n",
        "y_train_2"
      ],
      "execution_count": 29,
      "outputs": [
        {
          "output_type": "execute_result",
          "data": {
            "text/plain": [
              "0        0\n",
              "1        0\n",
              "2        0\n",
              "3        0\n",
              "4        0\n",
              "        ..\n",
              "29332    0\n",
              "29333    0\n",
              "29334    1\n",
              "29335    0\n",
              "29336    0\n",
              "Name: bin_price, Length: 29337, dtype: int64"
            ]
          },
          "metadata": {},
          "execution_count": 29
        }
      ]
    },
    {
      "cell_type": "code",
      "metadata": {
        "colab": {
          "base_uri": "https://localhost:8080/"
        },
        "id": "VBG6hbqg_-Vd",
        "outputId": "1d6be438-c61d-41e6-98e6-0f67eb436483"
      },
      "source": [
        "y_val_2 = pd.DataFrame(y_val)\n",
        "y_val_2['bin_price'] = [0 if x < 152 else 1 for x in y_val_2['price']] \n",
        "y_val_2 = y_val_2.drop(columns='price', axis = 1)\n",
        "y_val_2 = y_val_2.squeeze(axis=1)\n",
        "y_val_2"
      ],
      "execution_count": 30,
      "outputs": [
        {
          "output_type": "execute_result",
          "data": {
            "text/plain": [
              "0       0\n",
              "1       0\n",
              "2       1\n",
              "3       0\n",
              "4       1\n",
              "       ..\n",
              "9774    1\n",
              "9775    0\n",
              "9776    0\n",
              "9777    0\n",
              "9778    0\n",
              "Name: bin_price, Length: 9779, dtype: int64"
            ]
          },
          "metadata": {},
          "execution_count": 30
        }
      ]
    },
    {
      "cell_type": "code",
      "metadata": {
        "id": "54ofAizunyN-"
      },
      "source": [
        "from sklearn.feature_extraction import DictVectorizer"
      ],
      "execution_count": 31,
      "outputs": []
    },
    {
      "cell_type": "code",
      "metadata": {
        "id": "buL1z199q99R"
      },
      "source": [
        "dv = DictVectorizer(sparse=False)\n",
        "\n",
        "train_dict = df_train.to_dict(orient='records')\n",
        "X_train = dv.fit_transform(train_dict)\n",
        "\n",
        "val_dict = df_val.to_dict(orient='records')\n",
        "X_val = dv.transform(val_dict)"
      ],
      "execution_count": 32,
      "outputs": []
    },
    {
      "cell_type": "code",
      "metadata": {
        "colab": {
          "base_uri": "https://localhost:8080/"
        },
        "id": "RBRniwyUw6t6",
        "outputId": "3a455baa-d68f-4840-9bf5-bab25f731950"
      },
      "source": [
        "dv.get_feature_names()"
      ],
      "execution_count": 33,
      "outputs": [
        {
          "output_type": "execute_result",
          "data": {
            "text/plain": [
              "['availability_365',\n",
              " 'calculated_host_listings_count',\n",
              " 'latitude',\n",
              " 'longitude',\n",
              " 'minimum_nights',\n",
              " 'neighbourhood_group=bronx',\n",
              " 'neighbourhood_group=brooklyn',\n",
              " 'neighbourhood_group=manhattan',\n",
              " 'neighbourhood_group=queens',\n",
              " 'neighbourhood_group=staten_island',\n",
              " 'number_of_reviews',\n",
              " 'reviews_per_month',\n",
              " 'room_type=entire_home/apt',\n",
              " 'room_type=private_room',\n",
              " 'room_type=shared_room']"
            ]
          },
          "metadata": {},
          "execution_count": 33
        }
      ]
    },
    {
      "cell_type": "code",
      "metadata": {
        "colab": {
          "base_uri": "https://localhost:8080/",
          "height": 419
        },
        "id": "LBexueGOuQZA",
        "outputId": "c74ca54b-edeb-4032-c932-1fff44b90d73"
      },
      "source": [
        "pd.DataFrame(X_train)"
      ],
      "execution_count": 34,
      "outputs": [
        {
          "output_type": "execute_result",
          "data": {
            "text/html": [
              "<div>\n",
              "<style scoped>\n",
              "    .dataframe tbody tr th:only-of-type {\n",
              "        vertical-align: middle;\n",
              "    }\n",
              "\n",
              "    .dataframe tbody tr th {\n",
              "        vertical-align: top;\n",
              "    }\n",
              "\n",
              "    .dataframe thead th {\n",
              "        text-align: right;\n",
              "    }\n",
              "</style>\n",
              "<table border=\"1\" class=\"dataframe\">\n",
              "  <thead>\n",
              "    <tr style=\"text-align: right;\">\n",
              "      <th></th>\n",
              "      <th>0</th>\n",
              "      <th>1</th>\n",
              "      <th>2</th>\n",
              "      <th>3</th>\n",
              "      <th>4</th>\n",
              "      <th>5</th>\n",
              "      <th>6</th>\n",
              "      <th>7</th>\n",
              "      <th>8</th>\n",
              "      <th>9</th>\n",
              "      <th>10</th>\n",
              "      <th>11</th>\n",
              "      <th>12</th>\n",
              "      <th>13</th>\n",
              "      <th>14</th>\n",
              "    </tr>\n",
              "  </thead>\n",
              "  <tbody>\n",
              "    <tr>\n",
              "      <th>0</th>\n",
              "      <td>50.0000</td>\n",
              "      <td>13.0000</td>\n",
              "      <td>40.7276</td>\n",
              "      <td>-73.9450</td>\n",
              "      <td>3.0000</td>\n",
              "      <td>0.0000</td>\n",
              "      <td>1.0000</td>\n",
              "      <td>0.0000</td>\n",
              "      <td>0.0000</td>\n",
              "      <td>0.0000</td>\n",
              "      <td>29.0000</td>\n",
              "      <td>0.7000</td>\n",
              "      <td>1.0000</td>\n",
              "      <td>0.0000</td>\n",
              "      <td>0.0000</td>\n",
              "    </tr>\n",
              "    <tr>\n",
              "      <th>1</th>\n",
              "      <td>7.0000</td>\n",
              "      <td>1.0000</td>\n",
              "      <td>40.7085</td>\n",
              "      <td>-74.0050</td>\n",
              "      <td>1.0000</td>\n",
              "      <td>0.0000</td>\n",
              "      <td>0.0000</td>\n",
              "      <td>1.0000</td>\n",
              "      <td>0.0000</td>\n",
              "      <td>0.0000</td>\n",
              "      <td>0.0000</td>\n",
              "      <td>0.0000</td>\n",
              "      <td>0.0000</td>\n",
              "      <td>1.0000</td>\n",
              "      <td>0.0000</td>\n",
              "    </tr>\n",
              "    <tr>\n",
              "      <th>2</th>\n",
              "      <td>0.0000</td>\n",
              "      <td>1.0000</td>\n",
              "      <td>40.8315</td>\n",
              "      <td>-73.9277</td>\n",
              "      <td>40.0000</td>\n",
              "      <td>1.0000</td>\n",
              "      <td>0.0000</td>\n",
              "      <td>0.0000</td>\n",
              "      <td>0.0000</td>\n",
              "      <td>0.0000</td>\n",
              "      <td>0.0000</td>\n",
              "      <td>0.0000</td>\n",
              "      <td>1.0000</td>\n",
              "      <td>0.0000</td>\n",
              "      <td>0.0000</td>\n",
              "    </tr>\n",
              "    <tr>\n",
              "      <th>3</th>\n",
              "      <td>0.0000</td>\n",
              "      <td>1.0000</td>\n",
              "      <td>40.6645</td>\n",
              "      <td>-73.9941</td>\n",
              "      <td>2.0000</td>\n",
              "      <td>0.0000</td>\n",
              "      <td>1.0000</td>\n",
              "      <td>0.0000</td>\n",
              "      <td>0.0000</td>\n",
              "      <td>0.0000</td>\n",
              "      <td>3.0000</td>\n",
              "      <td>0.0800</td>\n",
              "      <td>1.0000</td>\n",
              "      <td>0.0000</td>\n",
              "      <td>0.0000</td>\n",
              "    </tr>\n",
              "    <tr>\n",
              "      <th>4</th>\n",
              "      <td>67.0000</td>\n",
              "      <td>2.0000</td>\n",
              "      <td>40.7412</td>\n",
              "      <td>-74.0001</td>\n",
              "      <td>1.0000</td>\n",
              "      <td>0.0000</td>\n",
              "      <td>0.0000</td>\n",
              "      <td>1.0000</td>\n",
              "      <td>0.0000</td>\n",
              "      <td>0.0000</td>\n",
              "      <td>48.0000</td>\n",
              "      <td>1.8000</td>\n",
              "      <td>0.0000</td>\n",
              "      <td>1.0000</td>\n",
              "      <td>0.0000</td>\n",
              "    </tr>\n",
              "    <tr>\n",
              "      <th>...</th>\n",
              "      <td>...</td>\n",
              "      <td>...</td>\n",
              "      <td>...</td>\n",
              "      <td>...</td>\n",
              "      <td>...</td>\n",
              "      <td>...</td>\n",
              "      <td>...</td>\n",
              "      <td>...</td>\n",
              "      <td>...</td>\n",
              "      <td>...</td>\n",
              "      <td>...</td>\n",
              "      <td>...</td>\n",
              "      <td>...</td>\n",
              "      <td>...</td>\n",
              "      <td>...</td>\n",
              "    </tr>\n",
              "    <tr>\n",
              "      <th>29332</th>\n",
              "      <td>0.0000</td>\n",
              "      <td>1.0000</td>\n",
              "      <td>40.7175</td>\n",
              "      <td>-73.9569</td>\n",
              "      <td>6.0000</td>\n",
              "      <td>0.0000</td>\n",
              "      <td>1.0000</td>\n",
              "      <td>0.0000</td>\n",
              "      <td>0.0000</td>\n",
              "      <td>0.0000</td>\n",
              "      <td>5.0000</td>\n",
              "      <td>0.1300</td>\n",
              "      <td>0.0000</td>\n",
              "      <td>1.0000</td>\n",
              "      <td>0.0000</td>\n",
              "    </tr>\n",
              "    <tr>\n",
              "      <th>29333</th>\n",
              "      <td>0.0000</td>\n",
              "      <td>2.0000</td>\n",
              "      <td>40.6640</td>\n",
              "      <td>-73.9854</td>\n",
              "      <td>1.0000</td>\n",
              "      <td>0.0000</td>\n",
              "      <td>1.0000</td>\n",
              "      <td>0.0000</td>\n",
              "      <td>0.0000</td>\n",
              "      <td>0.0000</td>\n",
              "      <td>7.0000</td>\n",
              "      <td>0.1700</td>\n",
              "      <td>0.0000</td>\n",
              "      <td>1.0000</td>\n",
              "      <td>0.0000</td>\n",
              "    </tr>\n",
              "    <tr>\n",
              "      <th>29334</th>\n",
              "      <td>88.0000</td>\n",
              "      <td>1.0000</td>\n",
              "      <td>40.7999</td>\n",
              "      <td>-73.9700</td>\n",
              "      <td>1.0000</td>\n",
              "      <td>0.0000</td>\n",
              "      <td>0.0000</td>\n",
              "      <td>1.0000</td>\n",
              "      <td>0.0000</td>\n",
              "      <td>0.0000</td>\n",
              "      <td>1.0000</td>\n",
              "      <td>0.6400</td>\n",
              "      <td>0.0000</td>\n",
              "      <td>1.0000</td>\n",
              "      <td>0.0000</td>\n",
              "    </tr>\n",
              "    <tr>\n",
              "      <th>29335</th>\n",
              "      <td>0.0000</td>\n",
              "      <td>1.0000</td>\n",
              "      <td>40.6959</td>\n",
              "      <td>-73.9634</td>\n",
              "      <td>60.0000</td>\n",
              "      <td>0.0000</td>\n",
              "      <td>1.0000</td>\n",
              "      <td>0.0000</td>\n",
              "      <td>0.0000</td>\n",
              "      <td>0.0000</td>\n",
              "      <td>0.0000</td>\n",
              "      <td>0.0000</td>\n",
              "      <td>0.0000</td>\n",
              "      <td>1.0000</td>\n",
              "      <td>0.0000</td>\n",
              "    </tr>\n",
              "    <tr>\n",
              "      <th>29336</th>\n",
              "      <td>281.0000</td>\n",
              "      <td>2.0000</td>\n",
              "      <td>40.6444</td>\n",
              "      <td>-73.9548</td>\n",
              "      <td>7.0000</td>\n",
              "      <td>0.0000</td>\n",
              "      <td>1.0000</td>\n",
              "      <td>0.0000</td>\n",
              "      <td>0.0000</td>\n",
              "      <td>0.0000</td>\n",
              "      <td>15.0000</td>\n",
              "      <td>0.4900</td>\n",
              "      <td>1.0000</td>\n",
              "      <td>0.0000</td>\n",
              "      <td>0.0000</td>\n",
              "    </tr>\n",
              "  </tbody>\n",
              "</table>\n",
              "<p>29337 rows × 15 columns</p>\n",
              "</div>"
            ],
            "text/plain": [
              "            0       1       2        3   ...     11     12     13     14\n",
              "0      50.0000 13.0000 40.7276 -73.9450  ... 0.7000 1.0000 0.0000 0.0000\n",
              "1       7.0000  1.0000 40.7085 -74.0050  ... 0.0000 0.0000 1.0000 0.0000\n",
              "2       0.0000  1.0000 40.8315 -73.9277  ... 0.0000 1.0000 0.0000 0.0000\n",
              "3       0.0000  1.0000 40.6645 -73.9941  ... 0.0800 1.0000 0.0000 0.0000\n",
              "4      67.0000  2.0000 40.7412 -74.0001  ... 1.8000 0.0000 1.0000 0.0000\n",
              "...        ...     ...     ...      ...  ...    ...    ...    ...    ...\n",
              "29332   0.0000  1.0000 40.7175 -73.9569  ... 0.1300 0.0000 1.0000 0.0000\n",
              "29333   0.0000  2.0000 40.6640 -73.9854  ... 0.1700 0.0000 1.0000 0.0000\n",
              "29334  88.0000  1.0000 40.7999 -73.9700  ... 0.6400 0.0000 1.0000 0.0000\n",
              "29335   0.0000  1.0000 40.6959 -73.9634  ... 0.0000 0.0000 1.0000 0.0000\n",
              "29336 281.0000  2.0000 40.6444 -73.9548  ... 0.4900 1.0000 0.0000 0.0000\n",
              "\n",
              "[29337 rows x 15 columns]"
            ]
          },
          "metadata": {},
          "execution_count": 34
        }
      ]
    },
    {
      "cell_type": "code",
      "metadata": {
        "colab": {
          "base_uri": "https://localhost:8080/",
          "height": 419
        },
        "id": "Xfx9Am7UuRXb",
        "outputId": "d06d6c11-d259-4eb1-9f11-886002b085a1"
      },
      "source": [
        "pd.DataFrame(X_val)"
      ],
      "execution_count": 35,
      "outputs": [
        {
          "output_type": "execute_result",
          "data": {
            "text/html": [
              "<div>\n",
              "<style scoped>\n",
              "    .dataframe tbody tr th:only-of-type {\n",
              "        vertical-align: middle;\n",
              "    }\n",
              "\n",
              "    .dataframe tbody tr th {\n",
              "        vertical-align: top;\n",
              "    }\n",
              "\n",
              "    .dataframe thead th {\n",
              "        text-align: right;\n",
              "    }\n",
              "</style>\n",
              "<table border=\"1\" class=\"dataframe\">\n",
              "  <thead>\n",
              "    <tr style=\"text-align: right;\">\n",
              "      <th></th>\n",
              "      <th>0</th>\n",
              "      <th>1</th>\n",
              "      <th>2</th>\n",
              "      <th>3</th>\n",
              "      <th>4</th>\n",
              "      <th>5</th>\n",
              "      <th>6</th>\n",
              "      <th>7</th>\n",
              "      <th>8</th>\n",
              "      <th>9</th>\n",
              "      <th>10</th>\n",
              "      <th>11</th>\n",
              "      <th>12</th>\n",
              "      <th>13</th>\n",
              "      <th>14</th>\n",
              "    </tr>\n",
              "  </thead>\n",
              "  <tbody>\n",
              "    <tr>\n",
              "      <th>0</th>\n",
              "      <td>52.0000</td>\n",
              "      <td>1.0000</td>\n",
              "      <td>40.7024</td>\n",
              "      <td>-73.9293</td>\n",
              "      <td>1.0000</td>\n",
              "      <td>0.0000</td>\n",
              "      <td>1.0000</td>\n",
              "      <td>0.0000</td>\n",
              "      <td>0.0000</td>\n",
              "      <td>0.0000</td>\n",
              "      <td>35.0000</td>\n",
              "      <td>1.8000</td>\n",
              "      <td>0.0000</td>\n",
              "      <td>1.0000</td>\n",
              "      <td>0.0000</td>\n",
              "    </tr>\n",
              "    <tr>\n",
              "      <th>1</th>\n",
              "      <td>343.0000</td>\n",
              "      <td>2.0000</td>\n",
              "      <td>40.6850</td>\n",
              "      <td>-73.9662</td>\n",
              "      <td>14.0000</td>\n",
              "      <td>0.0000</td>\n",
              "      <td>1.0000</td>\n",
              "      <td>0.0000</td>\n",
              "      <td>0.0000</td>\n",
              "      <td>0.0000</td>\n",
              "      <td>4.0000</td>\n",
              "      <td>0.1100</td>\n",
              "      <td>1.0000</td>\n",
              "      <td>0.0000</td>\n",
              "      <td>0.0000</td>\n",
              "    </tr>\n",
              "    <tr>\n",
              "      <th>2</th>\n",
              "      <td>260.0000</td>\n",
              "      <td>1.0000</td>\n",
              "      <td>40.6691</td>\n",
              "      <td>-73.9482</td>\n",
              "      <td>3.0000</td>\n",
              "      <td>0.0000</td>\n",
              "      <td>1.0000</td>\n",
              "      <td>0.0000</td>\n",
              "      <td>0.0000</td>\n",
              "      <td>0.0000</td>\n",
              "      <td>153.0000</td>\n",
              "      <td>2.6400</td>\n",
              "      <td>1.0000</td>\n",
              "      <td>0.0000</td>\n",
              "      <td>0.0000</td>\n",
              "    </tr>\n",
              "    <tr>\n",
              "      <th>3</th>\n",
              "      <td>0.0000</td>\n",
              "      <td>3.0000</td>\n",
              "      <td>40.7977</td>\n",
              "      <td>-73.9611</td>\n",
              "      <td>3.0000</td>\n",
              "      <td>0.0000</td>\n",
              "      <td>0.0000</td>\n",
              "      <td>1.0000</td>\n",
              "      <td>0.0000</td>\n",
              "      <td>0.0000</td>\n",
              "      <td>2.0000</td>\n",
              "      <td>0.0200</td>\n",
              "      <td>0.0000</td>\n",
              "      <td>1.0000</td>\n",
              "      <td>0.0000</td>\n",
              "    </tr>\n",
              "    <tr>\n",
              "      <th>4</th>\n",
              "      <td>365.0000</td>\n",
              "      <td>18.0000</td>\n",
              "      <td>40.7608</td>\n",
              "      <td>-73.9989</td>\n",
              "      <td>30.0000</td>\n",
              "      <td>0.0000</td>\n",
              "      <td>0.0000</td>\n",
              "      <td>1.0000</td>\n",
              "      <td>0.0000</td>\n",
              "      <td>0.0000</td>\n",
              "      <td>0.0000</td>\n",
              "      <td>0.0000</td>\n",
              "      <td>1.0000</td>\n",
              "      <td>0.0000</td>\n",
              "      <td>0.0000</td>\n",
              "    </tr>\n",
              "    <tr>\n",
              "      <th>...</th>\n",
              "      <td>...</td>\n",
              "      <td>...</td>\n",
              "      <td>...</td>\n",
              "      <td>...</td>\n",
              "      <td>...</td>\n",
              "      <td>...</td>\n",
              "      <td>...</td>\n",
              "      <td>...</td>\n",
              "      <td>...</td>\n",
              "      <td>...</td>\n",
              "      <td>...</td>\n",
              "      <td>...</td>\n",
              "      <td>...</td>\n",
              "      <td>...</td>\n",
              "      <td>...</td>\n",
              "    </tr>\n",
              "    <tr>\n",
              "      <th>9774</th>\n",
              "      <td>5.0000</td>\n",
              "      <td>1.0000</td>\n",
              "      <td>40.7597</td>\n",
              "      <td>-73.9892</td>\n",
              "      <td>4.0000</td>\n",
              "      <td>0.0000</td>\n",
              "      <td>0.0000</td>\n",
              "      <td>1.0000</td>\n",
              "      <td>0.0000</td>\n",
              "      <td>0.0000</td>\n",
              "      <td>2.0000</td>\n",
              "      <td>0.1400</td>\n",
              "      <td>1.0000</td>\n",
              "      <td>0.0000</td>\n",
              "      <td>0.0000</td>\n",
              "    </tr>\n",
              "    <tr>\n",
              "      <th>9775</th>\n",
              "      <td>83.0000</td>\n",
              "      <td>7.0000</td>\n",
              "      <td>40.8095</td>\n",
              "      <td>-73.9300</td>\n",
              "      <td>1.0000</td>\n",
              "      <td>1.0000</td>\n",
              "      <td>0.0000</td>\n",
              "      <td>0.0000</td>\n",
              "      <td>0.0000</td>\n",
              "      <td>0.0000</td>\n",
              "      <td>17.0000</td>\n",
              "      <td>1.7900</td>\n",
              "      <td>0.0000</td>\n",
              "      <td>0.0000</td>\n",
              "      <td>1.0000</td>\n",
              "    </tr>\n",
              "    <tr>\n",
              "      <th>9776</th>\n",
              "      <td>0.0000</td>\n",
              "      <td>1.0000</td>\n",
              "      <td>40.7306</td>\n",
              "      <td>-73.9829</td>\n",
              "      <td>1.0000</td>\n",
              "      <td>0.0000</td>\n",
              "      <td>0.0000</td>\n",
              "      <td>1.0000</td>\n",
              "      <td>0.0000</td>\n",
              "      <td>0.0000</td>\n",
              "      <td>4.0000</td>\n",
              "      <td>0.1000</td>\n",
              "      <td>0.0000</td>\n",
              "      <td>1.0000</td>\n",
              "      <td>0.0000</td>\n",
              "    </tr>\n",
              "    <tr>\n",
              "      <th>9777</th>\n",
              "      <td>0.0000</td>\n",
              "      <td>1.0000</td>\n",
              "      <td>40.6886</td>\n",
              "      <td>-73.9539</td>\n",
              "      <td>1.0000</td>\n",
              "      <td>0.0000</td>\n",
              "      <td>1.0000</td>\n",
              "      <td>0.0000</td>\n",
              "      <td>0.0000</td>\n",
              "      <td>0.0000</td>\n",
              "      <td>0.0000</td>\n",
              "      <td>0.0000</td>\n",
              "      <td>0.0000</td>\n",
              "      <td>1.0000</td>\n",
              "      <td>0.0000</td>\n",
              "    </tr>\n",
              "    <tr>\n",
              "      <th>9778</th>\n",
              "      <td>0.0000</td>\n",
              "      <td>1.0000</td>\n",
              "      <td>40.8188</td>\n",
              "      <td>-73.9468</td>\n",
              "      <td>1.0000</td>\n",
              "      <td>0.0000</td>\n",
              "      <td>0.0000</td>\n",
              "      <td>1.0000</td>\n",
              "      <td>0.0000</td>\n",
              "      <td>0.0000</td>\n",
              "      <td>1.0000</td>\n",
              "      <td>0.0200</td>\n",
              "      <td>1.0000</td>\n",
              "      <td>0.0000</td>\n",
              "      <td>0.0000</td>\n",
              "    </tr>\n",
              "  </tbody>\n",
              "</table>\n",
              "<p>9779 rows × 15 columns</p>\n",
              "</div>"
            ],
            "text/plain": [
              "           0       1       2        3   ...     11     12     13     14\n",
              "0     52.0000  1.0000 40.7024 -73.9293  ... 1.8000 0.0000 1.0000 0.0000\n",
              "1    343.0000  2.0000 40.6850 -73.9662  ... 0.1100 1.0000 0.0000 0.0000\n",
              "2    260.0000  1.0000 40.6691 -73.9482  ... 2.6400 1.0000 0.0000 0.0000\n",
              "3      0.0000  3.0000 40.7977 -73.9611  ... 0.0200 0.0000 1.0000 0.0000\n",
              "4    365.0000 18.0000 40.7608 -73.9989  ... 0.0000 1.0000 0.0000 0.0000\n",
              "...       ...     ...     ...      ...  ...    ...    ...    ...    ...\n",
              "9774   5.0000  1.0000 40.7597 -73.9892  ... 0.1400 1.0000 0.0000 0.0000\n",
              "9775  83.0000  7.0000 40.8095 -73.9300  ... 1.7900 0.0000 0.0000 1.0000\n",
              "9776   0.0000  1.0000 40.7306 -73.9829  ... 0.1000 0.0000 1.0000 0.0000\n",
              "9777   0.0000  1.0000 40.6886 -73.9539  ... 0.0000 0.0000 1.0000 0.0000\n",
              "9778   0.0000  1.0000 40.8188 -73.9468  ... 0.0200 1.0000 0.0000 0.0000\n",
              "\n",
              "[9779 rows x 15 columns]"
            ]
          },
          "metadata": {},
          "execution_count": 35
        }
      ]
    },
    {
      "cell_type": "code",
      "metadata": {
        "id": "qTfry4hpuTIo"
      },
      "source": [
        "from sklearn.linear_model import LogisticRegression"
      ],
      "execution_count": 36,
      "outputs": []
    },
    {
      "cell_type": "code",
      "metadata": {
        "colab": {
          "base_uri": "https://localhost:8080/"
        },
        "id": "o9KDs8aEKaRM",
        "outputId": "716ad949-5868-4e1f-c3e0-c35e4b5fecc2"
      },
      "source": [
        "X_train"
      ],
      "execution_count": 37,
      "outputs": [
        {
          "output_type": "execute_result",
          "data": {
            "text/plain": [
              "array([[ 50.     ,  13.     ,  40.7276 , ...,   1.     ,   0.     ,\n",
              "          0.     ],\n",
              "       [  7.     ,   1.     ,  40.70847, ...,   0.     ,   1.     ,\n",
              "          0.     ],\n",
              "       [  0.     ,   1.     ,  40.83149, ...,   1.     ,   0.     ,\n",
              "          0.     ],\n",
              "       ...,\n",
              "       [ 88.     ,   1.     ,  40.79994, ...,   0.     ,   1.     ,\n",
              "          0.     ],\n",
              "       [  0.     ,   1.     ,  40.69585, ...,   0.     ,   1.     ,\n",
              "          0.     ],\n",
              "       [281.     ,   2.     ,  40.64438, ...,   1.     ,   0.     ,\n",
              "          0.     ]])"
            ]
          },
          "metadata": {},
          "execution_count": 37
        }
      ]
    },
    {
      "cell_type": "code",
      "metadata": {
        "id": "RRb0nfRfAR7y",
        "colab": {
          "base_uri": "https://localhost:8080/"
        },
        "outputId": "f0ecdddf-8b30-4815-8fa4-03776b737350"
      },
      "source": [
        "model = LogisticRegression(solver='lbfgs', C=1.0, random_state=42)\n",
        "model.fit(X_train, y_train_2)"
      ],
      "execution_count": 38,
      "outputs": [
        {
          "output_type": "stream",
          "name": "stderr",
          "text": [
            "/usr/local/lib/python3.7/dist-packages/sklearn/linear_model/_logistic.py:940: ConvergenceWarning: lbfgs failed to converge (status=1):\n",
            "STOP: TOTAL NO. of ITERATIONS REACHED LIMIT.\n",
            "\n",
            "Increase the number of iterations (max_iter) or scale the data as shown in:\n",
            "    https://scikit-learn.org/stable/modules/preprocessing.html\n",
            "Please also refer to the documentation for alternative solver options:\n",
            "    https://scikit-learn.org/stable/modules/linear_model.html#logistic-regression\n",
            "  extra_warning_msg=_LOGISTIC_SOLVER_CONVERGENCE_MSG)\n"
          ]
        },
        {
          "output_type": "execute_result",
          "data": {
            "text/plain": [
              "LogisticRegression(C=1.0, class_weight=None, dual=False, fit_intercept=True,\n",
              "                   intercept_scaling=1, l1_ratio=None, max_iter=100,\n",
              "                   multi_class='auto', n_jobs=None, penalty='l2',\n",
              "                   random_state=42, solver='lbfgs', tol=0.0001, verbose=0,\n",
              "                   warm_start=False)"
            ]
          },
          "metadata": {},
          "execution_count": 38
        }
      ]
    },
    {
      "cell_type": "code",
      "metadata": {
        "colab": {
          "base_uri": "https://localhost:8080/"
        },
        "id": "NqAXwB4XK95J",
        "outputId": "75b07f43-9d23-420a-bd81-0135b7a93852"
      },
      "source": [
        "model.coef_[0].round(5)"
      ],
      "execution_count": 39,
      "outputs": [
        {
          "output_type": "execute_result",
          "data": {
            "text/plain": [
              "array([ 0.00293,  0.00394, -0.22902, -0.09554, -0.01248, -0.39922,\n",
              "        0.08087,  1.24655, -0.79886, -0.13198, -0.00326, -0.0421 ,\n",
              "        1.63005, -1.1585 , -0.47418])"
            ]
          },
          "metadata": {},
          "execution_count": 39
        }
      ]
    },
    {
      "cell_type": "code",
      "metadata": {
        "colab": {
          "base_uri": "https://localhost:8080/"
        },
        "id": "vfV3nZO1K_ZG",
        "outputId": "76d7bff4-d293-4b18-ef20-6b60bf460dba"
      },
      "source": [
        "model.intercept_.round(5)"
      ],
      "execution_count": 40,
      "outputs": [
        {
          "output_type": "execute_result",
          "data": {
            "text/plain": [
              "array([-0.00264])"
            ]
          },
          "metadata": {},
          "execution_count": 40
        }
      ]
    },
    {
      "cell_type": "code",
      "metadata": {
        "colab": {
          "base_uri": "https://localhost:8080/"
        },
        "id": "EzJTShzeLsD2",
        "outputId": "bfb2b7e0-394e-4192-e67e-7dd18b0d0e00"
      },
      "source": [
        "model.predict(X_train)"
      ],
      "execution_count": 41,
      "outputs": [
        {
          "output_type": "execute_result",
          "data": {
            "text/plain": [
              "array([0, 0, 0, ..., 0, 0, 1])"
            ]
          },
          "metadata": {},
          "execution_count": 41
        }
      ]
    },
    {
      "cell_type": "code",
      "metadata": {
        "colab": {
          "base_uri": "https://localhost:8080/"
        },
        "id": "74glmLiqMDdk",
        "outputId": "5fa212fd-451c-4d67-f8ab-fa043c63731a"
      },
      "source": [
        "model.predict_proba(X_train)"
      ],
      "execution_count": 42,
      "outputs": [
        {
          "output_type": "execute_result",
          "data": {
            "text/plain": [
              "array([[0.62672509, 0.37327491],\n",
              "       [0.89615208, 0.10384792],\n",
              "       [0.82567537, 0.17432463],\n",
              "       ...,\n",
              "       [0.87785885, 0.12214115],\n",
              "       [0.98335562, 0.01664438],\n",
              "       [0.46505707, 0.53494293]])"
            ]
          },
          "metadata": {},
          "execution_count": 42
        }
      ]
    },
    {
      "cell_type": "code",
      "metadata": {
        "colab": {
          "base_uri": "https://localhost:8080/"
        },
        "id": "gyetQ0RdMUUW",
        "outputId": "885c8b11-f014-4a48-da10-ea2beb6ada36"
      },
      "source": [
        "y_pred = model.predict_proba(X_val)[:,1]\n",
        "y_pred"
      ],
      "execution_count": 43,
      "outputs": [
        {
          "output_type": "execute_result",
          "data": {
            "text/plain": [
              "array([0.03277337, 0.56905405, 0.39587862, ..., 0.09973834, 0.03416778,\n",
              "       0.64058828])"
            ]
          },
          "metadata": {},
          "execution_count": 43
        }
      ]
    },
    {
      "cell_type": "code",
      "metadata": {
        "colab": {
          "base_uri": "https://localhost:8080/",
          "height": 439
        },
        "id": "ml8c0LdjMsvE",
        "outputId": "7453200e-8731-47bb-ca87-87b24d5e6cac"
      },
      "source": [
        "prediction_val = (y_pred >= 0.5)\n",
        "df_val[prediction_val]"
      ],
      "execution_count": 44,
      "outputs": [
        {
          "output_type": "execute_result",
          "data": {
            "text/html": [
              "<div>\n",
              "<style scoped>\n",
              "    .dataframe tbody tr th:only-of-type {\n",
              "        vertical-align: middle;\n",
              "    }\n",
              "\n",
              "    .dataframe tbody tr th {\n",
              "        vertical-align: top;\n",
              "    }\n",
              "\n",
              "    .dataframe thead th {\n",
              "        text-align: right;\n",
              "    }\n",
              "</style>\n",
              "<table border=\"1\" class=\"dataframe\">\n",
              "  <thead>\n",
              "    <tr style=\"text-align: right;\">\n",
              "      <th></th>\n",
              "      <th>neighbourhood_group</th>\n",
              "      <th>room_type</th>\n",
              "      <th>latitude</th>\n",
              "      <th>longitude</th>\n",
              "      <th>minimum_nights</th>\n",
              "      <th>number_of_reviews</th>\n",
              "      <th>reviews_per_month</th>\n",
              "      <th>calculated_host_listings_count</th>\n",
              "      <th>availability_365</th>\n",
              "    </tr>\n",
              "  </thead>\n",
              "  <tbody>\n",
              "    <tr>\n",
              "      <th>1</th>\n",
              "      <td>brooklyn</td>\n",
              "      <td>entire_home/apt</td>\n",
              "      <td>40.6850</td>\n",
              "      <td>-73.9662</td>\n",
              "      <td>14</td>\n",
              "      <td>4</td>\n",
              "      <td>0.1100</td>\n",
              "      <td>2</td>\n",
              "      <td>343</td>\n",
              "    </tr>\n",
              "    <tr>\n",
              "      <th>4</th>\n",
              "      <td>manhattan</td>\n",
              "      <td>entire_home/apt</td>\n",
              "      <td>40.7608</td>\n",
              "      <td>-73.9989</td>\n",
              "      <td>30</td>\n",
              "      <td>0</td>\n",
              "      <td>0.0000</td>\n",
              "      <td>18</td>\n",
              "      <td>365</td>\n",
              "    </tr>\n",
              "    <tr>\n",
              "      <th>6</th>\n",
              "      <td>manhattan</td>\n",
              "      <td>entire_home/apt</td>\n",
              "      <td>40.7324</td>\n",
              "      <td>-74.0093</td>\n",
              "      <td>4</td>\n",
              "      <td>1</td>\n",
              "      <td>0.0300</td>\n",
              "      <td>1</td>\n",
              "      <td>0</td>\n",
              "    </tr>\n",
              "    <tr>\n",
              "      <th>7</th>\n",
              "      <td>manhattan</td>\n",
              "      <td>entire_home/apt</td>\n",
              "      <td>40.8063</td>\n",
              "      <td>-73.9627</td>\n",
              "      <td>7</td>\n",
              "      <td>2</td>\n",
              "      <td>0.0500</td>\n",
              "      <td>1</td>\n",
              "      <td>0</td>\n",
              "    </tr>\n",
              "    <tr>\n",
              "      <th>9</th>\n",
              "      <td>manhattan</td>\n",
              "      <td>entire_home/apt</td>\n",
              "      <td>40.8086</td>\n",
              "      <td>-73.9457</td>\n",
              "      <td>3</td>\n",
              "      <td>123</td>\n",
              "      <td>1.7300</td>\n",
              "      <td>3</td>\n",
              "      <td>248</td>\n",
              "    </tr>\n",
              "    <tr>\n",
              "      <th>...</th>\n",
              "      <td>...</td>\n",
              "      <td>...</td>\n",
              "      <td>...</td>\n",
              "      <td>...</td>\n",
              "      <td>...</td>\n",
              "      <td>...</td>\n",
              "      <td>...</td>\n",
              "      <td>...</td>\n",
              "      <td>...</td>\n",
              "    </tr>\n",
              "    <tr>\n",
              "      <th>9763</th>\n",
              "      <td>manhattan</td>\n",
              "      <td>entire_home/apt</td>\n",
              "      <td>40.7353</td>\n",
              "      <td>-73.9807</td>\n",
              "      <td>14</td>\n",
              "      <td>0</td>\n",
              "      <td>0.0000</td>\n",
              "      <td>1</td>\n",
              "      <td>0</td>\n",
              "    </tr>\n",
              "    <tr>\n",
              "      <th>9768</th>\n",
              "      <td>manhattan</td>\n",
              "      <td>entire_home/apt</td>\n",
              "      <td>40.8018</td>\n",
              "      <td>-73.9571</td>\n",
              "      <td>8</td>\n",
              "      <td>9</td>\n",
              "      <td>0.1800</td>\n",
              "      <td>1</td>\n",
              "      <td>111</td>\n",
              "    </tr>\n",
              "    <tr>\n",
              "      <th>9770</th>\n",
              "      <td>manhattan</td>\n",
              "      <td>entire_home/apt</td>\n",
              "      <td>40.7383</td>\n",
              "      <td>-73.9894</td>\n",
              "      <td>2</td>\n",
              "      <td>2</td>\n",
              "      <td>0.7000</td>\n",
              "      <td>1</td>\n",
              "      <td>166</td>\n",
              "    </tr>\n",
              "    <tr>\n",
              "      <th>9774</th>\n",
              "      <td>manhattan</td>\n",
              "      <td>entire_home/apt</td>\n",
              "      <td>40.7597</td>\n",
              "      <td>-73.9892</td>\n",
              "      <td>4</td>\n",
              "      <td>2</td>\n",
              "      <td>0.1400</td>\n",
              "      <td>1</td>\n",
              "      <td>5</td>\n",
              "    </tr>\n",
              "    <tr>\n",
              "      <th>9778</th>\n",
              "      <td>manhattan</td>\n",
              "      <td>entire_home/apt</td>\n",
              "      <td>40.8188</td>\n",
              "      <td>-73.9468</td>\n",
              "      <td>1</td>\n",
              "      <td>1</td>\n",
              "      <td>0.0200</td>\n",
              "      <td>1</td>\n",
              "      <td>0</td>\n",
              "    </tr>\n",
              "  </tbody>\n",
              "</table>\n",
              "<p>2862 rows × 9 columns</p>\n",
              "</div>"
            ],
            "text/plain": [
              "     neighbourhood_group  ... availability_365\n",
              "1               brooklyn  ...              343\n",
              "4              manhattan  ...              365\n",
              "6              manhattan  ...                0\n",
              "7              manhattan  ...                0\n",
              "9              manhattan  ...              248\n",
              "...                  ...  ...              ...\n",
              "9763           manhattan  ...                0\n",
              "9768           manhattan  ...              111\n",
              "9770           manhattan  ...              166\n",
              "9774           manhattan  ...                5\n",
              "9778           manhattan  ...                0\n",
              "\n",
              "[2862 rows x 9 columns]"
            ]
          },
          "metadata": {},
          "execution_count": 44
        }
      ]
    },
    {
      "cell_type": "code",
      "metadata": {
        "colab": {
          "base_uri": "https://localhost:8080/"
        },
        "id": "cvAFHBkvNg7f",
        "outputId": "7850981a-d35e-49dc-f660-0b7bf05d1c0e"
      },
      "source": [
        "np.array((y_val > 151).astype(int))"
      ],
      "execution_count": 45,
      "outputs": [
        {
          "output_type": "execute_result",
          "data": {
            "text/plain": [
              "array([0, 0, 1, ..., 0, 0, 0])"
            ]
          },
          "metadata": {},
          "execution_count": 45
        }
      ]
    },
    {
      "cell_type": "code",
      "metadata": {
        "colab": {
          "base_uri": "https://localhost:8080/"
        },
        "id": "5lg0fGFINsNp",
        "outputId": "ed724561-0864-4a80-82f2-ffa8b33993cf"
      },
      "source": [
        "(y_pred >= 0.5).astype(int)"
      ],
      "execution_count": 46,
      "outputs": [
        {
          "output_type": "execute_result",
          "data": {
            "text/plain": [
              "array([0, 1, 0, ..., 0, 0, 1])"
            ]
          },
          "metadata": {},
          "execution_count": 46
        }
      ]
    },
    {
      "cell_type": "code",
      "metadata": {
        "colab": {
          "base_uri": "https://localhost:8080/"
        },
        "id": "6wX1pJscN9Cd",
        "outputId": "a1425c9d-d5a6-4cf3-f2eb-9bef8df79aa0"
      },
      "source": [
        "np.array((y_val > 151).astype(int)) == (y_pred >= 0.5).astype(int)"
      ],
      "execution_count": 47,
      "outputs": [
        {
          "output_type": "execute_result",
          "data": {
            "text/plain": [
              "array([ True, False, False, ...,  True,  True, False])"
            ]
          },
          "metadata": {},
          "execution_count": 47
        }
      ]
    },
    {
      "cell_type": "code",
      "metadata": {
        "colab": {
          "base_uri": "https://localhost:8080/"
        },
        "id": "i7ArD2TzOKSx",
        "outputId": "3e5ac7fa-580d-4885-a962-144b1ea5e6a1"
      },
      "source": [
        "(np.array((y_val > 151).astype(int)) == (y_pred >= 0.5).astype(int)).mean()"
      ],
      "execution_count": 48,
      "outputs": [
        {
          "output_type": "execute_result",
          "data": {
            "text/plain": [
              "0.7864812353001329"
            ]
          },
          "metadata": {},
          "execution_count": 48
        }
      ]
    },
    {
      "cell_type": "code",
      "metadata": {
        "colab": {
          "base_uri": "https://localhost:8080/",
          "height": 419
        },
        "id": "J3pCKM-GOP8j",
        "outputId": "4878f933-0927-438e-8e0e-d67b9e762d7a"
      },
      "source": [
        "df_pred = pd.DataFrame()\n",
        "df_pred['probability'] = y_pred\n",
        "df_pred['prediction'] = (y_pred >= 0.5).astype(int)\n",
        "df_pred['actual'] = y_val_2\n",
        "df_pred['correct'] = (df_pred['prediction'] == df_pred['actual'])\n",
        "df_pred"
      ],
      "execution_count": 49,
      "outputs": [
        {
          "output_type": "execute_result",
          "data": {
            "text/html": [
              "<div>\n",
              "<style scoped>\n",
              "    .dataframe tbody tr th:only-of-type {\n",
              "        vertical-align: middle;\n",
              "    }\n",
              "\n",
              "    .dataframe tbody tr th {\n",
              "        vertical-align: top;\n",
              "    }\n",
              "\n",
              "    .dataframe thead th {\n",
              "        text-align: right;\n",
              "    }\n",
              "</style>\n",
              "<table border=\"1\" class=\"dataframe\">\n",
              "  <thead>\n",
              "    <tr style=\"text-align: right;\">\n",
              "      <th></th>\n",
              "      <th>probability</th>\n",
              "      <th>prediction</th>\n",
              "      <th>actual</th>\n",
              "      <th>correct</th>\n",
              "    </tr>\n",
              "  </thead>\n",
              "  <tbody>\n",
              "    <tr>\n",
              "      <th>0</th>\n",
              "      <td>0.0328</td>\n",
              "      <td>0</td>\n",
              "      <td>0</td>\n",
              "      <td>True</td>\n",
              "    </tr>\n",
              "    <tr>\n",
              "      <th>1</th>\n",
              "      <td>0.5691</td>\n",
              "      <td>1</td>\n",
              "      <td>0</td>\n",
              "      <td>False</td>\n",
              "    </tr>\n",
              "    <tr>\n",
              "      <th>2</th>\n",
              "      <td>0.3959</td>\n",
              "      <td>0</td>\n",
              "      <td>1</td>\n",
              "      <td>False</td>\n",
              "    </tr>\n",
              "    <tr>\n",
              "      <th>3</th>\n",
              "      <td>0.0975</td>\n",
              "      <td>0</td>\n",
              "      <td>0</td>\n",
              "      <td>True</td>\n",
              "    </tr>\n",
              "    <tr>\n",
              "      <th>4</th>\n",
              "      <td>0.7982</td>\n",
              "      <td>1</td>\n",
              "      <td>1</td>\n",
              "      <td>True</td>\n",
              "    </tr>\n",
              "    <tr>\n",
              "      <th>...</th>\n",
              "      <td>...</td>\n",
              "      <td>...</td>\n",
              "      <td>...</td>\n",
              "      <td>...</td>\n",
              "    </tr>\n",
              "    <tr>\n",
              "      <th>9774</th>\n",
              "      <td>0.6375</td>\n",
              "      <td>1</td>\n",
              "      <td>1</td>\n",
              "      <td>True</td>\n",
              "    </tr>\n",
              "    <tr>\n",
              "      <th>9775</th>\n",
              "      <td>0.0460</td>\n",
              "      <td>0</td>\n",
              "      <td>0</td>\n",
              "      <td>True</td>\n",
              "    </tr>\n",
              "    <tr>\n",
              "      <th>9776</th>\n",
              "      <td>0.0997</td>\n",
              "      <td>0</td>\n",
              "      <td>0</td>\n",
              "      <td>True</td>\n",
              "    </tr>\n",
              "    <tr>\n",
              "      <th>9777</th>\n",
              "      <td>0.0342</td>\n",
              "      <td>0</td>\n",
              "      <td>0</td>\n",
              "      <td>True</td>\n",
              "    </tr>\n",
              "    <tr>\n",
              "      <th>9778</th>\n",
              "      <td>0.6406</td>\n",
              "      <td>1</td>\n",
              "      <td>0</td>\n",
              "      <td>False</td>\n",
              "    </tr>\n",
              "  </tbody>\n",
              "</table>\n",
              "<p>9779 rows × 4 columns</p>\n",
              "</div>"
            ],
            "text/plain": [
              "      probability  prediction  actual  correct\n",
              "0          0.0328           0       0     True\n",
              "1          0.5691           1       0    False\n",
              "2          0.3959           0       1    False\n",
              "3          0.0975           0       0     True\n",
              "4          0.7982           1       1     True\n",
              "...           ...         ...     ...      ...\n",
              "9774       0.6375           1       1     True\n",
              "9775       0.0460           0       0     True\n",
              "9776       0.0997           0       0     True\n",
              "9777       0.0342           0       0     True\n",
              "9778       0.6406           1       0    False\n",
              "\n",
              "[9779 rows x 4 columns]"
            ]
          },
          "metadata": {},
          "execution_count": 49
        }
      ]
    },
    {
      "cell_type": "code",
      "metadata": {
        "colab": {
          "base_uri": "https://localhost:8080/"
        },
        "id": "A__c9WmGPgLi",
        "outputId": "e9c0fb41-b113-45ae-bd5a-9ad2c804df5c"
      },
      "source": [
        "df_pred['correct'].value_counts()"
      ],
      "execution_count": 50,
      "outputs": [
        {
          "output_type": "execute_result",
          "data": {
            "text/plain": [
              "True     7691\n",
              "False    2088\n",
              "Name: correct, dtype: int64"
            ]
          },
          "metadata": {},
          "execution_count": 50
        }
      ]
    },
    {
      "cell_type": "code",
      "metadata": {
        "colab": {
          "base_uri": "https://localhost:8080/"
        },
        "id": "1tXJd3lKPktd",
        "outputId": "ef36e021-f1be-419a-c047-34f34bbc2c53"
      },
      "source": [
        "df_pred['correct'].mean()"
      ],
      "execution_count": 51,
      "outputs": [
        {
          "output_type": "execute_result",
          "data": {
            "text/plain": [
              "0.7864812353001329"
            ]
          },
          "metadata": {},
          "execution_count": 51
        }
      ]
    },
    {
      "cell_type": "code",
      "metadata": {
        "colab": {
          "base_uri": "https://localhost:8080/"
        },
        "id": "xcyQk2N2Ppri",
        "outputId": "e37aa6f2-552a-43b5-b8e8-4f8fcc166a54"
      },
      "source": [
        "round(df_pred['correct'].mean(), 2)"
      ],
      "execution_count": 52,
      "outputs": [
        {
          "output_type": "execute_result",
          "data": {
            "text/plain": [
              "0.79"
            ]
          },
          "metadata": {},
          "execution_count": 52
        }
      ]
    },
    {
      "cell_type": "markdown",
      "metadata": {
        "id": "-VW4yxbVQ8au"
      },
      "source": [
        "Question 5:\n",
        "\n",
        "\n",
        "We have 9 features: 7 numerical features and 2 categorical.\n",
        "Let's find the least useful one using the feature elimination technique.\n",
        "Train a model with all these features (using the same parameters as in Q4).\n",
        "\n",
        "Now exclude each feature from this set and train a model without it. Record the accuracy for each model.\n",
        "For each feature, calculate the difference between the original accuracy and the accuracy without the feature.\n",
        "\n",
        "Which of following feature has the smallest difference?\n",
        "\n",
        "1. neighbourhood_group\n",
        "\n",
        "2. room_type\n",
        "\n",
        "3. number_of_reviews\n",
        "\n",
        "4. reviews_per_month\n",
        "\n",
        "note: the difference doesn't have to be positive"
      ]
    },
    {
      "cell_type": "code",
      "metadata": {
        "colab": {
          "base_uri": "https://localhost:8080/"
        },
        "id": "2P9H-meDR-Ee",
        "outputId": "238653d6-2a0b-44da-fd4c-66109fb737e7"
      },
      "source": [
        "dv.get_feature_names()"
      ],
      "execution_count": 53,
      "outputs": [
        {
          "output_type": "execute_result",
          "data": {
            "text/plain": [
              "['availability_365',\n",
              " 'calculated_host_listings_count',\n",
              " 'latitude',\n",
              " 'longitude',\n",
              " 'minimum_nights',\n",
              " 'neighbourhood_group=bronx',\n",
              " 'neighbourhood_group=brooklyn',\n",
              " 'neighbourhood_group=manhattan',\n",
              " 'neighbourhood_group=queens',\n",
              " 'neighbourhood_group=staten_island',\n",
              " 'number_of_reviews',\n",
              " 'reviews_per_month',\n",
              " 'room_type=entire_home/apt',\n",
              " 'room_type=private_room',\n",
              " 'room_type=shared_room']"
            ]
          },
          "metadata": {},
          "execution_count": 53
        }
      ]
    },
    {
      "cell_type": "code",
      "metadata": {
        "colab": {
          "base_uri": "https://localhost:8080/",
          "height": 439
        },
        "id": "FIqZhPrfQ5e9",
        "outputId": "9d1049c5-613e-4253-ca2b-cb16f7274acf"
      },
      "source": [
        "X_train_no_neighbourhood = pd.DataFrame(X_train)\n",
        "X_train_no_neighbourhood.columns = dv.get_feature_names()\n",
        "X_train_no_neighbourhood = X_train_no_neighbourhood.drop(columns = ['neighbourhood_group=bronx',\n",
        "                                                                    'neighbourhood_group=brooklyn',\n",
        "                                                                    'neighbourhood_group=manhattan',\n",
        "                                                                    'neighbourhood_group=queens',\n",
        "                                                                    'neighbourhood_group=staten_island'])\n",
        "X_train_no_neighbourhood"
      ],
      "execution_count": 54,
      "outputs": [
        {
          "output_type": "execute_result",
          "data": {
            "text/html": [
              "<div>\n",
              "<style scoped>\n",
              "    .dataframe tbody tr th:only-of-type {\n",
              "        vertical-align: middle;\n",
              "    }\n",
              "\n",
              "    .dataframe tbody tr th {\n",
              "        vertical-align: top;\n",
              "    }\n",
              "\n",
              "    .dataframe thead th {\n",
              "        text-align: right;\n",
              "    }\n",
              "</style>\n",
              "<table border=\"1\" class=\"dataframe\">\n",
              "  <thead>\n",
              "    <tr style=\"text-align: right;\">\n",
              "      <th></th>\n",
              "      <th>availability_365</th>\n",
              "      <th>calculated_host_listings_count</th>\n",
              "      <th>latitude</th>\n",
              "      <th>longitude</th>\n",
              "      <th>minimum_nights</th>\n",
              "      <th>number_of_reviews</th>\n",
              "      <th>reviews_per_month</th>\n",
              "      <th>room_type=entire_home/apt</th>\n",
              "      <th>room_type=private_room</th>\n",
              "      <th>room_type=shared_room</th>\n",
              "    </tr>\n",
              "  </thead>\n",
              "  <tbody>\n",
              "    <tr>\n",
              "      <th>0</th>\n",
              "      <td>50.0000</td>\n",
              "      <td>13.0000</td>\n",
              "      <td>40.7276</td>\n",
              "      <td>-73.9450</td>\n",
              "      <td>3.0000</td>\n",
              "      <td>29.0000</td>\n",
              "      <td>0.7000</td>\n",
              "      <td>1.0000</td>\n",
              "      <td>0.0000</td>\n",
              "      <td>0.0000</td>\n",
              "    </tr>\n",
              "    <tr>\n",
              "      <th>1</th>\n",
              "      <td>7.0000</td>\n",
              "      <td>1.0000</td>\n",
              "      <td>40.7085</td>\n",
              "      <td>-74.0050</td>\n",
              "      <td>1.0000</td>\n",
              "      <td>0.0000</td>\n",
              "      <td>0.0000</td>\n",
              "      <td>0.0000</td>\n",
              "      <td>1.0000</td>\n",
              "      <td>0.0000</td>\n",
              "    </tr>\n",
              "    <tr>\n",
              "      <th>2</th>\n",
              "      <td>0.0000</td>\n",
              "      <td>1.0000</td>\n",
              "      <td>40.8315</td>\n",
              "      <td>-73.9277</td>\n",
              "      <td>40.0000</td>\n",
              "      <td>0.0000</td>\n",
              "      <td>0.0000</td>\n",
              "      <td>1.0000</td>\n",
              "      <td>0.0000</td>\n",
              "      <td>0.0000</td>\n",
              "    </tr>\n",
              "    <tr>\n",
              "      <th>3</th>\n",
              "      <td>0.0000</td>\n",
              "      <td>1.0000</td>\n",
              "      <td>40.6645</td>\n",
              "      <td>-73.9941</td>\n",
              "      <td>2.0000</td>\n",
              "      <td>3.0000</td>\n",
              "      <td>0.0800</td>\n",
              "      <td>1.0000</td>\n",
              "      <td>0.0000</td>\n",
              "      <td>0.0000</td>\n",
              "    </tr>\n",
              "    <tr>\n",
              "      <th>4</th>\n",
              "      <td>67.0000</td>\n",
              "      <td>2.0000</td>\n",
              "      <td>40.7412</td>\n",
              "      <td>-74.0001</td>\n",
              "      <td>1.0000</td>\n",
              "      <td>48.0000</td>\n",
              "      <td>1.8000</td>\n",
              "      <td>0.0000</td>\n",
              "      <td>1.0000</td>\n",
              "      <td>0.0000</td>\n",
              "    </tr>\n",
              "    <tr>\n",
              "      <th>...</th>\n",
              "      <td>...</td>\n",
              "      <td>...</td>\n",
              "      <td>...</td>\n",
              "      <td>...</td>\n",
              "      <td>...</td>\n",
              "      <td>...</td>\n",
              "      <td>...</td>\n",
              "      <td>...</td>\n",
              "      <td>...</td>\n",
              "      <td>...</td>\n",
              "    </tr>\n",
              "    <tr>\n",
              "      <th>29332</th>\n",
              "      <td>0.0000</td>\n",
              "      <td>1.0000</td>\n",
              "      <td>40.7175</td>\n",
              "      <td>-73.9569</td>\n",
              "      <td>6.0000</td>\n",
              "      <td>5.0000</td>\n",
              "      <td>0.1300</td>\n",
              "      <td>0.0000</td>\n",
              "      <td>1.0000</td>\n",
              "      <td>0.0000</td>\n",
              "    </tr>\n",
              "    <tr>\n",
              "      <th>29333</th>\n",
              "      <td>0.0000</td>\n",
              "      <td>2.0000</td>\n",
              "      <td>40.6640</td>\n",
              "      <td>-73.9854</td>\n",
              "      <td>1.0000</td>\n",
              "      <td>7.0000</td>\n",
              "      <td>0.1700</td>\n",
              "      <td>0.0000</td>\n",
              "      <td>1.0000</td>\n",
              "      <td>0.0000</td>\n",
              "    </tr>\n",
              "    <tr>\n",
              "      <th>29334</th>\n",
              "      <td>88.0000</td>\n",
              "      <td>1.0000</td>\n",
              "      <td>40.7999</td>\n",
              "      <td>-73.9700</td>\n",
              "      <td>1.0000</td>\n",
              "      <td>1.0000</td>\n",
              "      <td>0.6400</td>\n",
              "      <td>0.0000</td>\n",
              "      <td>1.0000</td>\n",
              "      <td>0.0000</td>\n",
              "    </tr>\n",
              "    <tr>\n",
              "      <th>29335</th>\n",
              "      <td>0.0000</td>\n",
              "      <td>1.0000</td>\n",
              "      <td>40.6959</td>\n",
              "      <td>-73.9634</td>\n",
              "      <td>60.0000</td>\n",
              "      <td>0.0000</td>\n",
              "      <td>0.0000</td>\n",
              "      <td>0.0000</td>\n",
              "      <td>1.0000</td>\n",
              "      <td>0.0000</td>\n",
              "    </tr>\n",
              "    <tr>\n",
              "      <th>29336</th>\n",
              "      <td>281.0000</td>\n",
              "      <td>2.0000</td>\n",
              "      <td>40.6444</td>\n",
              "      <td>-73.9548</td>\n",
              "      <td>7.0000</td>\n",
              "      <td>15.0000</td>\n",
              "      <td>0.4900</td>\n",
              "      <td>1.0000</td>\n",
              "      <td>0.0000</td>\n",
              "      <td>0.0000</td>\n",
              "    </tr>\n",
              "  </tbody>\n",
              "</table>\n",
              "<p>29337 rows × 10 columns</p>\n",
              "</div>"
            ],
            "text/plain": [
              "       availability_365  ...  room_type=shared_room\n",
              "0               50.0000  ...                 0.0000\n",
              "1                7.0000  ...                 0.0000\n",
              "2                0.0000  ...                 0.0000\n",
              "3                0.0000  ...                 0.0000\n",
              "4               67.0000  ...                 0.0000\n",
              "...                 ...  ...                    ...\n",
              "29332            0.0000  ...                 0.0000\n",
              "29333            0.0000  ...                 0.0000\n",
              "29334           88.0000  ...                 0.0000\n",
              "29335            0.0000  ...                 0.0000\n",
              "29336          281.0000  ...                 0.0000\n",
              "\n",
              "[29337 rows x 10 columns]"
            ]
          },
          "metadata": {},
          "execution_count": 54
        }
      ]
    },
    {
      "cell_type": "code",
      "metadata": {
        "colab": {
          "base_uri": "https://localhost:8080/"
        },
        "id": "N9W4NCNBpwXR",
        "outputId": "fa4c21d6-a031-4935-9d97-33c6dafa1306"
      },
      "source": [
        "model = LogisticRegression(solver='lbfgs', C=1.0, random_state=42)\n",
        "model.fit(X_train_no_neighbourhood, y_train_2)"
      ],
      "execution_count": 76,
      "outputs": [
        {
          "output_type": "execute_result",
          "data": {
            "text/plain": [
              "LogisticRegression(C=1.0, class_weight=None, dual=False, fit_intercept=True,\n",
              "                   intercept_scaling=1, l1_ratio=None, max_iter=100,\n",
              "                   multi_class='auto', n_jobs=None, penalty='l2',\n",
              "                   random_state=42, solver='lbfgs', tol=0.0001, verbose=0,\n",
              "                   warm_start=False)"
            ]
          },
          "metadata": {},
          "execution_count": 76
        }
      ]
    },
    {
      "cell_type": "code",
      "metadata": {
        "id": "wJdUlkqNqYtG"
      },
      "source": [
        "X_val_no_neighbourhood = pd.DataFrame(X_val)\n",
        "X_val_no_neighbourhood.columns = dv.get_feature_names()\n",
        "X_val_no_neighbourhood = X_val_no_neighbourhood.drop(columns = ['neighbourhood_group=bronx',\n",
        "                                                                    'neighbourhood_group=brooklyn',\n",
        "                                                                    'neighbourhood_group=manhattan',\n",
        "                                                                    'neighbourhood_group=queens',\n",
        "                                                                    'neighbourhood_group=staten_island'])"
      ],
      "execution_count": 77,
      "outputs": []
    },
    {
      "cell_type": "code",
      "metadata": {
        "colab": {
          "base_uri": "https://localhost:8080/"
        },
        "id": "j7ovtE5jqOMT",
        "outputId": "31dd3142-4d0a-4322-f24d-f2e2b39a2c39"
      },
      "source": [
        "y_pred = model.predict_proba(X_val_no_neighbourhood)[:,1]\n",
        "y_pred"
      ],
      "execution_count": 78,
      "outputs": [
        {
          "output_type": "execute_result",
          "data": {
            "text/plain": [
              "array([0.04868643, 0.67797039, 0.48406693, ..., 0.05328779, 0.05456754,\n",
              "       0.49418483])"
            ]
          },
          "metadata": {},
          "execution_count": 78
        }
      ]
    },
    {
      "cell_type": "code",
      "metadata": {
        "colab": {
          "base_uri": "https://localhost:8080/"
        },
        "id": "lp3QwprBq0yt",
        "outputId": "c9426b2b-faa2-46d5-b0f2-ead86caf6cf3"
      },
      "source": [
        "no_neigh_acc = (np.array((y_val > 151).astype(int)) == (y_pred >= 0.5).astype(int)).mean()\n",
        "no_neigh_acc"
      ],
      "execution_count": 79,
      "outputs": [
        {
          "output_type": "execute_result",
          "data": {
            "text/plain": [
              "0.7509970344616014"
            ]
          },
          "metadata": {},
          "execution_count": 79
        }
      ]
    },
    {
      "cell_type": "code",
      "metadata": {
        "colab": {
          "base_uri": "https://localhost:8080/"
        },
        "id": "cVUTWuHxrEfR",
        "outputId": "f267e045-dd9a-4e2d-a088-04fa71337a71"
      },
      "source": [
        "X_train_no_room = pd.DataFrame(X_train)\n",
        "X_train_no_room.columns = dv.get_feature_names()\n",
        "X_train_no_room = X_train_no_room.drop(columns = ['room_type=entire_home/apt',\n",
        "                                                  'room_type=private_room',\n",
        "                                                  'room_type=shared_room'])\n",
        "model = LogisticRegression(solver='lbfgs', C=1.0, random_state=42)\n",
        "model.fit(X_train_no_room, y_train_2)\n",
        "X_val_no_room = pd.DataFrame(X_val)\n",
        "X_val_no_room.columns = dv.get_feature_names()\n",
        "X_val_no_room = X_val_no_room.drop(columns = ['room_type=entire_home/apt',\n",
        "                                              'room_type=private_room',\n",
        "                                              'room_type=shared_room'])\n",
        "y_pred = model.predict_proba(X_val_no_room)[:,1]\n",
        "no_room_acc = (np.array((y_val > 151).astype(int)) == (y_pred >= 0.5).astype(int)).mean()\n",
        "no_room_acc"
      ],
      "execution_count": 68,
      "outputs": [
        {
          "output_type": "stream",
          "name": "stderr",
          "text": [
            "/usr/local/lib/python3.7/dist-packages/sklearn/linear_model/_logistic.py:940: ConvergenceWarning: lbfgs failed to converge (status=1):\n",
            "STOP: TOTAL NO. of ITERATIONS REACHED LIMIT.\n",
            "\n",
            "Increase the number of iterations (max_iter) or scale the data as shown in:\n",
            "    https://scikit-learn.org/stable/modules/preprocessing.html\n",
            "Please also refer to the documentation for alternative solver options:\n",
            "    https://scikit-learn.org/stable/modules/linear_model.html#logistic-regression\n",
            "  extra_warning_msg=_LOGISTIC_SOLVER_CONVERGENCE_MSG)\n"
          ]
        },
        {
          "output_type": "execute_result",
          "data": {
            "text/plain": [
              "0.7165354330708661"
            ]
          },
          "metadata": {},
          "execution_count": 68
        }
      ]
    },
    {
      "cell_type": "code",
      "metadata": {
        "colab": {
          "base_uri": "https://localhost:8080/"
        },
        "id": "gmsoVutzrtxk",
        "outputId": "2ca62617-5f77-4240-92d7-dd6ec6f107f8"
      },
      "source": [
        "X_train_no_rev = pd.DataFrame(X_train)\n",
        "X_train_no_rev.columns = dv.get_feature_names()\n",
        "X_train_no_rev = X_train_no_rev.drop(columns = ['number_of_reviews'])\n",
        "model = LogisticRegression(solver='lbfgs', C=1.0, random_state=42)\n",
        "model.fit(X_train_no_rev, y_train_2)\n",
        "X_val_no_rev = pd.DataFrame(X_val)\n",
        "X_val_no_rev.columns = dv.get_feature_names()\n",
        "X_val_no_rev = X_val_no_rev.drop(columns = ['number_of_reviews'])\n",
        "y_pred = model.predict_proba(X_val_no_rev)[:,1]\n",
        "no_rev_num_acc = (np.array((y_val > 151).astype(int)) == (y_pred >= 0.5).astype(int)).mean()\n",
        "no_rev_num_acc"
      ],
      "execution_count": 69,
      "outputs": [
        {
          "output_type": "stream",
          "name": "stderr",
          "text": [
            "/usr/local/lib/python3.7/dist-packages/sklearn/linear_model/_logistic.py:940: ConvergenceWarning: lbfgs failed to converge (status=1):\n",
            "STOP: TOTAL NO. of ITERATIONS REACHED LIMIT.\n",
            "\n",
            "Increase the number of iterations (max_iter) or scale the data as shown in:\n",
            "    https://scikit-learn.org/stable/modules/preprocessing.html\n",
            "Please also refer to the documentation for alternative solver options:\n",
            "    https://scikit-learn.org/stable/modules/linear_model.html#logistic-regression\n",
            "  extra_warning_msg=_LOGISTIC_SOLVER_CONVERGENCE_MSG)\n"
          ]
        },
        {
          "output_type": "execute_result",
          "data": {
            "text/plain": [
              "0.7869925350240311"
            ]
          },
          "metadata": {},
          "execution_count": 69
        }
      ]
    },
    {
      "cell_type": "code",
      "metadata": {
        "colab": {
          "base_uri": "https://localhost:8080/"
        },
        "id": "ifjycdKpsLfs",
        "outputId": "25e8ccf6-c34a-4f4d-a084-f289db9bdddf"
      },
      "source": [
        "X_train_no_rev_month = pd.DataFrame(X_train)\n",
        "X_train_no_rev_month.columns = dv.get_feature_names()\n",
        "X_train_no_rev_month = X_train_no_rev_month.drop(columns = ['reviews_per_month'])\n",
        "model = LogisticRegression(solver='lbfgs', C=1.0, random_state=42)\n",
        "model.fit(X_train_no_rev_month, y_train_2)\n",
        "X_val_no_rev_month = pd.DataFrame(X_val)\n",
        "X_val_no_rev_month.columns = dv.get_feature_names()\n",
        "X_val_no_rev_month = X_val_no_rev_month.drop(columns = ['reviews_per_month'])\n",
        "y_pred = model.predict_proba(X_val_no_rev_month)[:,1]\n",
        "no_rev_month_acc = (np.array((y_val > 151).astype(int)) == (y_pred >= 0.5).astype(int)).mean()\n",
        "no_rev_month_acc"
      ],
      "execution_count": 71,
      "outputs": [
        {
          "output_type": "stream",
          "name": "stderr",
          "text": [
            "/usr/local/lib/python3.7/dist-packages/sklearn/linear_model/_logistic.py:940: ConvergenceWarning: lbfgs failed to converge (status=1):\n",
            "STOP: TOTAL NO. of ITERATIONS REACHED LIMIT.\n",
            "\n",
            "Increase the number of iterations (max_iter) or scale the data as shown in:\n",
            "    https://scikit-learn.org/stable/modules/preprocessing.html\n",
            "Please also refer to the documentation for alternative solver options:\n",
            "    https://scikit-learn.org/stable/modules/linear_model.html#logistic-regression\n",
            "  extra_warning_msg=_LOGISTIC_SOLVER_CONVERGENCE_MSG)\n"
          ]
        },
        {
          "output_type": "execute_result",
          "data": {
            "text/plain": [
              "0.7850495960732181"
            ]
          },
          "metadata": {},
          "execution_count": 71
        }
      ]
    },
    {
      "cell_type": "code",
      "metadata": {
        "colab": {
          "base_uri": "https://localhost:8080/"
        },
        "id": "mHigAswcs-Ap",
        "outputId": "791bd8e2-5e31-4f97-c9a1-a9ea9dda21f2"
      },
      "source": [
        "no_neigh_acc, no_rev_month_acc, no_rev_num_acc, no_room_acc"
      ],
      "execution_count": 80,
      "outputs": [
        {
          "output_type": "execute_result",
          "data": {
            "text/plain": [
              "(0.7509970344616014,\n",
              " 0.7850495960732181,\n",
              " 0.7869925350240311,\n",
              " 0.7165354330708661)"
            ]
          },
          "metadata": {},
          "execution_count": 80
        }
      ]
    },
    {
      "cell_type": "markdown",
      "metadata": {
        "id": "T-Vp2v7btyRx"
      },
      "source": [
        "Question 6:\n",
        "\n",
        "For this question, we'll see how to use a linear regression model from Scikit-Learn. We'll need to use the original column 'price'. \n",
        "\n",
        "Apply the logarithmic transformation to this column. Fit the Ridge regression model on the training data. This model has a parameter alpha. Let's try the following values: [0, 0.01, 0.1, 1, 10]\n",
        "\n",
        "Which of these alphas leads to the best RMSE on the validation set? Round your RMSE scores to 3 decimal digits.\n",
        "If there are multiple options, select the smallest alpha."
      ]
    },
    {
      "cell_type": "code",
      "metadata": {
        "id": "rkkBkBFJ3pHd"
      },
      "source": [
        "df['log_price'] = np.log1p(df.price)\n",
        "y_train_log = np.log1p(y_train)\n",
        "y_val_log = np.log1p(y_val)"
      ],
      "execution_count": 96,
      "outputs": []
    },
    {
      "cell_type": "code",
      "metadata": {
        "id": "3xxH_ywo5u80"
      },
      "source": [
        "def rmse(y, y_pred):\n",
        "    se = (y - y_pred) ** 2\n",
        "    mse = se.mean()\n",
        "    return np.sqrt(mse)"
      ],
      "execution_count": 93,
      "outputs": []
    },
    {
      "cell_type": "code",
      "metadata": {
        "id": "uNB7K6O94lf2"
      },
      "source": [
        "alpha = [0, 0.01, 0.1, 1, 10]"
      ],
      "execution_count": 88,
      "outputs": []
    },
    {
      "cell_type": "code",
      "metadata": {
        "colab": {
          "base_uri": "https://localhost:8080/"
        },
        "id": "Fc9UG86K4ite",
        "outputId": "35b8c757-e011-40f5-f7cd-260f2ae97419"
      },
      "source": [
        "from sklearn.linear_model import Ridge\n",
        "model = Ridge(alpha=0)\n",
        "model.fit(X_train, y_train_log)\n",
        "y_pred_val_log = model.predict(X_val)\n",
        "rmse_0 = rmse(y_val_log, y_pred_val_log)\n",
        "rmse_0"
      ],
      "execution_count": 106,
      "outputs": [
        {
          "output_type": "execute_result",
          "data": {
            "text/plain": [
              "0.4971901903517499"
            ]
          },
          "metadata": {},
          "execution_count": 106
        }
      ]
    },
    {
      "cell_type": "code",
      "metadata": {
        "colab": {
          "base_uri": "https://localhost:8080/"
        },
        "id": "-IzadsrP6kdK",
        "outputId": "618323a6-cf31-4467-ddcd-4e71df780730"
      },
      "source": [
        "from sklearn.linear_model import Ridge\n",
        "model = Ridge(alpha=0.01)\n",
        "model.fit(X_train, y_train_log)\n",
        "y_pred_val_log = model.predict(X_val)\n",
        "rmse_0_01 = rmse(y_val_log, y_pred_val_log)\n",
        "rmse_0_01"
      ],
      "execution_count": 107,
      "outputs": [
        {
          "output_type": "execute_result",
          "data": {
            "text/plain": [
              "0.4971173046190628"
            ]
          },
          "metadata": {},
          "execution_count": 107
        }
      ]
    },
    {
      "cell_type": "code",
      "metadata": {
        "colab": {
          "base_uri": "https://localhost:8080/"
        },
        "id": "62Yan7pk6m8p",
        "outputId": "00b9e769-db3a-4f65-e8ea-c4e060eef5ff"
      },
      "source": [
        "from sklearn.linear_model import Ridge\n",
        "model = Ridge(alpha=0.1)\n",
        "model.fit(X_train, y_train_log)\n",
        "y_pred_val_log = model.predict(X_val)\n",
        "rmse_0_1 = rmse(y_val_log, y_pred_val_log)\n",
        "rmse_0_1"
      ],
      "execution_count": 108,
      "outputs": [
        {
          "output_type": "execute_result",
          "data": {
            "text/plain": [
              "0.4971183244694407"
            ]
          },
          "metadata": {},
          "execution_count": 108
        }
      ]
    },
    {
      "cell_type": "code",
      "metadata": {
        "colab": {
          "base_uri": "https://localhost:8080/"
        },
        "id": "7R6Pzc4y6pZR",
        "outputId": "13528e15-1394-4ca7-8562-7d316b02a870"
      },
      "source": [
        "from sklearn.linear_model import Ridge\n",
        "model = Ridge(alpha=1)\n",
        "model.fit(X_train, y_train_log)\n",
        "y_pred_val_log = model.predict(X_val)\n",
        "rmse_1 = rmse(y_val_log, y_pred_val_log)\n",
        "rmse_1"
      ],
      "execution_count": 109,
      "outputs": [
        {
          "output_type": "execute_result",
          "data": {
            "text/plain": [
              "0.4971395363320047"
            ]
          },
          "metadata": {},
          "execution_count": 109
        }
      ]
    },
    {
      "cell_type": "code",
      "metadata": {
        "colab": {
          "base_uri": "https://localhost:8080/"
        },
        "id": "1pX2pUwU6r-Y",
        "outputId": "97276e3c-dbd9-4c6b-c51f-9795fe2bbe04"
      },
      "source": [
        "from sklearn.linear_model import Ridge\n",
        "model = Ridge(alpha=10)\n",
        "model.fit(X_train, y_train_log)\n",
        "y_pred_val_log = model.predict(X_val)\n",
        "rmse_10 = rmse(y_val_log, y_pred_val_log)\n",
        "rmse_10"
      ],
      "execution_count": 110,
      "outputs": [
        {
          "output_type": "execute_result",
          "data": {
            "text/plain": [
              "0.49788660158765524"
            ]
          },
          "metadata": {},
          "execution_count": 110
        }
      ]
    },
    {
      "cell_type": "code",
      "metadata": {
        "colab": {
          "base_uri": "https://localhost:8080/"
        },
        "id": "JDQvMDsL7D8y",
        "outputId": "fb15c41e-037d-47ef-b301-0338861fb008"
      },
      "source": [
        "rmse_0, rmse_0_01, rmse_0_1, rmse_1, rmse_10"
      ],
      "execution_count": 111,
      "outputs": [
        {
          "output_type": "execute_result",
          "data": {
            "text/plain": [
              "(0.4971901903517499,\n",
              " 0.4971173046190628,\n",
              " 0.4971183244694407,\n",
              " 0.4971395363320047,\n",
              " 0.49788660158765524)"
            ]
          },
          "metadata": {},
          "execution_count": 111
        }
      ]
    },
    {
      "cell_type": "code",
      "metadata": {
        "colab": {
          "base_uri": "https://localhost:8080/"
        },
        "id": "Qrdmr4487Kpp",
        "outputId": "d1a0131a-c929-47f5-b5d0-5eb97423c0da"
      },
      "source": [
        "min(rmse_0, rmse_0_01, rmse_0_1, rmse_1, rmse_10)"
      ],
      "execution_count": 112,
      "outputs": [
        {
          "output_type": "execute_result",
          "data": {
            "text/plain": [
              "0.4971173046190628"
            ]
          },
          "metadata": {},
          "execution_count": 112
        }
      ]
    },
    {
      "cell_type": "code",
      "metadata": {
        "id": "NK6O2vUIRwiQ"
      },
      "source": [
        "from hashlib import sha1\n",
        "\n",
        "def compute_hash(email):\n",
        "    return sha1(email.lower().encode('utf-8')).hexdigest()"
      ],
      "execution_count": 55,
      "outputs": []
    },
    {
      "cell_type": "code",
      "metadata": {
        "colab": {
          "base_uri": "https://localhost:8080/",
          "height": 35
        },
        "id": "SRrf2Oq3HjG7",
        "outputId": "043e2d0a-aaca-466b-96e5-8a3799df6620"
      },
      "source": [
        "compute_hash(\"dezh.econ@gmail.com\")"
      ],
      "execution_count": 56,
      "outputs": [
        {
          "output_type": "execute_result",
          "data": {
            "application/vnd.google.colaboratory.intrinsic+json": {
              "type": "string"
            },
            "text/plain": [
              "'820ecc29bc0c94cfd3fc925eedfeba5f04e7b8dc'"
            ]
          },
          "metadata": {},
          "execution_count": 56
        }
      ]
    }
  ]
}