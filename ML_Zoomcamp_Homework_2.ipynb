{
  "nbformat": 4,
  "nbformat_minor": 0,
  "metadata": {
    "colab": {
      "name": "ML Zoomcamp - Homework #2.ipynb",
      "provenance": [],
      "collapsed_sections": []
    },
    "kernelspec": {
      "name": "python3",
      "display_name": "Python 3"
    },
    "language_info": {
      "name": "python"
    }
  },
  "cells": [
    {
      "cell_type": "code",
      "metadata": {
        "colab": {
          "base_uri": "https://localhost:8080/"
        },
        "id": "rwpFO4Qc-A8f",
        "outputId": "b5159346-db6c-4693-b3db-3bc63875a1b1"
      },
      "source": [
        "!pip install wget"
      ],
      "execution_count": 1,
      "outputs": [
        {
          "output_type": "stream",
          "name": "stdout",
          "text": [
            "Collecting wget\n",
            "  Downloading wget-3.2.zip (10 kB)\n",
            "Building wheels for collected packages: wget\n",
            "  Building wheel for wget (setup.py) ... \u001b[?25l\u001b[?25hdone\n",
            "  Created wheel for wget: filename=wget-3.2-py3-none-any.whl size=9672 sha256=cb94142571a9cef779aca3a7706cb981c5747451a39d3484801b3d6dcaa0b9f6\n",
            "  Stored in directory: /root/.cache/pip/wheels/a1/b6/7c/0e63e34eb06634181c63adacca38b79ff8f35c37e3c13e3c02\n",
            "Successfully built wget\n",
            "Installing collected packages: wget\n",
            "Successfully installed wget-3.2\n"
          ]
        }
      ]
    },
    {
      "cell_type": "code",
      "metadata": {
        "id": "3xhCUm7U-SwL"
      },
      "source": [
        "import numpy as np\n",
        "import pandas as pd\n",
        "import matplotlib.pyplot as plt\n",
        "import seaborn as sns\n",
        "import wget\n",
        "pd.options.display.float_format = '{:,.4f}'.format"
      ],
      "execution_count": 2,
      "outputs": []
    },
    {
      "cell_type": "code",
      "metadata": {
        "colab": {
          "base_uri": "https://localhost:8080/",
          "height": 35
        },
        "id": "XGMfqAJJ-TLN",
        "outputId": "97d6e8ec-5e19-4110-d766-52a5d192b15e"
      },
      "source": [
        "# Getting the data:\n",
        "\n",
        "wget.download('https://raw.githubusercontent.com/alexeygrigorev/datasets/master/AB_NYC_2019.csv')"
      ],
      "execution_count": 3,
      "outputs": [
        {
          "output_type": "execute_result",
          "data": {
            "application/vnd.google.colaboratory.intrinsic+json": {
              "type": "string"
            },
            "text/plain": [
              "'AB_NYC_2019.csv'"
            ]
          },
          "metadata": {},
          "execution_count": 3
        }
      ]
    },
    {
      "cell_type": "code",
      "metadata": {
        "colab": {
          "base_uri": "https://localhost:8080/"
        },
        "id": "UrL5mP66-aZe",
        "outputId": "68b79531-e7e6-4b31-e381-201e2e4b06ae"
      },
      "source": [
        "# Opening File:\n",
        "\n",
        "df = pd.read_csv('/content/AB_NYC_2019.csv')\n",
        "df.columns"
      ],
      "execution_count": 4,
      "outputs": [
        {
          "output_type": "execute_result",
          "data": {
            "text/plain": [
              "Index(['id', 'name', 'host_id', 'host_name', 'neighbourhood_group',\n",
              "       'neighbourhood', 'latitude', 'longitude', 'room_type', 'price',\n",
              "       'minimum_nights', 'number_of_reviews', 'last_review',\n",
              "       'reviews_per_month', 'calculated_host_listings_count',\n",
              "       'availability_365'],\n",
              "      dtype='object')"
            ]
          },
          "metadata": {},
          "execution_count": 4
        }
      ]
    },
    {
      "cell_type": "code",
      "metadata": {
        "id": "iUFZCyrC-w7a"
      },
      "source": [
        "# Fixing df's text\n",
        "\n",
        "df.columns = df.columns.str.lower().str.replace(' ', '_')\n",
        "\n",
        "string_columns = list(df.dtypes[df.dtypes == 'object'].index)\n",
        "\n",
        "for col in string_columns:\n",
        "    df[col] = df[col].str.lower().str.replace(' ', '_')"
      ],
      "execution_count": 5,
      "outputs": []
    },
    {
      "cell_type": "code",
      "metadata": {
        "colab": {
          "base_uri": "https://localhost:8080/"
        },
        "id": "M7DBjDio_lFZ",
        "outputId": "20505502-efa8-4b8e-befd-19b2e98ee598"
      },
      "source": [
        "# number of columns:\n",
        "len(df.columns)"
      ],
      "execution_count": 6,
      "outputs": [
        {
          "output_type": "execute_result",
          "data": {
            "text/plain": [
              "16"
            ]
          },
          "metadata": {},
          "execution_count": 6
        }
      ]
    },
    {
      "cell_type": "markdown",
      "metadata": {
        "id": "4AUIDNHe-2_-"
      },
      "source": [
        "# EDA:"
      ]
    },
    {
      "cell_type": "code",
      "metadata": {
        "colab": {
          "base_uri": "https://localhost:8080/",
          "height": 456
        },
        "id": "rTORwH4J-kej",
        "outputId": "6a5b580b-d479-4d67-e6b7-7b59fcfaa9f8"
      },
      "source": [
        "# Exploring the dataframe:\n",
        "\n",
        "df"
      ],
      "execution_count": 7,
      "outputs": [
        {
          "output_type": "execute_result",
          "data": {
            "text/html": [
              "<div>\n",
              "<style scoped>\n",
              "    .dataframe tbody tr th:only-of-type {\n",
              "        vertical-align: middle;\n",
              "    }\n",
              "\n",
              "    .dataframe tbody tr th {\n",
              "        vertical-align: top;\n",
              "    }\n",
              "\n",
              "    .dataframe thead th {\n",
              "        text-align: right;\n",
              "    }\n",
              "</style>\n",
              "<table border=\"1\" class=\"dataframe\">\n",
              "  <thead>\n",
              "    <tr style=\"text-align: right;\">\n",
              "      <th></th>\n",
              "      <th>id</th>\n",
              "      <th>name</th>\n",
              "      <th>host_id</th>\n",
              "      <th>host_name</th>\n",
              "      <th>neighbourhood_group</th>\n",
              "      <th>neighbourhood</th>\n",
              "      <th>latitude</th>\n",
              "      <th>longitude</th>\n",
              "      <th>room_type</th>\n",
              "      <th>price</th>\n",
              "      <th>minimum_nights</th>\n",
              "      <th>number_of_reviews</th>\n",
              "      <th>last_review</th>\n",
              "      <th>reviews_per_month</th>\n",
              "      <th>calculated_host_listings_count</th>\n",
              "      <th>availability_365</th>\n",
              "    </tr>\n",
              "  </thead>\n",
              "  <tbody>\n",
              "    <tr>\n",
              "      <th>0</th>\n",
              "      <td>2539</td>\n",
              "      <td>clean_&amp;_quiet_apt_home_by_the_park</td>\n",
              "      <td>2787</td>\n",
              "      <td>john</td>\n",
              "      <td>brooklyn</td>\n",
              "      <td>kensington</td>\n",
              "      <td>40.6475</td>\n",
              "      <td>-73.9724</td>\n",
              "      <td>private_room</td>\n",
              "      <td>149</td>\n",
              "      <td>1</td>\n",
              "      <td>9</td>\n",
              "      <td>2018-10-19</td>\n",
              "      <td>0.2100</td>\n",
              "      <td>6</td>\n",
              "      <td>365</td>\n",
              "    </tr>\n",
              "    <tr>\n",
              "      <th>1</th>\n",
              "      <td>2595</td>\n",
              "      <td>skylit_midtown_castle</td>\n",
              "      <td>2845</td>\n",
              "      <td>jennifer</td>\n",
              "      <td>manhattan</td>\n",
              "      <td>midtown</td>\n",
              "      <td>40.7536</td>\n",
              "      <td>-73.9838</td>\n",
              "      <td>entire_home/apt</td>\n",
              "      <td>225</td>\n",
              "      <td>1</td>\n",
              "      <td>45</td>\n",
              "      <td>2019-05-21</td>\n",
              "      <td>0.3800</td>\n",
              "      <td>2</td>\n",
              "      <td>355</td>\n",
              "    </tr>\n",
              "    <tr>\n",
              "      <th>2</th>\n",
              "      <td>3647</td>\n",
              "      <td>the_village_of_harlem....new_york_!</td>\n",
              "      <td>4632</td>\n",
              "      <td>elisabeth</td>\n",
              "      <td>manhattan</td>\n",
              "      <td>harlem</td>\n",
              "      <td>40.8090</td>\n",
              "      <td>-73.9419</td>\n",
              "      <td>private_room</td>\n",
              "      <td>150</td>\n",
              "      <td>3</td>\n",
              "      <td>0</td>\n",
              "      <td>NaN</td>\n",
              "      <td>nan</td>\n",
              "      <td>1</td>\n",
              "      <td>365</td>\n",
              "    </tr>\n",
              "    <tr>\n",
              "      <th>3</th>\n",
              "      <td>3831</td>\n",
              "      <td>cozy_entire_floor_of_brownstone</td>\n",
              "      <td>4869</td>\n",
              "      <td>lisaroxanne</td>\n",
              "      <td>brooklyn</td>\n",
              "      <td>clinton_hill</td>\n",
              "      <td>40.6851</td>\n",
              "      <td>-73.9598</td>\n",
              "      <td>entire_home/apt</td>\n",
              "      <td>89</td>\n",
              "      <td>1</td>\n",
              "      <td>270</td>\n",
              "      <td>2019-07-05</td>\n",
              "      <td>4.6400</td>\n",
              "      <td>1</td>\n",
              "      <td>194</td>\n",
              "    </tr>\n",
              "    <tr>\n",
              "      <th>4</th>\n",
              "      <td>5022</td>\n",
              "      <td>entire_apt:_spacious_studio/loft_by_central_park</td>\n",
              "      <td>7192</td>\n",
              "      <td>laura</td>\n",
              "      <td>manhattan</td>\n",
              "      <td>east_harlem</td>\n",
              "      <td>40.7985</td>\n",
              "      <td>-73.9440</td>\n",
              "      <td>entire_home/apt</td>\n",
              "      <td>80</td>\n",
              "      <td>10</td>\n",
              "      <td>9</td>\n",
              "      <td>2018-11-19</td>\n",
              "      <td>0.1000</td>\n",
              "      <td>1</td>\n",
              "      <td>0</td>\n",
              "    </tr>\n",
              "    <tr>\n",
              "      <th>...</th>\n",
              "      <td>...</td>\n",
              "      <td>...</td>\n",
              "      <td>...</td>\n",
              "      <td>...</td>\n",
              "      <td>...</td>\n",
              "      <td>...</td>\n",
              "      <td>...</td>\n",
              "      <td>...</td>\n",
              "      <td>...</td>\n",
              "      <td>...</td>\n",
              "      <td>...</td>\n",
              "      <td>...</td>\n",
              "      <td>...</td>\n",
              "      <td>...</td>\n",
              "      <td>...</td>\n",
              "      <td>...</td>\n",
              "    </tr>\n",
              "    <tr>\n",
              "      <th>48890</th>\n",
              "      <td>36484665</td>\n",
              "      <td>charming_one_bedroom_-_newly_renovated_rowhouse</td>\n",
              "      <td>8232441</td>\n",
              "      <td>sabrina</td>\n",
              "      <td>brooklyn</td>\n",
              "      <td>bedford-stuyvesant</td>\n",
              "      <td>40.6785</td>\n",
              "      <td>-73.9500</td>\n",
              "      <td>private_room</td>\n",
              "      <td>70</td>\n",
              "      <td>2</td>\n",
              "      <td>0</td>\n",
              "      <td>NaN</td>\n",
              "      <td>nan</td>\n",
              "      <td>2</td>\n",
              "      <td>9</td>\n",
              "    </tr>\n",
              "    <tr>\n",
              "      <th>48891</th>\n",
              "      <td>36485057</td>\n",
              "      <td>affordable_room_in_bushwick/east_williamsburg</td>\n",
              "      <td>6570630</td>\n",
              "      <td>marisol</td>\n",
              "      <td>brooklyn</td>\n",
              "      <td>bushwick</td>\n",
              "      <td>40.7018</td>\n",
              "      <td>-73.9332</td>\n",
              "      <td>private_room</td>\n",
              "      <td>40</td>\n",
              "      <td>4</td>\n",
              "      <td>0</td>\n",
              "      <td>NaN</td>\n",
              "      <td>nan</td>\n",
              "      <td>2</td>\n",
              "      <td>36</td>\n",
              "    </tr>\n",
              "    <tr>\n",
              "      <th>48892</th>\n",
              "      <td>36485431</td>\n",
              "      <td>sunny_studio_at_historical_neighborhood</td>\n",
              "      <td>23492952</td>\n",
              "      <td>ilgar_&amp;_aysel</td>\n",
              "      <td>manhattan</td>\n",
              "      <td>harlem</td>\n",
              "      <td>40.8147</td>\n",
              "      <td>-73.9487</td>\n",
              "      <td>entire_home/apt</td>\n",
              "      <td>115</td>\n",
              "      <td>10</td>\n",
              "      <td>0</td>\n",
              "      <td>NaN</td>\n",
              "      <td>nan</td>\n",
              "      <td>1</td>\n",
              "      <td>27</td>\n",
              "    </tr>\n",
              "    <tr>\n",
              "      <th>48893</th>\n",
              "      <td>36485609</td>\n",
              "      <td>43rd_st._time_square-cozy_single_bed</td>\n",
              "      <td>30985759</td>\n",
              "      <td>taz</td>\n",
              "      <td>manhattan</td>\n",
              "      <td>hell's_kitchen</td>\n",
              "      <td>40.7575</td>\n",
              "      <td>-73.9911</td>\n",
              "      <td>shared_room</td>\n",
              "      <td>55</td>\n",
              "      <td>1</td>\n",
              "      <td>0</td>\n",
              "      <td>NaN</td>\n",
              "      <td>nan</td>\n",
              "      <td>6</td>\n",
              "      <td>2</td>\n",
              "    </tr>\n",
              "    <tr>\n",
              "      <th>48894</th>\n",
              "      <td>36487245</td>\n",
              "      <td>trendy_duplex_in_the_very_heart_of_hell's_kitchen</td>\n",
              "      <td>68119814</td>\n",
              "      <td>christophe</td>\n",
              "      <td>manhattan</td>\n",
              "      <td>hell's_kitchen</td>\n",
              "      <td>40.7640</td>\n",
              "      <td>-73.9893</td>\n",
              "      <td>private_room</td>\n",
              "      <td>90</td>\n",
              "      <td>7</td>\n",
              "      <td>0</td>\n",
              "      <td>NaN</td>\n",
              "      <td>nan</td>\n",
              "      <td>1</td>\n",
              "      <td>23</td>\n",
              "    </tr>\n",
              "  </tbody>\n",
              "</table>\n",
              "<p>48895 rows × 16 columns</p>\n",
              "</div>"
            ],
            "text/plain": [
              "             id  ... availability_365\n",
              "0          2539  ...              365\n",
              "1          2595  ...              355\n",
              "2          3647  ...              365\n",
              "3          3831  ...              194\n",
              "4          5022  ...                0\n",
              "...         ...  ...              ...\n",
              "48890  36484665  ...                9\n",
              "48891  36485057  ...               36\n",
              "48892  36485431  ...               27\n",
              "48893  36485609  ...                2\n",
              "48894  36487245  ...               23\n",
              "\n",
              "[48895 rows x 16 columns]"
            ]
          },
          "metadata": {},
          "execution_count": 7
        }
      ]
    },
    {
      "cell_type": "code",
      "metadata": {
        "colab": {
          "base_uri": "https://localhost:8080/",
          "height": 410
        },
        "id": "_dm2n364ACQo",
        "outputId": "f2cd9599-e031-45fe-ba2c-80b5ee526291"
      },
      "source": [
        "# descriptive statistics:\n",
        "df.describe(include='all')"
      ],
      "execution_count": 8,
      "outputs": [
        {
          "output_type": "execute_result",
          "data": {
            "text/html": [
              "<div>\n",
              "<style scoped>\n",
              "    .dataframe tbody tr th:only-of-type {\n",
              "        vertical-align: middle;\n",
              "    }\n",
              "\n",
              "    .dataframe tbody tr th {\n",
              "        vertical-align: top;\n",
              "    }\n",
              "\n",
              "    .dataframe thead th {\n",
              "        text-align: right;\n",
              "    }\n",
              "</style>\n",
              "<table border=\"1\" class=\"dataframe\">\n",
              "  <thead>\n",
              "    <tr style=\"text-align: right;\">\n",
              "      <th></th>\n",
              "      <th>id</th>\n",
              "      <th>name</th>\n",
              "      <th>host_id</th>\n",
              "      <th>host_name</th>\n",
              "      <th>neighbourhood_group</th>\n",
              "      <th>neighbourhood</th>\n",
              "      <th>latitude</th>\n",
              "      <th>longitude</th>\n",
              "      <th>room_type</th>\n",
              "      <th>price</th>\n",
              "      <th>minimum_nights</th>\n",
              "      <th>number_of_reviews</th>\n",
              "      <th>last_review</th>\n",
              "      <th>reviews_per_month</th>\n",
              "      <th>calculated_host_listings_count</th>\n",
              "      <th>availability_365</th>\n",
              "    </tr>\n",
              "  </thead>\n",
              "  <tbody>\n",
              "    <tr>\n",
              "      <th>count</th>\n",
              "      <td>48,895.0000</td>\n",
              "      <td>48879</td>\n",
              "      <td>48,895.0000</td>\n",
              "      <td>48874</td>\n",
              "      <td>48895</td>\n",
              "      <td>48895</td>\n",
              "      <td>48,895.0000</td>\n",
              "      <td>48,895.0000</td>\n",
              "      <td>48895</td>\n",
              "      <td>48,895.0000</td>\n",
              "      <td>48,895.0000</td>\n",
              "      <td>48,895.0000</td>\n",
              "      <td>38843</td>\n",
              "      <td>38,843.0000</td>\n",
              "      <td>48,895.0000</td>\n",
              "      <td>48,895.0000</td>\n",
              "    </tr>\n",
              "    <tr>\n",
              "      <th>unique</th>\n",
              "      <td>nan</td>\n",
              "      <td>47486</td>\n",
              "      <td>nan</td>\n",
              "      <td>11428</td>\n",
              "      <td>5</td>\n",
              "      <td>221</td>\n",
              "      <td>nan</td>\n",
              "      <td>nan</td>\n",
              "      <td>3</td>\n",
              "      <td>nan</td>\n",
              "      <td>nan</td>\n",
              "      <td>nan</td>\n",
              "      <td>1764</td>\n",
              "      <td>nan</td>\n",
              "      <td>nan</td>\n",
              "      <td>nan</td>\n",
              "    </tr>\n",
              "    <tr>\n",
              "      <th>top</th>\n",
              "      <td>nan</td>\n",
              "      <td>home_away_from_home</td>\n",
              "      <td>nan</td>\n",
              "      <td>michael</td>\n",
              "      <td>manhattan</td>\n",
              "      <td>williamsburg</td>\n",
              "      <td>nan</td>\n",
              "      <td>nan</td>\n",
              "      <td>entire_home/apt</td>\n",
              "      <td>nan</td>\n",
              "      <td>nan</td>\n",
              "      <td>nan</td>\n",
              "      <td>2019-06-23</td>\n",
              "      <td>nan</td>\n",
              "      <td>nan</td>\n",
              "      <td>nan</td>\n",
              "    </tr>\n",
              "    <tr>\n",
              "      <th>freq</th>\n",
              "      <td>nan</td>\n",
              "      <td>33</td>\n",
              "      <td>nan</td>\n",
              "      <td>417</td>\n",
              "      <td>21661</td>\n",
              "      <td>3920</td>\n",
              "      <td>nan</td>\n",
              "      <td>nan</td>\n",
              "      <td>25409</td>\n",
              "      <td>nan</td>\n",
              "      <td>nan</td>\n",
              "      <td>nan</td>\n",
              "      <td>1413</td>\n",
              "      <td>nan</td>\n",
              "      <td>nan</td>\n",
              "      <td>nan</td>\n",
              "    </tr>\n",
              "    <tr>\n",
              "      <th>mean</th>\n",
              "      <td>19,017,143.2362</td>\n",
              "      <td>NaN</td>\n",
              "      <td>67,620,010.6466</td>\n",
              "      <td>NaN</td>\n",
              "      <td>NaN</td>\n",
              "      <td>NaN</td>\n",
              "      <td>40.7289</td>\n",
              "      <td>-73.9522</td>\n",
              "      <td>NaN</td>\n",
              "      <td>152.7207</td>\n",
              "      <td>7.0300</td>\n",
              "      <td>23.2745</td>\n",
              "      <td>NaN</td>\n",
              "      <td>1.3732</td>\n",
              "      <td>7.1440</td>\n",
              "      <td>112.7813</td>\n",
              "    </tr>\n",
              "    <tr>\n",
              "      <th>std</th>\n",
              "      <td>10,983,108.3856</td>\n",
              "      <td>NaN</td>\n",
              "      <td>78,610,967.0327</td>\n",
              "      <td>NaN</td>\n",
              "      <td>NaN</td>\n",
              "      <td>NaN</td>\n",
              "      <td>0.0545</td>\n",
              "      <td>0.0462</td>\n",
              "      <td>NaN</td>\n",
              "      <td>240.1542</td>\n",
              "      <td>20.5105</td>\n",
              "      <td>44.5506</td>\n",
              "      <td>NaN</td>\n",
              "      <td>1.6804</td>\n",
              "      <td>32.9525</td>\n",
              "      <td>131.6223</td>\n",
              "    </tr>\n",
              "    <tr>\n",
              "      <th>min</th>\n",
              "      <td>2,539.0000</td>\n",
              "      <td>NaN</td>\n",
              "      <td>2,438.0000</td>\n",
              "      <td>NaN</td>\n",
              "      <td>NaN</td>\n",
              "      <td>NaN</td>\n",
              "      <td>40.4998</td>\n",
              "      <td>-74.2444</td>\n",
              "      <td>NaN</td>\n",
              "      <td>0.0000</td>\n",
              "      <td>1.0000</td>\n",
              "      <td>0.0000</td>\n",
              "      <td>NaN</td>\n",
              "      <td>0.0100</td>\n",
              "      <td>1.0000</td>\n",
              "      <td>0.0000</td>\n",
              "    </tr>\n",
              "    <tr>\n",
              "      <th>25%</th>\n",
              "      <td>9,471,945.0000</td>\n",
              "      <td>NaN</td>\n",
              "      <td>7,822,033.0000</td>\n",
              "      <td>NaN</td>\n",
              "      <td>NaN</td>\n",
              "      <td>NaN</td>\n",
              "      <td>40.6901</td>\n",
              "      <td>-73.9831</td>\n",
              "      <td>NaN</td>\n",
              "      <td>69.0000</td>\n",
              "      <td>1.0000</td>\n",
              "      <td>1.0000</td>\n",
              "      <td>NaN</td>\n",
              "      <td>0.1900</td>\n",
              "      <td>1.0000</td>\n",
              "      <td>0.0000</td>\n",
              "    </tr>\n",
              "    <tr>\n",
              "      <th>50%</th>\n",
              "      <td>19,677,284.0000</td>\n",
              "      <td>NaN</td>\n",
              "      <td>30,793,816.0000</td>\n",
              "      <td>NaN</td>\n",
              "      <td>NaN</td>\n",
              "      <td>NaN</td>\n",
              "      <td>40.7231</td>\n",
              "      <td>-73.9557</td>\n",
              "      <td>NaN</td>\n",
              "      <td>106.0000</td>\n",
              "      <td>3.0000</td>\n",
              "      <td>5.0000</td>\n",
              "      <td>NaN</td>\n",
              "      <td>0.7200</td>\n",
              "      <td>1.0000</td>\n",
              "      <td>45.0000</td>\n",
              "    </tr>\n",
              "    <tr>\n",
              "      <th>75%</th>\n",
              "      <td>29,152,178.5000</td>\n",
              "      <td>NaN</td>\n",
              "      <td>107,434,423.0000</td>\n",
              "      <td>NaN</td>\n",
              "      <td>NaN</td>\n",
              "      <td>NaN</td>\n",
              "      <td>40.7631</td>\n",
              "      <td>-73.9363</td>\n",
              "      <td>NaN</td>\n",
              "      <td>175.0000</td>\n",
              "      <td>5.0000</td>\n",
              "      <td>24.0000</td>\n",
              "      <td>NaN</td>\n",
              "      <td>2.0200</td>\n",
              "      <td>2.0000</td>\n",
              "      <td>227.0000</td>\n",
              "    </tr>\n",
              "    <tr>\n",
              "      <th>max</th>\n",
              "      <td>36,487,245.0000</td>\n",
              "      <td>NaN</td>\n",
              "      <td>274,321,313.0000</td>\n",
              "      <td>NaN</td>\n",
              "      <td>NaN</td>\n",
              "      <td>NaN</td>\n",
              "      <td>40.9131</td>\n",
              "      <td>-73.7130</td>\n",
              "      <td>NaN</td>\n",
              "      <td>10,000.0000</td>\n",
              "      <td>1,250.0000</td>\n",
              "      <td>629.0000</td>\n",
              "      <td>NaN</td>\n",
              "      <td>58.5000</td>\n",
              "      <td>327.0000</td>\n",
              "      <td>365.0000</td>\n",
              "    </tr>\n",
              "  </tbody>\n",
              "</table>\n",
              "</div>"
            ],
            "text/plain": [
              "                    id  ... availability_365\n",
              "count      48,895.0000  ...      48,895.0000\n",
              "unique             nan  ...              nan\n",
              "top                nan  ...              nan\n",
              "freq               nan  ...              nan\n",
              "mean   19,017,143.2362  ...         112.7813\n",
              "std    10,983,108.3856  ...         131.6223\n",
              "min         2,539.0000  ...           0.0000\n",
              "25%     9,471,945.0000  ...           0.0000\n",
              "50%    19,677,284.0000  ...          45.0000\n",
              "75%    29,152,178.5000  ...         227.0000\n",
              "max    36,487,245.0000  ...         365.0000\n",
              "\n",
              "[11 rows x 16 columns]"
            ]
          },
          "metadata": {},
          "execution_count": 8
        }
      ]
    },
    {
      "cell_type": "code",
      "metadata": {
        "colab": {
          "base_uri": "https://localhost:8080/",
          "height": 295
        },
        "id": "Kn0VnTyM-mVP",
        "outputId": "a39c48e2-f46e-4e26-eab9-5e485594d599"
      },
      "source": [
        "plt.figure(figsize=(10, 4))\n",
        "\n",
        "sns.histplot(df[df['price']<1500].price, bins=100, alpha=1)\n",
        "plt.ylabel('Frequency')\n",
        "plt.xlabel('Price')\n",
        "plt.title('Distribution of prices')\n",
        "\n",
        "plt.show()"
      ],
      "execution_count": 9,
      "outputs": [
        {
          "output_type": "display_data",
          "data": {
            "image/png": "[encoded data removed]",
            "text/plain": [
              "<Figure size 720x288 with 1 Axes>"
            ]
          },
          "metadata": {
            "needs_background": "light"
          }
        }
      ]
    },
    {
      "cell_type": "code",
      "metadata": {
        "colab": {
          "base_uri": "https://localhost:8080/",
          "height": 295
        },
        "id": "7JQ00qr-ALz3",
        "outputId": "b04fc075-99f2-4b2f-a615-ef3174023bfa"
      },
      "source": [
        "df['log_price'] = np.log1p(df['price'])\n",
        "\n",
        "plt.figure(figsize=(10, 4))\n",
        "\n",
        "sns.histplot(df.log_price, bins=100, alpha=1)\n",
        "plt.ylabel('Frequency')\n",
        "plt.xlabel('Log Price')\n",
        "plt.title('Distribution of log prices')\n",
        "\n",
        "plt.show()"
      ],
      "execution_count": 10,
      "outputs": [
        {
          "output_type": "display_data",
          "data": {
            "image/png": "[encoded data removed]",
            "text/plain": [
              "<Figure size 720x288 with 1 Axes>"
            ]
          },
          "metadata": {
            "needs_background": "light"
          }
        }
      ]
    },
    {
      "cell_type": "markdown",
      "metadata": {
        "id": "O5sPJWPhBo_A"
      },
      "source": [
        "Question 1:\n",
        "Find a feature with missing values. How many missing values does it have?"
      ]
    },
    {
      "cell_type": "code",
      "metadata": {
        "id": "b8xFkvVBBs8i"
      },
      "source": [
        "features = ['latitude',\n",
        "            'longitude',\n",
        "            'price',\n",
        "            'minimum_nights',\n",
        "            'number_of_reviews',\n",
        "            'reviews_per_month',\n",
        "            'calculated_host_listings_count',\n",
        "            'availability_365'\n",
        "            ]"
      ],
      "execution_count": 11,
      "outputs": []
    },
    {
      "cell_type": "code",
      "metadata": {
        "id": "aw60J-0aFJ60"
      },
      "source": [
        "features_lr = ['latitude',\n",
        "            'longitude',\n",
        "            'minimum_nights',\n",
        "            'number_of_reviews',\n",
        "            'reviews_per_month',\n",
        "            'calculated_host_listings_count',\n",
        "            'availability_365'\n",
        "            ]"
      ],
      "execution_count": 12,
      "outputs": []
    },
    {
      "cell_type": "code",
      "metadata": {
        "colab": {
          "base_uri": "https://localhost:8080/"
        },
        "id": "Gx_kl66T_uda",
        "outputId": "e74fe2c9-fab4-4529-baa5-e4baccec0819"
      },
      "source": [
        "df[features].isnull().sum()"
      ],
      "execution_count": 13,
      "outputs": [
        {
          "output_type": "execute_result",
          "data": {
            "text/plain": [
              "latitude                              0\n",
              "longitude                             0\n",
              "price                                 0\n",
              "minimum_nights                        0\n",
              "number_of_reviews                     0\n",
              "reviews_per_month                 10052\n",
              "calculated_host_listings_count        0\n",
              "availability_365                      0\n",
              "dtype: int64"
            ]
          },
          "metadata": {},
          "execution_count": 13
        }
      ]
    },
    {
      "cell_type": "code",
      "metadata": {
        "colab": {
          "base_uri": "https://localhost:8080/"
        },
        "id": "Npvybd_l-5ET",
        "outputId": "21adfcc2-b5b7-4ac2-acb3-5c518e688705"
      },
      "source": [
        "df[features].isnull().sum().sum()"
      ],
      "execution_count": 14,
      "outputs": [
        {
          "output_type": "execute_result",
          "data": {
            "text/plain": [
              "10052"
            ]
          },
          "metadata": {},
          "execution_count": 14
        }
      ]
    },
    {
      "cell_type": "markdown",
      "metadata": {
        "id": "d5JepTyUCOfU"
      },
      "source": [
        "Question 2:\n",
        "What's the median (50% percentile) for variable 'minimum_nights'?"
      ]
    },
    {
      "cell_type": "code",
      "metadata": {
        "colab": {
          "base_uri": "https://localhost:8080/"
        },
        "id": "qn7RNqNd_gpk",
        "outputId": "38fcbd47-02d0-41a1-cae9-0a8eba24b528"
      },
      "source": [
        "df[features].minimum_nights.median()"
      ],
      "execution_count": 15,
      "outputs": [
        {
          "output_type": "execute_result",
          "data": {
            "text/plain": [
              "3.0"
            ]
          },
          "metadata": {},
          "execution_count": 15
        }
      ]
    },
    {
      "cell_type": "markdown",
      "metadata": {
        "id": "GiTl4-DQCR3I"
      },
      "source": [
        "Split the data:\n",
        "\n",
        "Shuffle the initial dataset, use seed 42.\n",
        "Split your data in train/val/test sets, with 60%/20%/20% distribution.\n",
        "\n",
        "Make sure that the target value ('price') is not in your dataframe.\n",
        "\n",
        "Apply the log transformation to the price variable using the np.log1p() function."
      ]
    },
    {
      "cell_type": "code",
      "metadata": {
        "id": "gQIVhXWg_5v5"
      },
      "source": [
        "np.random.seed(42)\n",
        "\n",
        "n = len(df)\n",
        "\n",
        "n_val = int(0.2 * n)\n",
        "n_test = int(0.2 * n)\n",
        "n_train = n - (n_val + n_test)\n",
        "\n",
        "idx = np.arange(n)\n",
        "np.random.shuffle(idx)\n",
        "\n",
        "df_shuffled = df.iloc[idx]\n",
        "\n",
        "df_train = df_shuffled.iloc[:n_train].copy()\n",
        "df_val = df_shuffled.iloc[n_train:n_train+n_val].copy()\n",
        "df_test = df_shuffled.iloc[n_train+n_val:].copy()"
      ],
      "execution_count": 16,
      "outputs": []
    },
    {
      "cell_type": "code",
      "metadata": {
        "id": "7pARKdcRCirf"
      },
      "source": [
        "y_train_orig = df_train.price.values\n",
        "y_val_orig = df_val.price.values\n",
        "y_test_orig = df_test.price.values\n",
        "\n",
        "y_train = np.log1p(df_train.price.values)\n",
        "y_val = np.log1p(df_val.price.values)\n",
        "y_test = np.log1p(df_test.price.values)\n",
        "\n",
        "del df_train['price']\n",
        "del df_val['price']\n",
        "del df_test['price']"
      ],
      "execution_count": 17,
      "outputs": []
    },
    {
      "cell_type": "code",
      "metadata": {
        "colab": {
          "base_uri": "https://localhost:8080/",
          "height": 419
        },
        "id": "PnYRITuOCyKS",
        "outputId": "026f1685-66a5-4d9f-c4c6-3c35e43590fa"
      },
      "source": [
        "df[['log_price']]"
      ],
      "execution_count": 18,
      "outputs": [
        {
          "output_type": "execute_result",
          "data": {
            "text/html": [
              "<div>\n",
              "<style scoped>\n",
              "    .dataframe tbody tr th:only-of-type {\n",
              "        vertical-align: middle;\n",
              "    }\n",
              "\n",
              "    .dataframe tbody tr th {\n",
              "        vertical-align: top;\n",
              "    }\n",
              "\n",
              "    .dataframe thead th {\n",
              "        text-align: right;\n",
              "    }\n",
              "</style>\n",
              "<table border=\"1\" class=\"dataframe\">\n",
              "  <thead>\n",
              "    <tr style=\"text-align: right;\">\n",
              "      <th></th>\n",
              "      <th>log_price</th>\n",
              "    </tr>\n",
              "  </thead>\n",
              "  <tbody>\n",
              "    <tr>\n",
              "      <th>0</th>\n",
              "      <td>5.0106</td>\n",
              "    </tr>\n",
              "    <tr>\n",
              "      <th>1</th>\n",
              "      <td>5.4205</td>\n",
              "    </tr>\n",
              "    <tr>\n",
              "      <th>2</th>\n",
              "      <td>5.0173</td>\n",
              "    </tr>\n",
              "    <tr>\n",
              "      <th>3</th>\n",
              "      <td>4.4998</td>\n",
              "    </tr>\n",
              "    <tr>\n",
              "      <th>4</th>\n",
              "      <td>4.3944</td>\n",
              "    </tr>\n",
              "    <tr>\n",
              "      <th>...</th>\n",
              "      <td>...</td>\n",
              "    </tr>\n",
              "    <tr>\n",
              "      <th>48890</th>\n",
              "      <td>4.2627</td>\n",
              "    </tr>\n",
              "    <tr>\n",
              "      <th>48891</th>\n",
              "      <td>3.7136</td>\n",
              "    </tr>\n",
              "    <tr>\n",
              "      <th>48892</th>\n",
              "      <td>4.7536</td>\n",
              "    </tr>\n",
              "    <tr>\n",
              "      <th>48893</th>\n",
              "      <td>4.0254</td>\n",
              "    </tr>\n",
              "    <tr>\n",
              "      <th>48894</th>\n",
              "      <td>4.5109</td>\n",
              "    </tr>\n",
              "  </tbody>\n",
              "</table>\n",
              "<p>48895 rows × 1 columns</p>\n",
              "</div>"
            ],
            "text/plain": [
              "       log_price\n",
              "0         5.0106\n",
              "1         5.4205\n",
              "2         5.0173\n",
              "3         4.4998\n",
              "4         4.3944\n",
              "...          ...\n",
              "48890     4.2627\n",
              "48891     3.7136\n",
              "48892     4.7536\n",
              "48893     4.0254\n",
              "48894     4.5109\n",
              "\n",
              "[48895 rows x 1 columns]"
            ]
          },
          "metadata": {},
          "execution_count": 18
        }
      ]
    },
    {
      "cell_type": "markdown",
      "metadata": {
        "id": "hgKn2_UJC_U7"
      },
      "source": [
        "Question 3:\n",
        "We need to deal with missing values for the column from Q1. We have two options: \n",
        "\n",
        "fill it with 0 or with the mean of this variable.\n",
        "Try both options. \n",
        "\n",
        "For each, train a linear regression model without regularization using the code from the lessons.\n",
        "For computing the mean, use the training only!\n",
        "\n",
        "Use the validation dataset to evaluate the models and compare the RMSE of each option.\n",
        "\n",
        "Round the RMSE scores to 2 decimal digits using round(score, 2). Which option gives better RMSE?"
      ]
    },
    {
      "cell_type": "code",
      "metadata": {
        "colab": {
          "base_uri": "https://localhost:8080/"
        },
        "id": "XddCNDUDDUJv",
        "outputId": "fd6fcf2f-0f26-4cc0-e79d-cc3e40ce7e6d"
      },
      "source": [
        "df_train['reviews_per_month'].isnull().sum(), df_val['reviews_per_month'].isnull().sum(), df_test['reviews_per_month'].isnull().sum()"
      ],
      "execution_count": 19,
      "outputs": [
        {
          "output_type": "execute_result",
          "data": {
            "text/plain": [
              "(5998, 2051, 2003)"
            ]
          },
          "metadata": {},
          "execution_count": 19
        }
      ]
    },
    {
      "cell_type": "markdown",
      "metadata": {
        "id": "Wh91G78sECoT"
      },
      "source": [
        "Linear Regression:"
      ]
    },
    {
      "cell_type": "code",
      "metadata": {
        "id": "GAjU61d8EAhC"
      },
      "source": [
        "def train_linear_regression(X, y):\n",
        "    ones = np.ones(X.shape[0])\n",
        "    X = np.column_stack([ones, X])\n",
        "\n",
        "    XTX = X.T.dot(X)\n",
        "    XTX_inv = np.linalg.inv(XTX)\n",
        "    w = XTX_inv.dot(X.T).dot(y)\n",
        "    \n",
        "    return w[0], w[1:]"
      ],
      "execution_count": 20,
      "outputs": []
    },
    {
      "cell_type": "code",
      "metadata": {
        "id": "wxm2tRf1EF2K"
      },
      "source": [
        "def prepare_X(df, fill):\n",
        "    df_num = df[features_lr]\n",
        "    df_num = df_num.fillna(fill)\n",
        "    X = df_num.values\n",
        "    return X"
      ],
      "execution_count": 21,
      "outputs": []
    },
    {
      "cell_type": "markdown",
      "metadata": {
        "id": "7H129NX2GT2m"
      },
      "source": [
        "Fill it with 0 or with the mean of this variable.\n",
        "Try both options:"
      ]
    },
    {
      "cell_type": "code",
      "metadata": {
        "id": "BHhMQhtpFe5p"
      },
      "source": [
        "X_mean = prepare_X(df_train, df_train['reviews_per_month'].mean())\n",
        "X_cero = prepare_X(df_train, 0)"
      ],
      "execution_count": 22,
      "outputs": []
    },
    {
      "cell_type": "markdown",
      "metadata": {
        "id": "DCuDqQhnGYJy"
      },
      "source": [
        "For each, train a linear regression model without regularization using the code from the lessons:"
      ]
    },
    {
      "cell_type": "code",
      "metadata": {
        "colab": {
          "base_uri": "https://localhost:8080/"
        },
        "id": "D1_MMc1kF6Ak",
        "outputId": "1bf72ccd-e510-463c-ec6d-29b94513c06c"
      },
      "source": [
        "train_linear_regression(X_mean, y_train)"
      ],
      "execution_count": 23,
      "outputs": [
        {
          "output_type": "execute_result",
          "data": {
            "text/plain": [
              "(-423.5393076139524,\n",
              " array([ 1.31148321e+00, -5.06799071e+00, -4.87741552e-04, -6.63849280e-04,\n",
              "         5.34563271e-03,  1.32706020e-03,  6.38794182e-04]))"
            ]
          },
          "metadata": {},
          "execution_count": 23
        }
      ]
    },
    {
      "cell_type": "code",
      "metadata": {
        "colab": {
          "base_uri": "https://localhost:8080/"
        },
        "id": "kGo_6EdjGKih",
        "outputId": "12c20530-d977-4666-b140-83af0b635293"
      },
      "source": [
        "train_linear_regression(X_cero, y_train)"
      ],
      "execution_count": 24,
      "outputs": [
        {
          "output_type": "execute_result",
          "data": {
            "text/plain": [
              "(-419.91265807142094,\n",
              " array([ 1.30676225e+00, -5.02167854e+00, -5.59803109e-04, -4.07634896e-04,\n",
              "        -8.25470069e-03,  1.33371320e-03,  6.50203890e-04]))"
            ]
          },
          "metadata": {},
          "execution_count": 24
        }
      ]
    },
    {
      "cell_type": "code",
      "metadata": {
        "colab": {
          "base_uri": "https://localhost:8080/",
          "height": 419
        },
        "id": "gPd5y0MdImg2",
        "outputId": "6cc360f6-ee8e-4e84-dea9-2b99408871ea"
      },
      "source": [
        "pd.DataFrame(X_mean)"
      ],
      "execution_count": 25,
      "outputs": [
        {
          "output_type": "execute_result",
          "data": {
            "text/html": [
              "<div>\n",
              "<style scoped>\n",
              "    .dataframe tbody tr th:only-of-type {\n",
              "        vertical-align: middle;\n",
              "    }\n",
              "\n",
              "    .dataframe tbody tr th {\n",
              "        vertical-align: top;\n",
              "    }\n",
              "\n",
              "    .dataframe thead th {\n",
              "        text-align: right;\n",
              "    }\n",
              "</style>\n",
              "<table border=\"1\" class=\"dataframe\">\n",
              "  <thead>\n",
              "    <tr style=\"text-align: right;\">\n",
              "      <th></th>\n",
              "      <th>0</th>\n",
              "      <th>1</th>\n",
              "      <th>2</th>\n",
              "      <th>3</th>\n",
              "      <th>4</th>\n",
              "      <th>5</th>\n",
              "      <th>6</th>\n",
              "    </tr>\n",
              "  </thead>\n",
              "  <tbody>\n",
              "    <tr>\n",
              "      <th>0</th>\n",
              "      <td>40.6435</td>\n",
              "      <td>-73.9778</td>\n",
              "      <td>3.0000</td>\n",
              "      <td>62.0000</td>\n",
              "      <td>0.7100</td>\n",
              "      <td>1.0000</td>\n",
              "      <td>189.0000</td>\n",
              "    </tr>\n",
              "    <tr>\n",
              "      <th>1</th>\n",
              "      <td>40.7067</td>\n",
              "      <td>-73.9078</td>\n",
              "      <td>21.0000</td>\n",
              "      <td>0.0000</td>\n",
              "      <td>1.3685</td>\n",
              "      <td>1.0000</td>\n",
              "      <td>73.0000</td>\n",
              "    </tr>\n",
              "    <tr>\n",
              "      <th>2</th>\n",
              "      <td>40.7612</td>\n",
              "      <td>-73.9902</td>\n",
              "      <td>2.0000</td>\n",
              "      <td>17.0000</td>\n",
              "      <td>0.4300</td>\n",
              "      <td>1.0000</td>\n",
              "      <td>0.0000</td>\n",
              "    </tr>\n",
              "    <tr>\n",
              "      <th>3</th>\n",
              "      <td>40.7076</td>\n",
              "      <td>-74.0105</td>\n",
              "      <td>2.0000</td>\n",
              "      <td>5.0000</td>\n",
              "      <td>1.8800</td>\n",
              "      <td>327.0000</td>\n",
              "      <td>272.0000</td>\n",
              "    </tr>\n",
              "    <tr>\n",
              "      <th>4</th>\n",
              "      <td>40.7966</td>\n",
              "      <td>-73.9329</td>\n",
              "      <td>2.0000</td>\n",
              "      <td>30.0000</td>\n",
              "      <td>0.8000</td>\n",
              "      <td>1.0000</td>\n",
              "      <td>30.0000</td>\n",
              "    </tr>\n",
              "    <tr>\n",
              "      <th>...</th>\n",
              "      <td>...</td>\n",
              "      <td>...</td>\n",
              "      <td>...</td>\n",
              "      <td>...</td>\n",
              "      <td>...</td>\n",
              "      <td>...</td>\n",
              "      <td>...</td>\n",
              "    </tr>\n",
              "    <tr>\n",
              "      <th>29332</th>\n",
              "      <td>40.7118</td>\n",
              "      <td>-73.9578</td>\n",
              "      <td>2.0000</td>\n",
              "      <td>0.0000</td>\n",
              "      <td>1.3685</td>\n",
              "      <td>1.0000</td>\n",
              "      <td>0.0000</td>\n",
              "    </tr>\n",
              "    <tr>\n",
              "      <th>29333</th>\n",
              "      <td>40.7864</td>\n",
              "      <td>-73.9700</td>\n",
              "      <td>30.0000</td>\n",
              "      <td>10.0000</td>\n",
              "      <td>0.4000</td>\n",
              "      <td>1.0000</td>\n",
              "      <td>0.0000</td>\n",
              "    </tr>\n",
              "    <tr>\n",
              "      <th>29334</th>\n",
              "      <td>40.7272</td>\n",
              "      <td>-73.9852</td>\n",
              "      <td>3.0000</td>\n",
              "      <td>75.0000</td>\n",
              "      <td>3.1200</td>\n",
              "      <td>1.0000</td>\n",
              "      <td>60.0000</td>\n",
              "    </tr>\n",
              "    <tr>\n",
              "      <th>29335</th>\n",
              "      <td>40.7958</td>\n",
              "      <td>-73.9452</td>\n",
              "      <td>2.0000</td>\n",
              "      <td>31.0000</td>\n",
              "      <td>2.1000</td>\n",
              "      <td>1.0000</td>\n",
              "      <td>265.0000</td>\n",
              "    </tr>\n",
              "    <tr>\n",
              "      <th>29336</th>\n",
              "      <td>40.6967</td>\n",
              "      <td>-73.9490</td>\n",
              "      <td>1.0000</td>\n",
              "      <td>1.0000</td>\n",
              "      <td>0.0500</td>\n",
              "      <td>1.0000</td>\n",
              "      <td>0.0000</td>\n",
              "    </tr>\n",
              "  </tbody>\n",
              "</table>\n",
              "<p>29337 rows × 7 columns</p>\n",
              "</div>"
            ],
            "text/plain": [
              "            0        1       2       3      4        5        6\n",
              "0     40.6435 -73.9778  3.0000 62.0000 0.7100   1.0000 189.0000\n",
              "1     40.7067 -73.9078 21.0000  0.0000 1.3685   1.0000  73.0000\n",
              "2     40.7612 -73.9902  2.0000 17.0000 0.4300   1.0000   0.0000\n",
              "3     40.7076 -74.0105  2.0000  5.0000 1.8800 327.0000 272.0000\n",
              "4     40.7966 -73.9329  2.0000 30.0000 0.8000   1.0000  30.0000\n",
              "...       ...      ...     ...     ...    ...      ...      ...\n",
              "29332 40.7118 -73.9578  2.0000  0.0000 1.3685   1.0000   0.0000\n",
              "29333 40.7864 -73.9700 30.0000 10.0000 0.4000   1.0000   0.0000\n",
              "29334 40.7272 -73.9852  3.0000 75.0000 3.1200   1.0000  60.0000\n",
              "29335 40.7958 -73.9452  2.0000 31.0000 2.1000   1.0000 265.0000\n",
              "29336 40.6967 -73.9490  1.0000  1.0000 0.0500   1.0000   0.0000\n",
              "\n",
              "[29337 rows x 7 columns]"
            ]
          },
          "metadata": {},
          "execution_count": 25
        }
      ]
    },
    {
      "cell_type": "code",
      "metadata": {
        "id": "KxQnLgzqIr6G"
      },
      "source": [
        "df_val_mean = df_val[features_lr].fillna(df_train['reviews_per_month'].mean())\n",
        "df_val_cero = df_val[features_lr].fillna(0)"
      ],
      "execution_count": 26,
      "outputs": []
    },
    {
      "cell_type": "markdown",
      "metadata": {
        "id": "NZMzh2viGd68"
      },
      "source": [
        "Use the validation dataset to evaluate the models and compare the RMSE of each option."
      ]
    },
    {
      "cell_type": "code",
      "metadata": {
        "id": "N-FdIsb8G0Wk"
      },
      "source": [
        "w_0, w = train_linear_regression(X_mean, y_train)\n",
        "y_pred_mean = w_0 + df_val_mean.dot(w)"
      ],
      "execution_count": 27,
      "outputs": []
    },
    {
      "cell_type": "code",
      "metadata": {
        "id": "eGKChxWKGmSM"
      },
      "source": [
        "w_0, w = train_linear_regression(X_cero, y_train)\n",
        "y_pred_cero = w_0 + df_val_cero.dot(w)"
      ],
      "execution_count": 28,
      "outputs": []
    },
    {
      "cell_type": "code",
      "metadata": {
        "id": "zypr3WzPEaV2"
      },
      "source": [
        "def rmse(y, y_pred):\n",
        "    error = y_pred - y\n",
        "    mse = (error ** 2).mean()\n",
        "    return np.sqrt(mse)"
      ],
      "execution_count": 29,
      "outputs": []
    },
    {
      "cell_type": "code",
      "metadata": {
        "colab": {
          "base_uri": "https://localhost:8080/"
        },
        "id": "UIBxLmt5HJj4",
        "outputId": "43d0a45f-6f25-4456-f525-ebd793afd582"
      },
      "source": [
        "rmse(y_val, y_pred_cero)"
      ],
      "execution_count": 30,
      "outputs": [
        {
          "output_type": "execute_result",
          "data": {
            "text/plain": [
              "0.6430337788584171"
            ]
          },
          "metadata": {},
          "execution_count": 30
        }
      ]
    },
    {
      "cell_type": "code",
      "metadata": {
        "colab": {
          "base_uri": "https://localhost:8080/"
        },
        "id": "B0K3Znk6HSKu",
        "outputId": "66e25e02-3d1d-48fb-916e-34d401c36e21"
      },
      "source": [
        "rmse(y_val, y_pred_mean)"
      ],
      "execution_count": 31,
      "outputs": [
        {
          "output_type": "execute_result",
          "data": {
            "text/plain": [
              "0.6427545031727655"
            ]
          },
          "metadata": {},
          "execution_count": 31
        }
      ]
    },
    {
      "cell_type": "code",
      "metadata": {
        "colab": {
          "base_uri": "https://localhost:8080/"
        },
        "id": "Bqp4_8pvHVrl",
        "outputId": "b2625e30-6a76-4a17-c384-1723232673c1"
      },
      "source": [
        "rmse(y_val, y_pred_cero ) < rmse(y_val, y_pred_mean)"
      ],
      "execution_count": 32,
      "outputs": [
        {
          "output_type": "execute_result",
          "data": {
            "text/plain": [
              "False"
            ]
          },
          "metadata": {},
          "execution_count": 32
        }
      ]
    },
    {
      "cell_type": "markdown",
      "metadata": {
        "id": "VIoYK7I0Jl9H"
      },
      "source": [
        "Question 4:\n",
        "Now let's train a regularized linear regression.\n",
        "For this question, fill the NAs with 0.\n",
        "Try different values of r from this list: [0, 0.000001, 0.0001, 0.001, 0.01, 0.1, 1, 5, 10].\n",
        "\n",
        "Use RMSE to evaluate the model on the validation dataset.\n",
        "Round the RMSE scores to 2 decimal digits.\n",
        "\n",
        "Which r gives the best RMSE?\n",
        "If there are multiple options, select the smallest r."
      ]
    },
    {
      "cell_type": "markdown",
      "metadata": {
        "id": "eT09e8LBJ4Od"
      },
      "source": [
        "Regularization"
      ]
    },
    {
      "cell_type": "code",
      "metadata": {
        "id": "_Xg_Zf2jJs4o"
      },
      "source": [
        "def train_linear_regression_reg(X, y, r):\n",
        "    ones = np.ones(X.shape[0])\n",
        "    X = np.column_stack([ones, X])\n",
        "\n",
        "    XTX = X.T.dot(X)\n",
        "    reg = r * np.eye(XTX.shape[0])\n",
        "    XTX = XTX + reg\n",
        "\n",
        "    XTX_inv = np.linalg.inv(XTX)\n",
        "    w = XTX_inv.dot(X.T).dot(y)\n",
        "    \n",
        "    return w[0], w[1:]"
      ],
      "execution_count": 33,
      "outputs": []
    },
    {
      "cell_type": "code",
      "metadata": {
        "id": "M1-CUGpNJ6bi"
      },
      "source": [
        "list_of_r = [0, 0.000001, 0.0001, 0.001, 0.01, 0.1, 1, 5, 10]"
      ],
      "execution_count": 34,
      "outputs": []
    },
    {
      "cell_type": "code",
      "metadata": {
        "colab": {
          "base_uri": "https://localhost:8080/"
        },
        "id": "Y67wKPDQLXm8",
        "outputId": "4fa62827-85ed-4b54-ffd4-9846043d6c45"
      },
      "source": [
        "train_linear_regression_reg(X_cero, y_train, 0)"
      ],
      "execution_count": 35,
      "outputs": [
        {
          "output_type": "execute_result",
          "data": {
            "text/plain": [
              "(-419.91265807142094,\n",
              " array([ 1.30676225e+00, -5.02167854e+00, -5.59803109e-04, -4.07634896e-04,\n",
              "        -8.25470069e-03,  1.33371320e-03,  6.50203890e-04]))"
            ]
          },
          "metadata": {},
          "execution_count": 35
        }
      ]
    },
    {
      "cell_type": "code",
      "metadata": {
        "colab": {
          "base_uri": "https://localhost:8080/"
        },
        "id": "cuaxsTNbLutN",
        "outputId": "f0a0156a-b374-4d61-9f59-49c44ac124cc"
      },
      "source": [
        "rmse_r = []\n",
        "for r in list_of_r:\n",
        "  w_0, w = train_linear_regression_reg(X_cero, y_train, r)\n",
        "  y_pred = w_0 + df_val_cero.dot(w)\n",
        "  print(r, rmse(y_val, y_pred))\n",
        "  rmse_r.append(rmse(y_val, y_pred))"
      ],
      "execution_count": 36,
      "outputs": [
        {
          "output_type": "stream",
          "name": "stdout",
          "text": [
            "0 0.6430337788584171\n",
            "1e-06 0.643034115747927\n",
            "0.0001 0.6430723153561922\n",
            "0.001 0.6437669735361428\n",
            "0.01 0.6557528427479221\n",
            "0.1 0.6773299642454964\n",
            "1 0.6823116950156253\n",
            "5 0.68279157278493\n",
            "10 0.6828430212097037\n"
          ]
        }
      ]
    },
    {
      "cell_type": "code",
      "metadata": {
        "colab": {
          "base_uri": "https://localhost:8080/"
        },
        "id": "cPKgDaMWMlbu",
        "outputId": "55777025-ac86-4312-b81e-6719277c0e14"
      },
      "source": [
        "min(rmse_r)"
      ],
      "execution_count": 37,
      "outputs": [
        {
          "output_type": "execute_result",
          "data": {
            "text/plain": [
              "0.6430337788584171"
            ]
          },
          "metadata": {},
          "execution_count": 37
        }
      ]
    },
    {
      "cell_type": "markdown",
      "metadata": {
        "id": "i7wnfTEpOEEc"
      },
      "source": [
        "Question 5: \n",
        "We used seed 42 for splitting the data. Let's find out how selecting the seed influences our score.\n",
        "\n",
        "Try different seed values: [0, 1, 2, 3, 4, 5, 6, 7, 8, 9].\n",
        "\n",
        "For each seed, do the train/validation/test split with 60%/20%/20% distribution. Fill the missing values with 0 and train a model without regularization.\n",
        "\n",
        "For each seed, evaluate the model on the validation dataset and collect the RMSE scores.\n",
        "\n",
        "What's the standard deviation of all the scores? To compute the standard deviation, use np.std.\n",
        "Round the result to 3 decimal digits (round(std, 3))\n",
        "\n",
        "Note: Standard deviation shows how different the values are. If it's low, then all values are approximately the same. If it's high, the values are different. If standard deviation of scores is low, then our model is stable."
      ]
    },
    {
      "cell_type": "code",
      "metadata": {
        "id": "E5fsmimnM5C9"
      },
      "source": [
        "seed_values = [0, 1, 2, 3, 4, 5, 6, 7, 8, 9]\n",
        "results = []"
      ],
      "execution_count": 42,
      "outputs": []
    },
    {
      "cell_type": "code",
      "metadata": {
        "id": "eLLyhHLPOg24"
      },
      "source": [
        "np.random.seed(0)\n",
        "\n",
        "n = len(df)\n",
        "\n",
        "n_val = int(0.2 * n)\n",
        "n_test = int(0.2 * n)\n",
        "n_train = n - (n_val + n_test)\n",
        "\n",
        "idx = np.arange(n)\n",
        "np.random.shuffle(idx)\n",
        "\n",
        "df_shuffled = df.iloc[idx]\n",
        "\n",
        "df_train = df_shuffled.iloc[:n_train].copy()\n",
        "df_val = df_shuffled.iloc[n_train:n_train+n_val].copy()\n",
        "df_test = df_shuffled.iloc[n_train+n_val:].copy()\n",
        "\n",
        "y_train_orig = df_train.price.values\n",
        "y_val_orig = df_val.price.values\n",
        "y_test_orig = df_test.price.values\n",
        "\n",
        "y_train = np.log1p(df_train.price.values)\n",
        "y_val = np.log1p(df_val.price.values)\n",
        "y_test = np.log1p(df_test.price.values)\n",
        "\n",
        "del df_train['price']\n",
        "del df_val['price']\n",
        "del df_test['price']\n",
        "\n",
        "def prepare_0(df):\n",
        "    df_num = df[features_lr]\n",
        "    df_num = df_num.fillna(0)\n",
        "    X = df_num.values\n",
        "    return X\n",
        "\n",
        "df_train = prepare_0(df_train)\n",
        "df_val = prepare_0(df_val)\n",
        "df_test = prepare_0(df_test)\n",
        "\n",
        "def train_linear_regression(X, y):\n",
        "    ones = np.ones(X.shape[0])\n",
        "    X = np.column_stack([ones, X])\n",
        "\n",
        "    XTX = X.T.dot(X)\n",
        "    XTX_inv = np.linalg.inv(XTX)\n",
        "    w = XTX_inv.dot(X.T).dot(y)\n",
        "    \n",
        "    return w[0], w[1:]\n",
        "\n",
        "w_0, w = train_linear_regression(df_train, y_train)\n",
        "y_pred = w_0 + df_val.dot(w)\n",
        "\n",
        "def rmse(y, y_pred):\n",
        "    error = y_pred - y\n",
        "    mse = (error ** 2).mean()\n",
        "    return np.sqrt(mse)\n",
        "\n",
        "results.append(rmse(y_val, y_pred))"
      ],
      "execution_count": 43,
      "outputs": []
    },
    {
      "cell_type": "code",
      "metadata": {
        "id": "OEK-7ZPPU6V_"
      },
      "source": [
        "np.random.seed(1)\n",
        "\n",
        "n = len(df)\n",
        "\n",
        "n_val = int(0.2 * n)\n",
        "n_test = int(0.2 * n)\n",
        "n_train = n - (n_val + n_test)\n",
        "\n",
        "idx = np.arange(n)\n",
        "np.random.shuffle(idx)\n",
        "\n",
        "df_shuffled = df.iloc[idx]\n",
        "\n",
        "df_train = df_shuffled.iloc[:n_train].copy()\n",
        "df_val = df_shuffled.iloc[n_train:n_train+n_val].copy()\n",
        "df_test = df_shuffled.iloc[n_train+n_val:].copy()\n",
        "\n",
        "y_train_orig = df_train.price.values\n",
        "y_val_orig = df_val.price.values\n",
        "y_test_orig = df_test.price.values\n",
        "\n",
        "y_train = np.log1p(df_train.price.values)\n",
        "y_val = np.log1p(df_val.price.values)\n",
        "y_test = np.log1p(df_test.price.values)\n",
        "\n",
        "del df_train['price']\n",
        "del df_val['price']\n",
        "del df_test['price']\n",
        "\n",
        "def prepare_0(df):\n",
        "    df_num = df[features_lr]\n",
        "    df_num = df_num.fillna(0)\n",
        "    X = df_num.values\n",
        "    return X\n",
        "\n",
        "df_train = prepare_0(df_train)\n",
        "df_val = prepare_0(df_val)\n",
        "df_test = prepare_0(df_test)\n",
        "\n",
        "def train_linear_regression(X, y):\n",
        "    ones = np.ones(X.shape[0])\n",
        "    X = np.column_stack([ones, X])\n",
        "\n",
        "    XTX = X.T.dot(X)\n",
        "    XTX_inv = np.linalg.inv(XTX)\n",
        "    w = XTX_inv.dot(X.T).dot(y)\n",
        "    \n",
        "    return w[0], w[1:]\n",
        "\n",
        "w_0, w = train_linear_regression(df_train, y_train)\n",
        "y_pred = w_0 + df_val.dot(w)\n",
        "\n",
        "def rmse(y, y_pred):\n",
        "    error = y_pred - y\n",
        "    mse = (error ** 2).mean()\n",
        "    return np.sqrt(mse)\n",
        "\n",
        "results.append(rmse(y_val, y_pred))"
      ],
      "execution_count": 44,
      "outputs": []
    },
    {
      "cell_type": "code",
      "metadata": {
        "id": "jRetiPaoST51"
      },
      "source": [
        "np.random.seed(2)\n",
        "\n",
        "n = len(df)\n",
        "\n",
        "n_val = int(0.2 * n)\n",
        "n_test = int(0.2 * n)\n",
        "n_train = n - (n_val + n_test)\n",
        "\n",
        "idx = np.arange(n)\n",
        "np.random.shuffle(idx)\n",
        "\n",
        "df_shuffled = df.iloc[idx]\n",
        "\n",
        "df_train = df_shuffled.iloc[:n_train].copy()\n",
        "df_val = df_shuffled.iloc[n_train:n_train+n_val].copy()\n",
        "df_test = df_shuffled.iloc[n_train+n_val:].copy()\n",
        "\n",
        "y_train_orig = df_train.price.values\n",
        "y_val_orig = df_val.price.values\n",
        "y_test_orig = df_test.price.values\n",
        "\n",
        "y_train = np.log1p(df_train.price.values)\n",
        "y_val = np.log1p(df_val.price.values)\n",
        "y_test = np.log1p(df_test.price.values)\n",
        "\n",
        "del df_train['price']\n",
        "del df_val['price']\n",
        "del df_test['price']\n",
        "\n",
        "def prepare_0(df):\n",
        "    df_num = df[features_lr]\n",
        "    df_num = df_num.fillna(0)\n",
        "    X = df_num.values\n",
        "    return X\n",
        "\n",
        "df_train = prepare_0(df_train)\n",
        "df_val = prepare_0(df_val)\n",
        "df_test = prepare_0(df_test)\n",
        "\n",
        "def train_linear_regression(X, y):\n",
        "    ones = np.ones(X.shape[0])\n",
        "    X = np.column_stack([ones, X])\n",
        "\n",
        "    XTX = X.T.dot(X)\n",
        "    XTX_inv = np.linalg.inv(XTX)\n",
        "    w = XTX_inv.dot(X.T).dot(y)\n",
        "    \n",
        "    return w[0], w[1:]\n",
        "\n",
        "w_0, w = train_linear_regression(df_train, y_train)\n",
        "y_pred = w_0 + df_val.dot(w)\n",
        "\n",
        "def rmse(y, y_pred):\n",
        "    error = y_pred - y\n",
        "    mse = (error ** 2).mean()\n",
        "    return np.sqrt(mse)\n",
        "\n",
        "results.append(rmse(y_val, y_pred))"
      ],
      "execution_count": 45,
      "outputs": []
    },
    {
      "cell_type": "code",
      "metadata": {
        "id": "3nzS85OLVFhy"
      },
      "source": [
        "np.random.seed(3)\n",
        "\n",
        "n = len(df)\n",
        "\n",
        "n_val = int(0.2 * n)\n",
        "n_test = int(0.2 * n)\n",
        "n_train = n - (n_val + n_test)\n",
        "\n",
        "idx = np.arange(n)\n",
        "np.random.shuffle(idx)\n",
        "\n",
        "df_shuffled = df.iloc[idx]\n",
        "\n",
        "df_train = df_shuffled.iloc[:n_train].copy()\n",
        "df_val = df_shuffled.iloc[n_train:n_train+n_val].copy()\n",
        "df_test = df_shuffled.iloc[n_train+n_val:].copy()\n",
        "\n",
        "y_train_orig = df_train.price.values\n",
        "y_val_orig = df_val.price.values\n",
        "y_test_orig = df_test.price.values\n",
        "\n",
        "y_train = np.log1p(df_train.price.values)\n",
        "y_val = np.log1p(df_val.price.values)\n",
        "y_test = np.log1p(df_test.price.values)\n",
        "\n",
        "del df_train['price']\n",
        "del df_val['price']\n",
        "del df_test['price']\n",
        "\n",
        "def prepare_0(df):\n",
        "    df_num = df[features_lr]\n",
        "    df_num = df_num.fillna(0)\n",
        "    X = df_num.values\n",
        "    return X\n",
        "\n",
        "df_train = prepare_0(df_train)\n",
        "df_val = prepare_0(df_val)\n",
        "df_test = prepare_0(df_test)\n",
        "\n",
        "def train_linear_regression(X, y):\n",
        "    ones = np.ones(X.shape[0])\n",
        "    X = np.column_stack([ones, X])\n",
        "\n",
        "    XTX = X.T.dot(X)\n",
        "    XTX_inv = np.linalg.inv(XTX)\n",
        "    w = XTX_inv.dot(X.T).dot(y)\n",
        "    \n",
        "    return w[0], w[1:]\n",
        "\n",
        "w_0, w = train_linear_regression(df_train, y_train)\n",
        "y_pred = w_0 + df_val.dot(w)\n",
        "\n",
        "def rmse(y, y_pred):\n",
        "    error = y_pred - y\n",
        "    mse = (error ** 2).mean()\n",
        "    return np.sqrt(mse)\n",
        "\n",
        "results.append(rmse(y_val, y_pred))"
      ],
      "execution_count": 46,
      "outputs": []
    },
    {
      "cell_type": "code",
      "metadata": {
        "id": "t4D9zjFeVYBq"
      },
      "source": [
        "np.random.seed(4)\n",
        "\n",
        "n = len(df)\n",
        "\n",
        "n_val = int(0.2 * n)\n",
        "n_test = int(0.2 * n)\n",
        "n_train = n - (n_val + n_test)\n",
        "\n",
        "idx = np.arange(n)\n",
        "np.random.shuffle(idx)\n",
        "\n",
        "df_shuffled = df.iloc[idx]\n",
        "\n",
        "df_train = df_shuffled.iloc[:n_train].copy()\n",
        "df_val = df_shuffled.iloc[n_train:n_train+n_val].copy()\n",
        "df_test = df_shuffled.iloc[n_train+n_val:].copy()\n",
        "\n",
        "y_train_orig = df_train.price.values\n",
        "y_val_orig = df_val.price.values\n",
        "y_test_orig = df_test.price.values\n",
        "\n",
        "y_train = np.log1p(df_train.price.values)\n",
        "y_val = np.log1p(df_val.price.values)\n",
        "y_test = np.log1p(df_test.price.values)\n",
        "\n",
        "del df_train['price']\n",
        "del df_val['price']\n",
        "del df_test['price']\n",
        "\n",
        "def prepare_0(df):\n",
        "    df_num = df[features_lr]\n",
        "    df_num = df_num.fillna(0)\n",
        "    X = df_num.values\n",
        "    return X\n",
        "\n",
        "df_train = prepare_0(df_train)\n",
        "df_val = prepare_0(df_val)\n",
        "df_test = prepare_0(df_test)\n",
        "\n",
        "def train_linear_regression(X, y):\n",
        "    ones = np.ones(X.shape[0])\n",
        "    X = np.column_stack([ones, X])\n",
        "\n",
        "    XTX = X.T.dot(X)\n",
        "    XTX_inv = np.linalg.inv(XTX)\n",
        "    w = XTX_inv.dot(X.T).dot(y)\n",
        "    \n",
        "    return w[0], w[1:]\n",
        "\n",
        "w_0, w = train_linear_regression(df_train, y_train)\n",
        "y_pred = w_0 + df_val.dot(w)\n",
        "\n",
        "def rmse(y, y_pred):\n",
        "    error = y_pred - y\n",
        "    mse = (error ** 2).mean()\n",
        "    return np.sqrt(mse)\n",
        "\n",
        "results.append(rmse(y_val, y_pred))"
      ],
      "execution_count": 47,
      "outputs": []
    },
    {
      "cell_type": "code",
      "metadata": {
        "id": "kXBzXDG2VZqz"
      },
      "source": [
        "np.random.seed(5)\n",
        "\n",
        "n = len(df)\n",
        "\n",
        "n_val = int(0.2 * n)\n",
        "n_test = int(0.2 * n)\n",
        "n_train = n - (n_val + n_test)\n",
        "\n",
        "idx = np.arange(n)\n",
        "np.random.shuffle(idx)\n",
        "\n",
        "df_shuffled = df.iloc[idx]\n",
        "\n",
        "df_train = df_shuffled.iloc[:n_train].copy()\n",
        "df_val = df_shuffled.iloc[n_train:n_train+n_val].copy()\n",
        "df_test = df_shuffled.iloc[n_train+n_val:].copy()\n",
        "\n",
        "y_train_orig = df_train.price.values\n",
        "y_val_orig = df_val.price.values\n",
        "y_test_orig = df_test.price.values\n",
        "\n",
        "y_train = np.log1p(df_train.price.values)\n",
        "y_val = np.log1p(df_val.price.values)\n",
        "y_test = np.log1p(df_test.price.values)\n",
        "\n",
        "del df_train['price']\n",
        "del df_val['price']\n",
        "del df_test['price']\n",
        "\n",
        "def prepare_0(df):\n",
        "    df_num = df[features_lr]\n",
        "    df_num = df_num.fillna(0)\n",
        "    X = df_num.values\n",
        "    return X\n",
        "\n",
        "df_train = prepare_0(df_train)\n",
        "df_val = prepare_0(df_val)\n",
        "df_test = prepare_0(df_test)\n",
        "\n",
        "def train_linear_regression(X, y):\n",
        "    ones = np.ones(X.shape[0])\n",
        "    X = np.column_stack([ones, X])\n",
        "\n",
        "    XTX = X.T.dot(X)\n",
        "    XTX_inv = np.linalg.inv(XTX)\n",
        "    w = XTX_inv.dot(X.T).dot(y)\n",
        "    \n",
        "    return w[0], w[1:]\n",
        "\n",
        "w_0, w = train_linear_regression(df_train, y_train)\n",
        "y_pred = w_0 + df_val.dot(w)\n",
        "\n",
        "def rmse(y, y_pred):\n",
        "    error = y_pred - y\n",
        "    mse = (error ** 2).mean()\n",
        "    return np.sqrt(mse)\n",
        "\n",
        "results.append(rmse(y_val, y_pred))"
      ],
      "execution_count": 48,
      "outputs": []
    },
    {
      "cell_type": "code",
      "metadata": {
        "id": "ogEfX_9tVbu3"
      },
      "source": [
        "np.random.seed(6)\n",
        "\n",
        "n = len(df)\n",
        "\n",
        "n_val = int(0.2 * n)\n",
        "n_test = int(0.2 * n)\n",
        "n_train = n - (n_val + n_test)\n",
        "\n",
        "idx = np.arange(n)\n",
        "np.random.shuffle(idx)\n",
        "\n",
        "df_shuffled = df.iloc[idx]\n",
        "\n",
        "df_train = df_shuffled.iloc[:n_train].copy()\n",
        "df_val = df_shuffled.iloc[n_train:n_train+n_val].copy()\n",
        "df_test = df_shuffled.iloc[n_train+n_val:].copy()\n",
        "\n",
        "y_train_orig = df_train.price.values\n",
        "y_val_orig = df_val.price.values\n",
        "y_test_orig = df_test.price.values\n",
        "\n",
        "y_train = np.log1p(df_train.price.values)\n",
        "y_val = np.log1p(df_val.price.values)\n",
        "y_test = np.log1p(df_test.price.values)\n",
        "\n",
        "del df_train['price']\n",
        "del df_val['price']\n",
        "del df_test['price']\n",
        "\n",
        "def prepare_0(df):\n",
        "    df_num = df[features_lr]\n",
        "    df_num = df_num.fillna(0)\n",
        "    X = df_num.values\n",
        "    return X\n",
        "\n",
        "df_train = prepare_0(df_train)\n",
        "df_val = prepare_0(df_val)\n",
        "df_test = prepare_0(df_test)\n",
        "\n",
        "def train_linear_regression(X, y):\n",
        "    ones = np.ones(X.shape[0])\n",
        "    X = np.column_stack([ones, X])\n",
        "\n",
        "    XTX = X.T.dot(X)\n",
        "    XTX_inv = np.linalg.inv(XTX)\n",
        "    w = XTX_inv.dot(X.T).dot(y)\n",
        "    \n",
        "    return w[0], w[1:]\n",
        "\n",
        "w_0, w = train_linear_regression(df_train, y_train)\n",
        "y_pred = w_0 + df_val.dot(w)\n",
        "\n",
        "def rmse(y, y_pred):\n",
        "    error = y_pred - y\n",
        "    mse = (error ** 2).mean()\n",
        "    return np.sqrt(mse)\n",
        "\n",
        "results.append(rmse(y_val, y_pred))"
      ],
      "execution_count": 49,
      "outputs": []
    },
    {
      "cell_type": "code",
      "metadata": {
        "id": "nsKLfmh5VdkU"
      },
      "source": [
        "np.random.seed(7)\n",
        "\n",
        "n = len(df)\n",
        "\n",
        "n_val = int(0.2 * n)\n",
        "n_test = int(0.2 * n)\n",
        "n_train = n - (n_val + n_test)\n",
        "\n",
        "idx = np.arange(n)\n",
        "np.random.shuffle(idx)\n",
        "\n",
        "df_shuffled = df.iloc[idx]\n",
        "\n",
        "df_train = df_shuffled.iloc[:n_train].copy()\n",
        "df_val = df_shuffled.iloc[n_train:n_train+n_val].copy()\n",
        "df_test = df_shuffled.iloc[n_train+n_val:].copy()\n",
        "\n",
        "y_train_orig = df_train.price.values\n",
        "y_val_orig = df_val.price.values\n",
        "y_test_orig = df_test.price.values\n",
        "\n",
        "y_train = np.log1p(df_train.price.values)\n",
        "y_val = np.log1p(df_val.price.values)\n",
        "y_test = np.log1p(df_test.price.values)\n",
        "\n",
        "del df_train['price']\n",
        "del df_val['price']\n",
        "del df_test['price']\n",
        "\n",
        "def prepare_0(df):\n",
        "    df_num = df[features_lr]\n",
        "    df_num = df_num.fillna(0)\n",
        "    X = df_num.values\n",
        "    return X\n",
        "\n",
        "df_train = prepare_0(df_train)\n",
        "df_val = prepare_0(df_val)\n",
        "df_test = prepare_0(df_test)\n",
        "\n",
        "def train_linear_regression(X, y):\n",
        "    ones = np.ones(X.shape[0])\n",
        "    X = np.column_stack([ones, X])\n",
        "\n",
        "    XTX = X.T.dot(X)\n",
        "    XTX_inv = np.linalg.inv(XTX)\n",
        "    w = XTX_inv.dot(X.T).dot(y)\n",
        "    \n",
        "    return w[0], w[1:]\n",
        "\n",
        "w_0, w = train_linear_regression(df_train, y_train)\n",
        "y_pred = w_0 + df_val.dot(w)\n",
        "\n",
        "def rmse(y, y_pred):\n",
        "    error = y_pred - y\n",
        "    mse = (error ** 2).mean()\n",
        "    return np.sqrt(mse)\n",
        "\n",
        "results.append(rmse(y_val, y_pred))"
      ],
      "execution_count": 50,
      "outputs": []
    },
    {
      "cell_type": "code",
      "metadata": {
        "id": "nPttVq1eVf0L"
      },
      "source": [
        "np.random.seed(8)\n",
        "\n",
        "n = len(df)\n",
        "\n",
        "n_val = int(0.2 * n)\n",
        "n_test = int(0.2 * n)\n",
        "n_train = n - (n_val + n_test)\n",
        "\n",
        "idx = np.arange(n)\n",
        "np.random.shuffle(idx)\n",
        "\n",
        "df_shuffled = df.iloc[idx]\n",
        "\n",
        "df_train = df_shuffled.iloc[:n_train].copy()\n",
        "df_val = df_shuffled.iloc[n_train:n_train+n_val].copy()\n",
        "df_test = df_shuffled.iloc[n_train+n_val:].copy()\n",
        "\n",
        "y_train_orig = df_train.price.values\n",
        "y_val_orig = df_val.price.values\n",
        "y_test_orig = df_test.price.values\n",
        "\n",
        "y_train = np.log1p(df_train.price.values)\n",
        "y_val = np.log1p(df_val.price.values)\n",
        "y_test = np.log1p(df_test.price.values)\n",
        "\n",
        "del df_train['price']\n",
        "del df_val['price']\n",
        "del df_test['price']\n",
        "\n",
        "def prepare_0(df):\n",
        "    df_num = df[features_lr]\n",
        "    df_num = df_num.fillna(0)\n",
        "    X = df_num.values\n",
        "    return X\n",
        "\n",
        "df_train = prepare_0(df_train)\n",
        "df_val = prepare_0(df_val)\n",
        "df_test = prepare_0(df_test)\n",
        "\n",
        "def train_linear_regression(X, y):\n",
        "    ones = np.ones(X.shape[0])\n",
        "    X = np.column_stack([ones, X])\n",
        "\n",
        "    XTX = X.T.dot(X)\n",
        "    XTX_inv = np.linalg.inv(XTX)\n",
        "    w = XTX_inv.dot(X.T).dot(y)\n",
        "    \n",
        "    return w[0], w[1:]\n",
        "\n",
        "w_0, w = train_linear_regression(df_train, y_train)\n",
        "y_pred = w_0 + df_val.dot(w)\n",
        "\n",
        "def rmse(y, y_pred):\n",
        "    error = y_pred - y\n",
        "    mse = (error ** 2).mean()\n",
        "    return np.sqrt(mse)\n",
        "\n",
        "results.append(rmse(y_val, y_pred))"
      ],
      "execution_count": 51,
      "outputs": []
    },
    {
      "cell_type": "code",
      "metadata": {
        "id": "1eDVgIyTVhT-"
      },
      "source": [
        "np.random.seed(9)\n",
        "\n",
        "n = len(df)\n",
        "\n",
        "n_val = int(0.2 * n)\n",
        "n_test = int(0.2 * n)\n",
        "n_train = n - (n_val + n_test)\n",
        "\n",
        "idx = np.arange(n)\n",
        "np.random.shuffle(idx)\n",
        "\n",
        "df_shuffled = df.iloc[idx]\n",
        "\n",
        "df_train = df_shuffled.iloc[:n_train].copy()\n",
        "df_val = df_shuffled.iloc[n_train:n_train+n_val].copy()\n",
        "df_test = df_shuffled.iloc[n_train+n_val:].copy()\n",
        "\n",
        "y_train_orig = df_train.price.values\n",
        "y_val_orig = df_val.price.values\n",
        "y_test_orig = df_test.price.values\n",
        "\n",
        "y_train = np.log1p(df_train.price.values)\n",
        "y_val = np.log1p(df_val.price.values)\n",
        "y_test = np.log1p(df_test.price.values)\n",
        "\n",
        "del df_train['price']\n",
        "del df_val['price']\n",
        "del df_test['price']\n",
        "\n",
        "def prepare_0(df):\n",
        "    df_num = df[features_lr]\n",
        "    df_num = df_num.fillna(0)\n",
        "    X = df_num.values\n",
        "    return X\n",
        "\n",
        "df_train = prepare_0(df_train)\n",
        "df_val = prepare_0(df_val)\n",
        "df_test = prepare_0(df_test)\n",
        "\n",
        "def train_linear_regression(X, y):\n",
        "    ones = np.ones(X.shape[0])\n",
        "    X = np.column_stack([ones, X])\n",
        "\n",
        "    XTX = X.T.dot(X)\n",
        "    XTX_inv = np.linalg.inv(XTX)\n",
        "    w = XTX_inv.dot(X.T).dot(y)\n",
        "    \n",
        "    return w[0], w[1:]\n",
        "\n",
        "w_0, w = train_linear_regression(df_train, y_train)\n",
        "y_pred = w_0 + df_val.dot(w)\n",
        "\n",
        "def rmse(y, y_pred):\n",
        "    error = y_pred - y\n",
        "    mse = (error ** 2).mean()\n",
        "    return np.sqrt(mse)\n",
        "\n",
        "results.append(rmse(y_val, y_pred))"
      ],
      "execution_count": 52,
      "outputs": []
    },
    {
      "cell_type": "code",
      "metadata": {
        "colab": {
          "base_uri": "https://localhost:8080/"
        },
        "id": "fg2tZdC1Vpj3",
        "outputId": "d984654b-018f-49c7-ecaa-04b07ce3eae7"
      },
      "source": [
        "results"
      ],
      "execution_count": 53,
      "outputs": [
        {
          "output_type": "execute_result",
          "data": {
            "text/plain": [
              "[0.6549779961157263,\n",
              " 0.646252368578719,\n",
              " 0.6476558177163445,\n",
              " 0.6375145071233626,\n",
              " 0.6445809083551755,\n",
              " 0.6305809996077186,\n",
              " 0.6297851917617103,\n",
              " 0.6506184267164312,\n",
              " 0.6489780353432693,\n",
              " 0.6437565168302604]"
            ]
          },
          "metadata": {},
          "execution_count": 53
        }
      ]
    },
    {
      "cell_type": "code",
      "metadata": {
        "colab": {
          "base_uri": "https://localhost:8080/"
        },
        "id": "yk-YR8G2VqV8",
        "outputId": "83c9452c-fcd3-4db6-a2bc-13b50e2931ee"
      },
      "source": [
        "round(np.std(results), 3)"
      ],
      "execution_count": 56,
      "outputs": [
        {
          "output_type": "execute_result",
          "data": {
            "text/plain": [
              "0.008"
            ]
          },
          "metadata": {},
          "execution_count": 56
        }
      ]
    },
    {
      "cell_type": "markdown",
      "metadata": {
        "id": "-C1JcJ0YV5-4"
      },
      "source": [
        "Question 6:\n",
        "\n",
        "Split the dataset like previously, use seed 9.\n",
        "Combine train and validation datasets.\n",
        "Fill the missing values with 0 and train a model with r=0.001.\n",
        "What's the RMSE on the test dataset?"
      ]
    },
    {
      "cell_type": "code",
      "metadata": {
        "colab": {
          "base_uri": "https://localhost:8080/"
        },
        "id": "7sSM9EgaVvGP",
        "outputId": "5b5c27e5-8df1-4c70-fecb-2b7f0baa4606"
      },
      "source": [
        "np.random.seed(9)\n",
        "\n",
        "n = len(df)\n",
        "\n",
        "n_val = int(0.2 * n)\n",
        "n_test = int(0.2 * n)\n",
        "n_train = n - (n_val + n_test)\n",
        "\n",
        "idx = np.arange(n)\n",
        "np.random.shuffle(idx)\n",
        "\n",
        "df_shuffled = df.iloc[idx]\n",
        "\n",
        "df_train = df_shuffled.iloc[:n_train].copy()\n",
        "df_val = df_shuffled.iloc[n_train:n_train+n_val].copy()\n",
        "df_test = df_shuffled.iloc[n_train+n_val:].copy()\n",
        "\n",
        "y_train_orig = df_train.price.values\n",
        "y_val_orig = df_val.price.values\n",
        "y_test_orig = df_test.price.values\n",
        "\n",
        "y_train = pd.DataFrame(np.log1p(df_train.price.values))\n",
        "y_val = pd.DataFrame(np.log1p(df_val.price.values))\n",
        "y_test = np.log1p(df_test.price.values)\n",
        "\n",
        "del df_train['price']\n",
        "del df_val['price']\n",
        "del df_test['price']\n",
        "\n",
        "def prepare_0(df):\n",
        "    df_num = df[features_lr]\n",
        "    df_num = df_num.fillna(0)\n",
        "    X = df_num.values\n",
        "    return X\n",
        "\n",
        "df_train = pd.DataFrame(prepare_0(df_train))\n",
        "df_val = pd.DataFrame(prepare_0(df_val))\n",
        "df_test = prepare_0(df_test)\n",
        "\n",
        "def train_linear_regression_reg(X, y, r):\n",
        "    ones = np.ones(X.shape[0])\n",
        "    X = np.column_stack([ones, X])\n",
        "\n",
        "    XTX = X.T.dot(X)\n",
        "    reg = r * np.eye(XTX.shape[0])\n",
        "    XTX = XTX + reg\n",
        "\n",
        "    XTX_inv = np.linalg.inv(XTX)\n",
        "    w = XTX_inv.dot(X.T).dot(y)\n",
        "    \n",
        "    return w[0], w[1:]\n",
        "\n",
        "w_0, w = train_linear_regression_reg(pd.concat([df_train, df_val]), pd.concat([y_train, y_val]), 0.001)\n",
        "y_pred = w_0 + df_test.dot(w)\n",
        "\n",
        "def rmse(y, y_pred):\n",
        "    error = y_pred - y\n",
        "    mse = (error ** 2).mean()\n",
        "    return np.sqrt(mse)\n",
        "\n",
        "rmse(y_test, y_pred)"
      ],
      "execution_count": 70,
      "outputs": [
        {
          "output_type": "execute_result",
          "data": {
            "text/plain": [
              "0.7390321239198335"
            ]
          },
          "metadata": {},
          "execution_count": 70
        }
      ]
    },
    {
      "cell_type": "code",
      "metadata": {
        "id": "M_wA54SsYYil"
      },
      "source": [
        ""
      ],
      "execution_count": null,
      "outputs": []
    }
  ]
}